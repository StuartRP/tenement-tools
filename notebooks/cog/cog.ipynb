{
 "cells": [
  {
   "cell_type": "markdown",
   "metadata": {},
   "source": [
    "# COG"
   ]
  },
  {
   "cell_type": "markdown",
   "metadata": {},
   "source": [
    "## Initialise COG"
   ]
  },
  {
   "cell_type": "code",
   "execution_count": 1,
   "metadata": {},
   "outputs": [
    {
     "name": "stdout",
     "output_type": "stream",
     "text": [
      "delete this!\n",
      "remove this\n"
     ]
    }
   ],
   "source": [
    "%load_ext autoreload\n",
    "\n",
    "# imports todo - fix this up properly\n",
    "import os, certifi\n",
    "os.environ['GDAL_DATA']  = r'C:\\Program Files\\ArcGIS\\Pro\\Resources\\pedata\\gdaldata'\n",
    "os.environ.setdefault(\"CURL_CA_BUNDLE\", certifi.where())\n",
    "\n",
    "import os\n",
    "import sys\n",
    "import numpy as np\n",
    "#import pandas as pd\n",
    "import xarray as xr\n",
    "import matplotlib.pyplot as plt\n",
    "\n",
    "import dask\n",
    "import dask.array as da\n",
    "\n",
    "sys.path.append('../../modules')\n",
    "import cog"
   ]
  },
  {
   "cell_type": "markdown",
   "metadata": {},
   "source": [
    "### Set Globals (i.e. AWS keys)"
   ]
  },
  {
   "cell_type": "code",
   "execution_count": 2,
   "metadata": {},
   "outputs": [],
   "source": [
    "# set globals\n",
    "AWS_KEY = ''\n",
    "AWS_SECRET = ''\n",
    "STAC_ENDPOINT = 'https://explorer.sandbox.dea.ga.gov.au/stac/search'"
   ]
  },
  {
   "cell_type": "markdown",
   "metadata": {},
   "source": [
    "### Set STAC query parameters"
   ]
  },
  {
   "cell_type": "code",
   "execution_count": 3,
   "metadata": {},
   "outputs": [],
   "source": [
    "# get satellite collection on dea. todo get from user in arcgis, sentinel 2\n",
    "collections = [\n",
    "    'ga_ls5t_ard_3', \n",
    "    'ga_ls7e_ard_3',\n",
    "    'ga_ls8c_ard_3'\n",
    "]\n",
    "\n",
    "# exclude slc\n",
    "slc_off = False\n",
    "\n",
    "# get satellite collection date range, convert to stac. todo get from user in arcgis\n",
    "start_dt, end_dt = '1990-01-01', '2020-12-31'\n",
    "\n",
    "# set temp boundary for testing\n",
    "bbox = [\n",
    "    118.92837524414061,\n",
    "    -22.816061209792938,\n",
    "    119.16526794433592,\n",
    "    -22.68118293381927\n",
    "    ]\n",
    "\n",
    "# set search limits\n",
    "limit = 200"
   ]
  },
  {
   "cell_type": "markdown",
   "metadata": {},
   "source": [
    "### Fetch STAC data"
   ]
  },
  {
   "cell_type": "code",
   "execution_count": 4,
   "metadata": {},
   "outputs": [
    {
     "name": "stdout",
     "output_type": "stream",
     "text": [
      "Beginning STAC search for items. This can take awhile.\n",
      "Searching collection: ga_ls5t_ard_3\n",
      "Searching collection: ga_ls7e_ard_3\n",
      "> Excluding SLC-off times.\n",
      "Searching collection: ga_ls8c_ard_3\n",
      "Sorting result by time (old to new).\n",
      "Found a total of 863 scenes.\n"
     ]
    }
   ],
   "source": [
    "# fetch results\n",
    "feats = cog.fetch_stac_data(stac_endpoint=STAC_ENDPOINT, \n",
    "                            collections=collections, \n",
    "                            start_dt=start_dt, \n",
    "                            end_dt=end_dt, \n",
    "                            bbox=bbox,\n",
    "                            slc_off=slc_off,\n",
    "                            limit=limit)"
   ]
  },
  {
   "cell_type": "markdown",
   "metadata": {},
   "source": [
    "### Set COG parameters"
   ]
  },
  {
   "cell_type": "code",
   "execution_count": 5,
   "metadata": {},
   "outputs": [],
   "source": [
    "# set required bands\n",
    "assets = [\n",
    "    'nbart_blue', \n",
    "    'nbart_green', \n",
    "    'nbart_red', \n",
    "    'nbart_nir',\n",
    "    'nbart_swir_1',\n",
    "    'nbart_swir_2',\n",
    "    'oa_fmask'\n",
    "]\n",
    "\n",
    "# set resampling algorithm\n",
    "resampling = 'nearest'\n",
    "\n",
    "# set output dtype\n",
    "out_dtype = 'int16'\n",
    "\n",
    "# set out resolution\n",
    "out_resolution = 30\n",
    "\n",
    "# set fill value\n",
    "out_fill_value = -999\n",
    "\n",
    "# output epsg\n",
    "out_epsg = 3577\n",
    "\n",
    "# snap boundary coords\n",
    "snap_bounds = True\n",
    "\n",
    "# set output rescale\n",
    "out_rescale = True\n",
    "\n",
    "# chunk size\n",
    "chunk_size=-1 #512\n",
    "\n",
    "# set pixel location for cell alignment\n",
    "out_pixel_loc = 'topleft'"
   ]
  },
  {
   "cell_type": "markdown",
   "metadata": {},
   "source": [
    "### Prepare raw stac into useable format"
   ]
  },
  {
   "cell_type": "code",
   "execution_count": 6,
   "metadata": {},
   "outputs": [
    {
     "name": "stdout",
     "output_type": "stream",
     "text": [
      "Translating raw STAC data into numpy format.\n",
      "Translated raw STAC data successfully.\n"
     ]
    }
   ],
   "source": [
    "# convert raw stac into dict with coord reproject, etc.\n",
    "meta, asset_table = cog.prepare_data(feats, \n",
    "                                     assets=assets,\n",
    "                                     bounds_latlon=bbox, \n",
    "                                     bounds=None, \n",
    "                                     epsg=out_epsg, \n",
    "                                     resolution=out_resolution, \n",
    "                                     snap_bounds=snap_bounds,\n",
    "                                     force_dea_http=True)"
   ]
  },
  {
   "cell_type": "markdown",
   "metadata": {},
   "source": [
    "### Convert data to dask array"
   ]
  },
  {
   "cell_type": "code",
   "execution_count": 7,
   "metadata": {},
   "outputs": [],
   "source": [
    "# todo: go through todos in here, especially nodatareader"
   ]
  },
  {
   "cell_type": "code",
   "execution_count": 8,
   "metadata": {},
   "outputs": [
    {
     "name": "stdout",
     "output_type": "stream",
     "text": [
      "Converting data into dask array.\n",
      "Converted data successfully.\n"
     ]
    }
   ],
   "source": [
    "# NEED TO LOOK AT THIS FUNC AND MAKE IT YOURS\n",
    "da = cog.convert_to_dask(meta=meta, \n",
    "                         asset_table=asset_table, \n",
    "                         chunksize=chunk_size,\n",
    "                         resampling=resampling, \n",
    "                         dtype=out_dtype, \n",
    "                         fill_value=out_fill_value, \n",
    "                         rescale=out_rescale)"
   ]
  },
  {
   "cell_type": "markdown",
   "metadata": {},
   "source": [
    "### Build xarray dataset"
   ]
  },
  {
   "cell_type": "code",
   "execution_count": 9,
   "metadata": {},
   "outputs": [],
   "source": [
    "# generate coordinates and dimensions from metadata\n",
    "coords, dims = cog.build_coords(feats=feats,\n",
    "                                assets=assets, \n",
    "                                meta=meta,\n",
    "                                pix_loc=out_pixel_loc)\n",
    "\n",
    "# generate attributes\n",
    "attrs = cog.build_attributes(meta=meta, \n",
    "                             fill_value=out_fill_value, \n",
    "                             collections=collections, \n",
    "                             slc_off=slc_off, \n",
    "                             bbox=bbox)\n",
    "\n",
    "# build final xarray data array\n",
    "ds = xr.DataArray(da,\n",
    "                  coords=coords,\n",
    "                  dims=dims,\n",
    "                  attrs=attrs,\n",
    "                  name='stac-' + dask.base.tokenize(da)\n",
    "                 )\n",
    "\n",
    "# comvert to cleaner xarray dataset\n",
    "ds = ds.to_dataset(dim='band')"
   ]
  },
  {
   "cell_type": "markdown",
   "metadata": {},
   "source": [
    "### Compute dataset"
   ]
  },
  {
   "cell_type": "code",
   "execution_count": null,
   "metadata": {},
   "outputs": [
    {
     "name": "stdout",
     "output_type": "stream",
     "text": [
      "[################################        ] | 80% Completed | 12min 54.5s"
     ]
    }
   ],
   "source": [
    "from dask.diagnostics import ProgressBar\n",
    "ProgressBar().register()\n",
    "\n",
    "# compute\n",
    "ds = ds.compute()"
   ]
  },
  {
   "cell_type": "markdown",
   "metadata": {},
   "source": [
    "### Drop invalid pixels and nodata values"
   ]
  },
  {
   "cell_type": "code",
   "execution_count": null,
   "metadata": {},
   "outputs": [],
   "source": [
    "# set fmask parameters\n",
    "valid_class = [1, 4, 5]\n",
    "\n",
    "# set max invalid percentage\n",
    "max_invalid = 5\n",
    "\n",
    "# set name of fmask\n",
    "mask_band = 'oa_fmask'\n",
    "\n",
    "# set the nodata value to replace fmask values with\n",
    "nodata_value = np.nan\n",
    "\n",
    "# drop mask band once done?\n",
    "drop_fmask = True\n",
    "\n",
    "# remove data where times invalid\n",
    "ds = cog.remove_fmask_dates(ds, \n",
    "                            valid_class=valid_class,\n",
    "                            max_invalid=max_invalid,\n",
    "                            mask_band=mask_band,\n",
    "                            drop_fmask=drop_fmask)"
   ]
  },
  {
   "cell_type": "code",
   "execution_count": null,
   "metadata": {},
   "outputs": [],
   "source": [
    "ds['nbart_red'].isel(time=40).plot(robust=True)"
   ]
  },
  {
   "cell_type": "code",
   "execution_count": null,
   "metadata": {},
   "outputs": [],
   "source": [
    "ds"
   ]
  },
  {
   "cell_type": "code",
   "execution_count": null,
   "metadata": {},
   "outputs": [],
   "source": []
  }
 ],
 "metadata": {
  "kernelspec": {
   "display_name": "Python 3",
   "language": "python",
   "name": "python3"
  },
  "language_info": {
   "codemirror_mode": {
    "name": "ipython",
    "version": 3
   },
   "file_extension": ".py",
   "mimetype": "text/x-python",
   "name": "python",
   "nbconvert_exporter": "python",
   "pygments_lexer": "ipython3",
   "version": "3.7.10"
  }
 },
 "nbformat": 4,
 "nbformat_minor": 4
}
