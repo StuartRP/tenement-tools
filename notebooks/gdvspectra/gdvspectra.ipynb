{
 "cells": [
  {
   "cell_type": "markdown",
   "metadata": {},
   "source": [
    "# GDVSpectra"
   ]
  },
  {
   "cell_type": "markdown",
   "metadata": {},
   "source": [
    "## Initialise GDVSpectra"
   ]
  },
  {
   "cell_type": "markdown",
   "metadata": {},
   "source": [
    "### Load packages"
   ]
  },
  {
   "cell_type": "code",
   "execution_count": 1,
   "metadata": {},
   "outputs": [
    {
     "name": "stderr",
     "output_type": "stream",
     "text": [
      "/env/lib/python3.6/site-packages/geopandas/_compat.py:88: UserWarning: The Shapely GEOS version (3.7.2-CAPI-1.11.0 ) is incompatible with the GEOS version PyGEOS was compiled with (3.9.0-CAPI-1.16.2). Conversions between both will be slow.\n",
      "  shapely_geos_version, geos_capi_version_string\n"
     ]
    }
   ],
   "source": [
    "%matplotlib inline\n",
    "%load_ext autoreload\n",
    "\n",
    "import os, sys\n",
    "import pandas as pd\n",
    "import numpy as np\n",
    "import xarray as xr\n",
    "import matplotlib.pyplot as plt\n",
    "\n",
    "import datacube\n",
    "sys.path.append('../../../Scripts')\n",
    "from dea_datahandling import load_ard\n",
    "from dea_dask import create_local_dask_cluster\n",
    "from dea_plotting import display_map, rgb\n",
    "\n",
    "sys.path.append('../../modules')\n",
    "import gdvspectra\n",
    "\n",
    "sys.path.append('../../shared')\n",
    "import satfetcher, tools"
   ]
  },
  {
   "cell_type": "markdown",
   "metadata": {},
   "source": [
    "### Set up a dask cluster and ODC"
   ]
  },
  {
   "cell_type": "code",
   "execution_count": 2,
   "metadata": {},
   "outputs": [
    {
     "data": {
      "text/html": [
       "<table style=\"border: 2px solid white;\">\n",
       "<tr>\n",
       "<td style=\"vertical-align: top; border: 0px solid white\">\n",
       "<h3 style=\"text-align: left;\">Client</h3>\n",
       "<ul style=\"text-align: left; list-style: none; margin: 0; padding: 0;\">\n",
       "  <li><b>Scheduler: </b>tcp://127.0.0.1:45723</li>\n",
       "  <li><b>Dashboard: </b><a href='/user/lewis/proxy/8787/status' target='_blank'>/user/lewis/proxy/8787/status</a></li>\n",
       "</ul>\n",
       "</td>\n",
       "<td style=\"vertical-align: top; border: 0px solid white\">\n",
       "<h3 style=\"text-align: left;\">Cluster</h3>\n",
       "<ul style=\"text-align: left; list-style:none; margin: 0; padding: 0;\">\n",
       "  <li><b>Workers: </b>1</li>\n",
       "  <li><b>Cores: </b>2</li>\n",
       "  <li><b>Memory: </b>13.11 GB</li>\n",
       "</ul>\n",
       "</td>\n",
       "</tr>\n",
       "</table>"
      ],
      "text/plain": [
       "<Client: 'tcp://127.0.0.1:45723' processes=1 threads=2, memory=13.11 GB>"
      ]
     },
     "metadata": {},
     "output_type": "display_data"
    }
   ],
   "source": [
    "# initialise the cluster. paste url into dask panel for more info.\n",
    "create_local_dask_cluster()\n",
    "\n",
    "# open up a datacube connection\n",
    "dc = datacube.Datacube(app='gdvspectra')"
   ]
  },
  {
   "cell_type": "markdown",
   "metadata": {},
   "source": [
    "## Study area and data setup"
   ]
  },
  {
   "cell_type": "markdown",
   "metadata": {},
   "source": [
    "### Set study area, time range, show map"
   ]
  },
  {
   "cell_type": "code",
   "execution_count": 3,
   "metadata": {},
   "outputs": [
    {
     "data": {
      "text/html": [
       "<div style=\"width:100%;\"><div style=\"position:relative;width:100%;height:0;padding-bottom:60%;\"><iframe src=\"data:text/html;charset=utf-8;base64,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\" style=\"position:absolute;width:100%;height:100%;left:0;top:0;border:none !important;\" allowfullscreen webkitallowfullscreen mozallowfullscreen></iframe></div></div>"
      ],
      "text/plain": [
       "<folium.folium.Map at 0x7f7cba26b438>"
      ]
     },
     "execution_count": 3,
     "metadata": {},
     "output_type": "execute_result"
    }
   ],
   "source": [
    "# testing study area extent - yandi and roy hill\n",
    "lat_extent, lon_extent = (-22.82901, -22.67901), (118.94980, 119.29979)  # yandi\n",
    "#lat_extent, lon_extent = (-22.63461, -22.33461), (119.88111, 120.18111) # royhill\n",
    "\n",
    "# display onto interacrive map\n",
    "display_map(x=lon_extent, y=lat_extent)"
   ]
  },
  {
   "cell_type": "markdown",
   "metadata": {},
   "source": [
    "### Load DEA ODC satellite data"
   ]
  },
  {
   "cell_type": "code",
   "execution_count": 4,
   "metadata": {},
   "outputs": [
    {
     "name": "stdout",
     "output_type": "stream",
     "text": [
      "Loading DEA ODC ARD satellite data.\n",
      "Finding datasets\n",
      "    ga_ls5t_ard_3\n"
     ]
    },
    {
     "name": "stderr",
     "output_type": "stream",
     "text": [
      "/home/jovyan/tenement-tools/notebooks/gdvspectra/../../../Tools/dea_tools/datahandling.py:237: UserWarning: Setting 'min_gooddata' percentage to > 0.0 will cause dask arrays to compute when loading pixel-quality data to calculate 'good pixel' percentage. This can slow the return of your dataset.\n",
      "  warnings.warn(\"Setting 'min_gooddata' percentage to > 0.0 \"\n"
     ]
    },
    {
     "name": "stdout",
     "output_type": "stream",
     "text": [
      "    ga_ls7e_ard_3\n",
      "    ga_ls8c_ard_3\n",
      "Counting good quality pixels for each time step\n",
      "Filtering to 191 out of 468 time steps with at least 90.0% good quality pixels\n",
      "Applying pixel quality/cloud mask\n",
      "Returning 191 time steps as a dask array\n",
      "Satellite imagery fetched successfully.\n"
     ]
    }
   ],
   "source": [
    "# provide study area name\n",
    "study_area = 'yandi'\n",
    "\n",
    "# select start and end year range\n",
    "time_range = ('2009', '2020')\n",
    "\n",
    "# set datacube query parameters\n",
    "platform = 'landsat'\n",
    "bands = ['nbart_blue', 'nbart_green', 'nbart_red', 'nbart_nir', 'nbart_swir_1', 'nbart_swir_2']\n",
    "#bands = ['nbart_blue', 'nbart_green', 'nbart_red', 'nbart_nir_1', 'nbart_swir_2'] # sentinel\n",
    "min_gooddata = 0.90\n",
    "\n",
    "# fetch satellite data from dea ard product\n",
    "ds = satfetcher.load_dea_ard(platform=platform, \n",
    "                             bands=bands, \n",
    "                             x_extent=lon_extent, \n",
    "                             y_extent=lat_extent, \n",
    "                             time_range=time_range, \n",
    "                             min_gooddata=min_gooddata, \n",
    "                             use_dask=True)\n",
    "\n",
    "# display dataset\n",
    "#ds"
   ]
  },
  {
   "cell_type": "markdown",
   "metadata": {},
   "source": [
    "### Conform band names"
   ]
  },
  {
   "cell_type": "code",
   "execution_count": 5,
   "metadata": {},
   "outputs": [
    {
     "name": "stdout",
     "output_type": "stream",
     "text": [
      "Conforming DEA ARD satellite band names.\n",
      "Satellite band names conformed successfully.\n"
     ]
    }
   ],
   "source": [
    "# rename dea bands to common standard\n",
    "ds = satfetcher.conform_dea_ard_band_names(ds=ds, platform=platform)\n",
    "\n",
    "# display dataset\n",
    "#ds"
   ]
  },
  {
   "cell_type": "markdown",
   "metadata": {},
   "source": [
    "### Make a copy of raw dataset"
   ]
  },
  {
   "cell_type": "code",
   "execution_count": 6,
   "metadata": {},
   "outputs": [],
   "source": [
    "# take a copy of dataset for cva later\n",
    "ds_backup = ds.copy(deep=True)"
   ]
  },
  {
   "cell_type": "markdown",
   "metadata": {},
   "source": [
    "## Generate seasonal vegetation and moisture data"
   ]
  },
  {
   "cell_type": "markdown",
   "metadata": {},
   "source": [
    "### Reduce to wet (jfm) and dry (son) season months"
   ]
  },
  {
   "cell_type": "code",
   "execution_count": null,
   "metadata": {},
   "outputs": [],
   "source": [
    "# set wet and dry season month(s). we will use several per season\n",
    "wet_month, dry_month = [1, 2, 3], [9, 10, 11] # note, fma and ond appear a better contrast\n",
    "\n",
    "# get subset fo data for wet and dry season months\n",
    "ds = gdvspectra.get_wet_dry_months(ds=ds, \n",
    "                                   wet_month=wet_month, \n",
    "                                   dry_month=dry_month)\n",
    "\n",
    "# display dataset\n",
    "#ds"
   ]
  },
  {
   "cell_type": "markdown",
   "metadata": {},
   "source": [
    "### Calculate vegetation and moisture indices"
   ]
  },
  {
   "cell_type": "code",
   "execution_count": null,
   "metadata": {},
   "outputs": [],
   "source": [
    "# calculate veg (mavi) and moist (ndmi) indices\n",
    "ds = tools.calculate_indices(ds=ds, \n",
    "                             index=['mavi', 'ndmi'], \n",
    "                             custom_name=['veg_idx', 'mst_idx'], \n",
    "                             rescale=True, \n",
    "                             drop=True)\n",
    "\n",
    "# display dataset\n",
    "#ds"
   ]
  },
  {
   "cell_type": "markdown",
   "metadata": {},
   "source": [
    "## Resample data"
   ]
  },
  {
   "cell_type": "markdown",
   "metadata": {},
   "source": [
    "### Resample data to annual seasonal (djf and son) medians "
   ]
  },
  {
   "cell_type": "code",
   "execution_count": null,
   "metadata": {},
   "outputs": [],
   "source": [
    "# perform resampling\n",
    "ds = gdvspectra.resample_to_wet_dry_medians(ds=ds, \n",
    "                                            wet_month=wet_month, \n",
    "                                            dry_month=dry_month)\n",
    "\n",
    "# display dataset\n",
    "#ds"
   ]
  },
  {
   "cell_type": "markdown",
   "metadata": {},
   "source": [
    "### Persist memory"
   ]
  },
  {
   "cell_type": "code",
   "execution_count": null,
   "metadata": {},
   "outputs": [],
   "source": [
    "# we have some calcs to make, persist now\n",
    "ds = ds.persist()"
   ]
  },
  {
   "cell_type": "markdown",
   "metadata": {},
   "source": [
    "## Pre-process dataset (e.g., outlier removal, interpolation)"
   ]
  },
  {
   "cell_type": "markdown",
   "metadata": {},
   "source": [
    "### Remove outliers via z-score"
   ]
  },
  {
   "cell_type": "code",
   "execution_count": null,
   "metadata": {},
   "outputs": [],
   "source": [
    "# check for outlier times and nullify whole image. warning: persists memory\n",
    "ds = gdvspectra.nullify_wet_dry_outliers(ds=ds, \n",
    "                                         wet_month=wet_month, \n",
    "                                         dry_month=dry_month, \n",
    "                                         p_value=0.01)\n",
    "\n",
    "# display dataset\n",
    "#ds"
   ]
  },
  {
   "cell_type": "markdown",
   "metadata": {},
   "source": [
    "### Remove any years missing wet, dry season data"
   ]
  },
  {
   "cell_type": "code",
   "execution_count": null,
   "metadata": {},
   "outputs": [],
   "source": [
    "# drop any years from dataset where wet and dry seasons missing\n",
    "ds = gdvspectra.drop_incomplete_wet_dry_years(ds)\n",
    "\n",
    "# display dataset\n",
    "#ds"
   ]
  },
  {
   "cell_type": "markdown",
   "metadata": {},
   "source": [
    "### Fill empty data edges via backward and/or forward fill"
   ]
  },
  {
   "cell_type": "code",
   "execution_count": null,
   "metadata": {},
   "outputs": [],
   "source": [
    "# ! WARNING ! this func requires pre-computed data due to xr-dask bfill and ffill bug\n",
    "# xr-dask bfill/ffill will perform without error, but does not update values in ds\n",
    "# todo - remove this compute when bug fixed in ver > 0.18\n",
    "ds = ds.compute()"
   ]
  },
  {
   "cell_type": "code",
   "execution_count": null,
   "metadata": {},
   "outputs": [],
   "source": [
    "# fill any empty first, last years using back/forward fill\n",
    "ds = gdvspectra.fill_empty_wet_dry_edges(ds=ds,\n",
    "                                         wet_month=wet_month, \n",
    "                                         dry_month=dry_month)\n",
    "\n",
    "# display dataset\n",
    "#ds"
   ]
  },
  {
   "cell_type": "markdown",
   "metadata": {},
   "source": [
    "### Interpolate missing data"
   ]
  },
  {
   "cell_type": "code",
   "execution_count": null,
   "metadata": {},
   "outputs": [],
   "source": [
    "# interpolate all missing pixels using full linear interpolation\n",
    "ds = gdvspectra.interpolate_empty_wet_dry(ds=ds,\n",
    "                                          method='full', \n",
    "                                          wet_month=wet_month, \n",
    "                                          dry_month=dry_month)\n",
    "\n",
    "# display dataset\n",
    "#ds"
   ]
  },
  {
   "cell_type": "markdown",
   "metadata": {},
   "source": [
    "## Standardise data"
   ]
  },
  {
   "cell_type": "markdown",
   "metadata": {},
   "source": [
    "### Generate invariant targets and standardise"
   ]
  },
  {
   "cell_type": "code",
   "execution_count": null,
   "metadata": {},
   "outputs": [],
   "source": [
    "# standardise data to invariant targets derived from dry times\n",
    "ds = gdvspectra.standardise_to_dry_targets(ds=ds, \n",
    "                                           dry_month=dry_month, \n",
    "                                           q_upper=0.99, \n",
    "                                           q_lower=0.05)\n",
    "\n",
    "# display dataset\n",
    "#ds"
   ]
  },
  {
   "cell_type": "markdown",
   "metadata": {},
   "source": [
    "## Calculate seasonal similarity"
   ]
  },
  {
   "cell_type": "code",
   "execution_count": null,
   "metadata": {},
   "outputs": [],
   "source": [
    "# calculate standardised seaonal similarity (diff between wet, dry per year)\n",
    "ds_similarity = gdvspectra.calc_seasonal_similarity(ds=ds,\n",
    "                                                    wet_month=wet_month,\n",
    "                                                    dry_month=dry_month,\n",
    "                                                    q_mask=0.9)\n",
    "\n",
    "# display dataset\n",
    "#ds"
   ]
  },
  {
   "cell_type": "markdown",
   "metadata": {},
   "source": [
    "## Perform GDV likelihood modelling"
   ]
  },
  {
   "cell_type": "markdown",
   "metadata": {},
   "source": [
    "### Generate likelihood model"
   ]
  },
  {
   "cell_type": "code",
   "execution_count": null,
   "metadata": {},
   "outputs": [],
   "source": [
    "# generate gdv likelihood model using wet, dry, similarity variables\n",
    "ds_like = gdvspectra.calc_likelihood(ds=ds, \n",
    "                                     ds_similarity=ds_similarity,\n",
    "                                     wet_month=wet_month, \n",
    "                                     dry_month=dry_month)\n",
    "\n",
    "# preview an all-time median of gdv likelihood. red is high likelihood\n",
    "fig = plt.figure(figsize=(10, 5))\n",
    "ds_like['like'].median('time').plot(robust=True, cmap='jet')"
   ]
  },
  {
   "cell_type": "markdown",
   "metadata": {},
   "source": [
    "### Generate field occurrence points for thresholding"
   ]
  },
  {
   "cell_type": "code",
   "execution_count": null,
   "metadata": {},
   "outputs": [],
   "source": [
    "# set location of point shapefile with presence/absence column\n",
    "#shp_path = r'../GDVSDM/data_testing/presence_points/presence_points.shp'\n",
    "shp_path = r'../../data/gdvspectra/yandi_2_final_albers.shp'\n",
    "\n",
    "# read shapefile as pandas dataframe\n",
    "df_records = tools.read_shapefile(shp_path=shp_path)\n",
    "\n",
    "# subset to just x, y, pres/abse column\n",
    "df_records = tools.subset_records(df_records=df_records, p_a_column='GDV_ACT')\n",
    "\n",
    "# display dataframe\n",
    "#df_records"
   ]
  },
  {
   "cell_type": "markdown",
   "metadata": {},
   "source": [
    "### Threshold likelihood"
   ]
  },
  {
   "cell_type": "code",
   "execution_count": null,
   "metadata": {},
   "outputs": [],
   "source": [
    "# perform thresholding using standard deviation on median likelihood\n",
    "ds_thresh = gdvspectra.threshold_likelihood(ds=ds_like.median('time', keep_attrs=True),\n",
    "                                            df=df_records, \n",
    "                                            num_stdevs=3, \n",
    "                                            res_factor=3, \n",
    "                                            if_nodata='any')\n",
    "\n",
    "# preview an all-time median of gdv likelihood thresholded\n",
    "ds_thresh.where(~ds_thresh.isnull(), 0.001)['like'].plot(robust=False, cmap='jet')"
   ]
  },
  {
   "cell_type": "markdown",
   "metadata": {},
   "source": [
    "### Export GDV likelihood and threshold for later"
   ]
  },
  {
   "cell_type": "code",
   "execution_count": null,
   "metadata": {},
   "outputs": [],
   "source": [
    "# export likelihood and thresholds   \n",
    "tools.export_xr_as_nc(ds_like, filename='ds_likelihood.nc')\n",
    "tools.export_xr_as_nc(ds_thresh, filename='ds_threshold.nc')"
   ]
  },
  {
   "cell_type": "markdown",
   "metadata": {},
   "source": [
    "## Perform trend analysis"
   ]
  },
  {
   "cell_type": "markdown",
   "metadata": {},
   "source": [
    "### Calculate trends using Mann-Kendall trend analysis"
   ]
  },
  {
   "cell_type": "code",
   "execution_count": null,
   "metadata": {},
   "outputs": [],
   "source": [
    "# create a mask where gdv highly likely\n",
    "ds_mask = xr.where(~ds_thresh.isnull(), True, False)\n",
    "\n",
    "# do mk to find sig. inc/dec trends in high likelihood areas\n",
    "ds_mk = gdvspectra.perform_mk_original(ds=ds_like.where(ds_mask), \n",
    "                                        pvalue=None, \n",
    "                                        direction='both')\n",
    "\n",
    "# show mk trends. blue is increasing, red is decreasing\n",
    "ds_mk['tau'].plot(robust=True, cmap='Spectral')"
   ]
  },
  {
   "cell_type": "markdown",
   "metadata": {},
   "source": [
    "### Calculate slope using Theil-Sen"
   ]
  },
  {
   "cell_type": "code",
   "execution_count": null,
   "metadata": {},
   "outputs": [],
   "source": [
    "# create a mask where gdv highly likely\n",
    "ds_mask = xr.where(~ds_thresh.isnull(), True, False)\n",
    "\n",
    "# do theil sen slopes in high likelihood areas\n",
    "ds_ts = gdvspectra.perform_theilsen_slope(ds=ds_like.where(ds_mask), \n",
    "                                          alpha=0.95)\n",
    "\n",
    "# show mk trends. blue is increasing, red is decreasing\n",
    "ds_ts['theilsen'].plot(robust=True, cmap='Spectral')"
   ]
  },
  {
   "cell_type": "markdown",
   "metadata": {},
   "source": [
    "## Peform Change Vector Analysis (CVA)"
   ]
  },
  {
   "cell_type": "markdown",
   "metadata": {},
   "source": [
    "### Get specific months from dataset copy"
   ]
  },
  {
   "cell_type": "code",
   "execution_count": 7,
   "metadata": {},
   "outputs": [
    {
     "name": "stdout",
     "output_type": "stream",
     "text": [
      "Getting requested months for trend analysis.\n",
      "Reducing dataset to months ([9, 10, 11]) for trend analysis.\n",
      "Got trend months successfully.\n"
     ]
    }
   ],
   "source": [
    "# get months we want to assess across years during trend analysis\n",
    "ds_backup = gdvspectra.get_trend_months(ds_backup, trend_month=[9, 10, 11])\n",
    "\n",
    "# display dataset\n",
    "#ds_backup"
   ]
  },
  {
   "cell_type": "markdown",
   "metadata": {},
   "source": [
    "### Generate tasselled cap greenness and brightness"
   ]
  },
  {
   "cell_type": "code",
   "execution_count": 8,
   "metadata": {},
   "outputs": [
    {
     "name": "stdout",
     "output_type": "stream",
     "text": [
      "Calculating indices.\n",
      "Calculating index: tcg\n",
      "Calculating index: tcb\n",
      "Calculated indices successfully.\n"
     ]
    }
   ],
   "source": [
    "# calculate tasselled cap greenness and brightness indices\n",
    "ds_backup = tools.calculate_indices(ds=ds_backup, \n",
    "                                    index=['tcg', 'tcb'],\n",
    "                                    rescale=False, \n",
    "                                    drop=True)\n",
    "\n",
    "# display dataset\n",
    "#ds_backup"
   ]
  },
  {
   "cell_type": "markdown",
   "metadata": {},
   "source": [
    "### Resample annual medians for selected dates"
   ]
  },
  {
   "cell_type": "code",
   "execution_count": 9,
   "metadata": {},
   "outputs": [
    {
     "name": "stdout",
     "output_type": "stream",
     "text": [
      "Resampling dataset down to annual medians.\n",
      "Resampled down to annual medians successfully.\n"
     ]
    }
   ],
   "source": [
    "# reduce all selected months into annual medians\n",
    "ds_backup = gdvspectra.resample_to_annual_medians(ds_backup)"
   ]
  },
  {
   "cell_type": "markdown",
   "metadata": {},
   "source": [
    "### Interpolate missing data"
   ]
  },
  {
   "cell_type": "code",
   "execution_count": 10,
   "metadata": {},
   "outputs": [
    {
     "name": "stdout",
     "output_type": "stream",
     "text": [
      "Interpolating empty values in dataset.\n",
      "Interpolating using full method. This can take awhile. Please wait.\n",
      "Interpolated empty values successfully.\n"
     ]
    }
   ],
   "source": [
    "# interpolate all missing pixels using full linear interpolation\n",
    "ds_backup = gdvspectra.interpolate_empty(ds=ds_backup,\n",
    "                                         method='full')\n",
    "\n",
    "# display dataset\n",
    "#ds_backup"
   ]
  },
  {
   "cell_type": "markdown",
   "metadata": {},
   "source": [
    "### Standardise using invariant targets"
   ]
  },
  {
   "cell_type": "code",
   "execution_count": 16,
   "metadata": {},
   "outputs": [
    {
     "name": "stdout",
     "output_type": "stream",
     "text": [
      "Standardising data using invariant targets.\n",
      "Generating invariant targets.\n",
      "Got orthogonal polynomial coefficients: [-11.  -9.  -7.  -5.  -3.  -1.   1.   3.   5.   7.   9.  11.]\n",
      "Got sum of squares: 572 and constant 2: \n",
      "Standardising to invariant targets and rescaling via increasing sigmoidal.\n",
      "Standardised using invariant targets successfully.\n"
     ]
    }
   ],
   "source": [
    "# standardise to targets\n",
    "ds_backup = gdvspectra.standardise_to_targets(ds_backup, \n",
    "                                              q_upper=0.99, \n",
    "                                              q_lower=0.05)"
   ]
  },
  {
   "cell_type": "markdown",
   "metadata": {},
   "source": [
    "### Perform Change Vector Analysis"
   ]
  },
  {
   "cell_type": "code",
   "execution_count": null,
   "metadata": {},
   "outputs": [],
   "source": [
    "# create a baseline and comparison dataset split\n",
    "# can be one baseline image, a set of baselines, or all time\n",
    "# same with comparison dates, one, many, or alltime"
   ]
  },
  {
   "cell_type": "code",
   "execution_count": null,
   "metadata": {},
   "outputs": [],
   "source": [
    "# create a empty dataset via full_like with nan\n",
    "# add bunch of vars to it like angout, magout, magnitude etc"
   ]
  },
  {
   "cell_type": "code",
   "execution_count": null,
   "metadata": {},
   "outputs": [],
   "source": [
    "# persist\n",
    "ds_backup = ds_backup.persist()"
   ]
  },
  {
   "cell_type": "code",
   "execution_count": null,
   "metadata": {},
   "outputs": [],
   "source": [
    "# generate cva comparing latest three years to baseline of 1999-2010\n",
    "ds_cva = gdvspectra.perform_cva(ds=ds_backup.compute(),\n",
    "                                base_times=(1999, 2010),\n",
    "                                comp_times=(2018, 2020),\n",
    "                                reduce_comp=True,\n",
    "                                vege_var = 'tcg',\n",
    "                                soil_var = 'tcb',\n",
    "                                tmf=2)\n",
    "\n",
    "# plot magnitude of all change from last 3 years to baseline decade\n",
    "ds_cva['magnitude'].isel(time=0).plot(robust=True, cmap='Reds')"
   ]
  },
  {
   "cell_type": "markdown",
   "metadata": {},
   "source": [
    "### Isolate specific change type"
   ]
  },
  {
   "cell_type": "code",
   "execution_count": null,
   "metadata": {},
   "outputs": [],
   "source": [
    "# isolate angles between 90-180 degrees to focus on veg decline only\n",
    "ds_dec = isolate_cva_change(ds_cva, angle_min=90, angle_max=180)\n",
    "\n",
    "# plot magnitude for veg decline areas\n",
    "ds_dec['magnitude'].plot(robust=True, cmap='Reds')"
   ]
  },
  {
   "cell_type": "markdown",
   "metadata": {},
   "source": [
    "### Intersect veg decline with GDV likelihood areas"
   ]
  },
  {
   "cell_type": "code",
   "execution_count": null,
   "metadata": {},
   "outputs": [],
   "source": [
    "# create a mask where gdv highly likely\n",
    "ds_mask = xr.where(~ds_thresh.isnull(), True, False)\n",
    "\n",
    "# select change areas where gdv exists\n",
    "ds_final\n",
    "\n"
   ]
  }
 ],
 "metadata": {
  "kernelspec": {
   "display_name": "Python 3",
   "language": "python",
   "name": "python3"
  },
  "language_info": {
   "codemirror_mode": {
    "name": "ipython",
    "version": 3
   },
   "file_extension": ".py",
   "mimetype": "text/x-python",
   "name": "python",
   "nbconvert_exporter": "python",
   "pygments_lexer": "ipython3",
   "version": "3.6.9"
  }
 },
 "nbformat": 4,
 "nbformat_minor": 4
}
