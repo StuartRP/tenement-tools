{
 "cells": [
  {
   "cell_type": "markdown",
   "metadata": {},
   "source": [
    "# GDVSpectra"
   ]
  },
  {
   "cell_type": "markdown",
   "metadata": {},
   "source": [
    "## Initialise GDVSpectra"
   ]
  },
  {
   "cell_type": "markdown",
   "metadata": {},
   "source": [
    "### Load packages"
   ]
  },
  {
   "cell_type": "code",
   "execution_count": null,
   "metadata": {},
   "outputs": [],
   "source": [
    "%matplotlib inline\n",
    "%load_ext autoreload\n",
    "\n",
    "import os, sys\n",
    "import pandas as pd\n",
    "import numpy as np\n",
    "import xarray as xr\n",
    "import matplotlib.pyplot as plt\n",
    "\n",
    "import datacube\n",
    "sys.path.append('../../../Scripts')\n",
    "from dea_datahandling import load_ard\n",
    "from dea_dask import create_local_dask_cluster\n",
    "from dea_plotting import display_map, rgb\n",
    "\n",
    "sys.path.append('../../modules')\n",
    "import gdvspectra\n",
    "\n",
    "sys.path.append('../../shared')\n",
    "import satfetcher, tools"
   ]
  },
  {
   "cell_type": "markdown",
   "metadata": {},
   "source": [
    "### Set up a dask cluster and ODC"
   ]
  },
  {
   "cell_type": "code",
   "execution_count": null,
   "metadata": {},
   "outputs": [],
   "source": [
    "# initialise the cluster. paste url into dask panel for more info.\n",
    "create_local_dask_cluster()\n",
    "\n",
    "# open up a datacube connection\n",
    "dc = datacube.Datacube(app='gdvspectra')"
   ]
  },
  {
   "cell_type": "markdown",
   "metadata": {},
   "source": [
    "## Study area and data setup"
   ]
  },
  {
   "cell_type": "markdown",
   "metadata": {},
   "source": [
    "### Set study area, time range, show map"
   ]
  },
  {
   "cell_type": "code",
   "execution_count": null,
   "metadata": {},
   "outputs": [],
   "source": [
    "# testing study area extent - yandi and roy hill\n",
    "lat_extent, lon_extent = (-22.82901, -22.67901), (118.94980, 119.29979)  # yandi\n",
    "#lat_extent, lon_extent = (-22.63461, -22.33461), (119.88111, 120.18111) # royhill\n",
    "\n",
    "# display onto interacrive map\n",
    "display_map(x=lon_extent, y=lat_extent)"
   ]
  },
  {
   "cell_type": "markdown",
   "metadata": {},
   "source": [
    "### Load DEA ODC satellite data"
   ]
  },
  {
   "cell_type": "code",
   "execution_count": null,
   "metadata": {},
   "outputs": [],
   "source": [
    "# provide study area name\n",
    "study_area = 'yandi'\n",
    "\n",
    "# select start and end year range\n",
    "time_range = ('2009', '2020')\n",
    "\n",
    "# set datacube query parameters\n",
    "platform = 'landsat'\n",
    "bands = ['nbart_blue', 'nbart_green', 'nbart_red', 'nbart_nir', 'nbart_swir_1', 'nbart_swir_2']\n",
    "#bands = ['nbart_blue', 'nbart_green', 'nbart_red', 'nbart_nir_1', 'nbart_swir_2'] # sentinel\n",
    "min_gooddata = 0.90\n",
    "\n",
    "# fetch satellite data from dea ard product\n",
    "ds = satfetcher.load_dea_ard(platform=platform, \n",
    "                             bands=bands, \n",
    "                             x_extent=lon_extent, \n",
    "                             y_extent=lat_extent, \n",
    "                             time_range=time_range, \n",
    "                             min_gooddata=min_gooddata, \n",
    "                             use_dask=True)\n",
    "\n",
    "# display dataset\n",
    "#ds"
   ]
  },
  {
   "cell_type": "markdown",
   "metadata": {},
   "source": [
    "### Conform band names"
   ]
  },
  {
   "cell_type": "code",
   "execution_count": null,
   "metadata": {},
   "outputs": [],
   "source": [
    "# rename dea bands to common standard\n",
    "ds = satfetcher.conform_dea_ard_band_names(ds=ds, platform=platform)\n",
    "\n",
    "# display dataset\n",
    "#ds"
   ]
  },
  {
   "cell_type": "markdown",
   "metadata": {},
   "source": [
    "### Make a copy of raw dataset"
   ]
  },
  {
   "cell_type": "code",
   "execution_count": null,
   "metadata": {},
   "outputs": [],
   "source": [
    "# take a copy of dataset for cva later\n",
    "ds_backup = ds.copy(deep=True)"
   ]
  },
  {
   "cell_type": "markdown",
   "metadata": {},
   "source": [
    "## Generate seasonal vegetation and moisture data"
   ]
  },
  {
   "cell_type": "markdown",
   "metadata": {},
   "source": [
    "### Reduce to wet (jfm) and dry (son) season months"
   ]
  },
  {
   "cell_type": "code",
   "execution_count": null,
   "metadata": {},
   "outputs": [],
   "source": [
    "# set wet and dry season month(s). we will use several per season\n",
    "wet_month, dry_month = [1, 2, 3], [9, 10, 11]\n",
    "\n",
    "# get subset fo data for wet and dry season months\n",
    "ds = gdvspectra.subset_months(ds=ds, \n",
    "                              month=wet_month + dry_month,\n",
    "                              inplace=True)\n",
    "\n",
    "# display dataset\n",
    "#ds"
   ]
  },
  {
   "cell_type": "markdown",
   "metadata": {},
   "source": [
    "### Calculate vegetation and moisture indices"
   ]
  },
  {
   "cell_type": "code",
   "execution_count": null,
   "metadata": {},
   "outputs": [],
   "source": [
    "# calculate veg (mavi) and moist (ndmi) indices\n",
    "ds = tools.calculate_indices(ds=ds, \n",
    "                             index=['mavi', 'ndmi'], \n",
    "                             custom_name=['veg_idx', 'mst_idx'], \n",
    "                             rescale=True, \n",
    "                             drop=True)\n",
    "\n",
    "# display dataset\n",
    "#ds"
   ]
  },
  {
   "cell_type": "markdown",
   "metadata": {},
   "source": [
    "## Resample data"
   ]
  },
  {
   "cell_type": "markdown",
   "metadata": {},
   "source": [
    "### Resample data to annual seasonal (djf and son) medians "
   ]
  },
  {
   "cell_type": "code",
   "execution_count": null,
   "metadata": {},
   "outputs": [],
   "source": [
    "# perform resampling\n",
    "ds = gdvspectra.resample_to_wet_dry_medians(ds=ds, \n",
    "                                            wet_month=wet_month, \n",
    "                                            dry_month=dry_month,\n",
    "                                            inplace=True)\n",
    "\n",
    "# display dataset\n",
    "#ds"
   ]
  },
  {
   "cell_type": "markdown",
   "metadata": {},
   "source": [
    "### Persist memory"
   ]
  },
  {
   "cell_type": "code",
   "execution_count": null,
   "metadata": {},
   "outputs": [],
   "source": [
    "# we have some calcs to make, persist now\n",
    "ds = ds.persist()"
   ]
  },
  {
   "cell_type": "markdown",
   "metadata": {},
   "source": [
    "## Pre-process dataset (e.g., outlier removal, interpolation)"
   ]
  },
  {
   "cell_type": "markdown",
   "metadata": {},
   "source": [
    "### Remove outliers via z-score"
   ]
  },
  {
   "cell_type": "code",
   "execution_count": null,
   "metadata": {},
   "outputs": [],
   "source": [
    "# check for outlier times and nullify whole image. warning: persists memory\n",
    "ds = gdvspectra.nullify_wet_dry_outliers(ds=ds, \n",
    "                                         wet_month=wet_month, \n",
    "                                         dry_month=dry_month, \n",
    "                                         p_value=0.01,\n",
    "                                         inplace=True)\n",
    "\n",
    "# display dataset\n",
    "#ds"
   ]
  },
  {
   "cell_type": "markdown",
   "metadata": {},
   "source": [
    "### Remove any years missing wet, dry season data"
   ]
  },
  {
   "cell_type": "code",
   "execution_count": null,
   "metadata": {},
   "outputs": [],
   "source": [
    "# drop any years from dataset where wet and dry seasons missing\n",
    "ds = gdvspectra.drop_incomplete_wet_dry_years(ds)\n",
    "\n",
    "# display dataset\n",
    "#ds"
   ]
  },
  {
   "cell_type": "markdown",
   "metadata": {},
   "source": [
    "### Fill empty data edges via backward and/or forward fill"
   ]
  },
  {
   "cell_type": "code",
   "execution_count": null,
   "metadata": {},
   "outputs": [],
   "source": [
    "# ! WARNING ! this func requires pre-computed data due to xr-dask bfill and ffill bug\n",
    "# xr-dask bfill/ffill will perform without error, but does not update values in ds\n",
    "# todo - remove this compute when bug fixed in ver > 0.18.2\n",
    "ds = ds.compute()"
   ]
  },
  {
   "cell_type": "code",
   "execution_count": null,
   "metadata": {},
   "outputs": [],
   "source": [
    "# fill any empty first, last years using back/forward fill\n",
    "ds = gdvspectra.fill_empty_wet_dry_edges(ds=ds,\n",
    "                                         wet_month=wet_month, \n",
    "                                         dry_month=dry_month,\n",
    "                                         inplace=True)\n",
    "\n",
    "# display dataset\n",
    "#ds"
   ]
  },
  {
   "cell_type": "markdown",
   "metadata": {},
   "source": [
    "### Interpolate missing data"
   ]
  },
  {
   "cell_type": "code",
   "execution_count": null,
   "metadata": {},
   "outputs": [],
   "source": [
    "# interpolate all missing pixels using full linear interpolation\n",
    "ds =  gdvspectra.interp_empty_wet_dry(ds=ds,\n",
    "                                      wet_month=wet_month, \n",
    "                                      dry_month=dry_month,\n",
    "                                      method='full', \n",
    "                                      inplace=True)\n",
    "\n",
    "# display dataset\n",
    "#ds"
   ]
  },
  {
   "cell_type": "markdown",
   "metadata": {},
   "source": [
    "## Standardise data"
   ]
  },
  {
   "cell_type": "markdown",
   "metadata": {},
   "source": [
    "### Generate invariant targets and standardise"
   ]
  },
  {
   "cell_type": "code",
   "execution_count": null,
   "metadata": {},
   "outputs": [],
   "source": [
    "# standardise data to invariant targets derived from dry times\n",
    "ds = gdvspectra.standardise_to_dry_targets(ds=ds, \n",
    "                                           dry_month=dry_month, \n",
    "                                           q_upper=0.99, \n",
    "                                           q_lower=0.05,\n",
    "                                           inplace=True)\n",
    "\n",
    "# display dataset\n",
    "#ds"
   ]
  },
  {
   "cell_type": "markdown",
   "metadata": {},
   "source": [
    "## Calculate seasonal similarity"
   ]
  },
  {
   "cell_type": "markdown",
   "metadata": {},
   "source": [
    "### Calculate seasonal similarity"
   ]
  },
  {
   "cell_type": "code",
   "execution_count": null,
   "metadata": {},
   "outputs": [],
   "source": [
    "# calculate standardised seaonal similarity (diff between wet, dry per year)\n",
    "ds_similarity = gdvspectra.calc_seasonal_similarity(ds=ds,\n",
    "                                                    wet_month=wet_month,\n",
    "                                                    dry_month=dry_month,\n",
    "                                                    q_mask=0.9,\n",
    "                                                    inplace=True)\n",
    "\n",
    "# display dataset\n",
    "#ds"
   ]
  },
  {
   "cell_type": "markdown",
   "metadata": {},
   "source": [
    "## Perform GDV likelihood modelling"
   ]
  },
  {
   "cell_type": "markdown",
   "metadata": {},
   "source": [
    "### Generate likelihood model"
   ]
  },
  {
   "cell_type": "code",
   "execution_count": null,
   "metadata": {},
   "outputs": [],
   "source": [
    "# generate gdv likelihood model using wet, dry, similarity variables\n",
    "ds_like = gdvspectra.calc_likelihood(ds=ds, \n",
    "                                     ds_similarity=ds_similarity,\n",
    "                                     wet_month=wet_month, \n",
    "                                     dry_month=dry_month)\n",
    "\n",
    "# preview an all-time median of gdv likelihood. red is high likelihood\n",
    "fig = plt.figure(figsize=(10, 5))\n",
    "ds_like['like'].median('time').plot(robust=True, cmap='jet')"
   ]
  },
  {
   "cell_type": "markdown",
   "metadata": {},
   "source": [
    "### Generate field occurrence points for thresholding"
   ]
  },
  {
   "cell_type": "code",
   "execution_count": null,
   "metadata": {},
   "outputs": [],
   "source": [
    "# set location of point shapefile with presence/absence column\n",
    "#shp_path = r'../GDVSDM/data_testing/presence_points/presence_points.shp'\n",
    "shp_path = r'../../data/gdvspectra/yandi_2_final_albers.shp'\n",
    "\n",
    "# read shapefile as pandas dataframe\n",
    "df_records = tools.read_shapefile(shp_path=shp_path)\n",
    "\n",
    "# subset to just x, y, pres/abse column\n",
    "df_records = tools.subset_records(df_records=df_records, p_a_column='GDV_ACT')\n",
    "\n",
    "# display dataframe\n",
    "#df_records"
   ]
  },
  {
   "cell_type": "markdown",
   "metadata": {},
   "source": [
    "### Threshold likelihood"
   ]
  },
  {
   "cell_type": "code",
   "execution_count": null,
   "metadata": {},
   "outputs": [],
   "source": [
    "# perform thresholding using standard deviation on all-time median likelihood\n",
    "ds_thresh = gdvspectra.threshold_likelihood(ds=ds_like.median('time', keep_attrs=True),\n",
    "                                            df=df_records, \n",
    "                                            num_stdevs=2.5, \n",
    "                                            res_factor=3, \n",
    "                                            if_nodata='any')\n",
    "\n",
    "# preview an all-time median of gdv likelihood thresholded\n",
    "fig = plt.figure(figsize=(10, 5))\n",
    "ds_thresh.where(~ds_thresh.isnull(), 0.001)['like'].plot(robust=False, cmap='jet')"
   ]
  },
  {
   "cell_type": "markdown",
   "metadata": {},
   "source": [
    "### Export GDV likelihood and threshold for later"
   ]
  },
  {
   "cell_type": "code",
   "execution_count": null,
   "metadata": {},
   "outputs": [],
   "source": [
    "# export likelihood and thresholds   \n",
    "#tools.export_xr_as_nc(ds_like, filename='ds_likelihood.nc')\n",
    "#tools.export_xr_as_nc(ds_thresh, filename='ds_threshold.nc')"
   ]
  },
  {
   "cell_type": "markdown",
   "metadata": {},
   "source": [
    "## Perform trend analysis"
   ]
  },
  {
   "cell_type": "markdown",
   "metadata": {},
   "source": [
    "### Calculate trends using Mann-Kendall trend analysis"
   ]
  },
  {
   "cell_type": "code",
   "execution_count": null,
   "metadata": {},
   "outputs": [],
   "source": [
    "# create a mask where gdv highly likely\n",
    "ds_mask = xr.where(~ds_thresh.isnull(), True, False)\n",
    "\n",
    "# do mk to find sig. inc/dec trends in high likelihood areas\n",
    "ds_mk = gdvspectra.perform_mk_original(ds=ds_like.where(ds_mask), \n",
    "                                       pvalue=None, \n",
    "                                       direction='both')\n",
    "\n",
    "# show mk trends. blue is increasing, red is decreasing\n",
    "fig = plt.figure(figsize=(10, 5))\n",
    "ds_mk['tau'].plot(robust=True, cmap='Spectral')"
   ]
  },
  {
   "cell_type": "markdown",
   "metadata": {},
   "source": [
    "### Calculate slope using Theil-Sen"
   ]
  },
  {
   "cell_type": "code",
   "execution_count": null,
   "metadata": {},
   "outputs": [],
   "source": [
    "# create a mask where gdv highly likely\n",
    "ds_mask = xr.where(~ds_thresh.isnull(), True, False)\n",
    "\n",
    "# do theil sen slopes in high likelihood areas\n",
    "ds_ts = gdvspectra.perform_theilsen_slope(ds=ds_like.where(ds_mask), \n",
    "                                          alpha=0.95)\n",
    "\n",
    "# show mk trends. blue is increasing, red is decreasing\n",
    "fig = plt.figure(figsize=(10, 5))\n",
    "ds_ts['theilsen'].plot(robust=True, cmap='Spectral')"
   ]
  },
  {
   "cell_type": "markdown",
   "metadata": {},
   "source": [
    "## Peform Change Vector Analysis (CVA)"
   ]
  },
  {
   "cell_type": "markdown",
   "metadata": {},
   "source": [
    "### Get specific months from dataset copy"
   ]
  },
  {
   "cell_type": "code",
   "execution_count": null,
   "metadata": {},
   "outputs": [],
   "source": [
    "# set months in which to assess trend\n",
    "trend_months = [9, 10, 11]\n",
    "\n",
    "# subset months we want to assess across years during trend analysis\n",
    "ds_cva = gdvspectra.subset_months(ds_backup, \n",
    "                                  month=trend_months)\n",
    "\n",
    "# display dataset\n",
    "#ds_cva"
   ]
  },
  {
   "cell_type": "markdown",
   "metadata": {},
   "source": [
    "### Generate tasselled cap greenness and brightness"
   ]
  },
  {
   "cell_type": "code",
   "execution_count": null,
   "metadata": {},
   "outputs": [],
   "source": [
    "# calculate tasselled cap greenness and brightness indices\n",
    "ds_cva = tools.calculate_indices(ds=ds_cva, \n",
    "                                 index=['tcg', 'tcb'],\n",
    "                                 rescale=False, \n",
    "                                 drop=True)\n",
    "\n",
    "# display dataset\n",
    "#ds_cva"
   ]
  },
  {
   "cell_type": "markdown",
   "metadata": {},
   "source": [
    "### Compute into memory"
   ]
  },
  {
   "cell_type": "code",
   "execution_count": null,
   "metadata": {},
   "outputs": [],
   "source": [
    "# resample median bug with dask, must have computed values\n",
    "ds_cva = ds_cva.compute()"
   ]
  },
  {
   "cell_type": "markdown",
   "metadata": {},
   "source": [
    "### Resample annual medians for selected dates"
   ]
  },
  {
   "cell_type": "code",
   "execution_count": null,
   "metadata": {},
   "outputs": [],
   "source": [
    "# reduce all selected months into annual medians (year starts, YS)\n",
    "ds_cva = gdvspectra.resample_to_freq_medians(ds=ds_cva,\n",
    "                                             freq='YS',\n",
    "                                             inplace=True)"
   ]
  },
  {
   "cell_type": "markdown",
   "metadata": {},
   "source": [
    "### Interpolate missing data"
   ]
  },
  {
   "cell_type": "code",
   "execution_count": null,
   "metadata": {},
   "outputs": [],
   "source": [
    "# interpolate all missing pixels using full linear interpolation\n",
    "ds_cva = gdvspectra.interp_empty(ds=ds_cva,\n",
    "                                 method='full',\n",
    "                                 inplace=True)\n",
    "\n",
    "# display dataset\n",
    "#ds_cva"
   ]
  },
  {
   "cell_type": "markdown",
   "metadata": {},
   "source": [
    "### Standardise using invariant targets"
   ]
  },
  {
   "cell_type": "code",
   "execution_count": null,
   "metadata": {},
   "outputs": [],
   "source": [
    "# standardise to targets\n",
    "ds_cva = gdvspectra.standardise_to_targets(ds_cva, \n",
    "                                           q_upper=0.99, \n",
    "                                           q_lower=0.05)\n",
    "\n",
    "# display dataset\n",
    "#ds_cva"
   ]
  },
  {
   "cell_type": "markdown",
   "metadata": {},
   "source": [
    "### Perform Change Vector Analysis"
   ]
  },
  {
   "cell_type": "code",
   "execution_count": null,
   "metadata": {},
   "outputs": [],
   "source": [
    "# set baseline date range. we will do just 2009\n",
    "base_times = (2009, 2009)\n",
    "\n",
    "# set comparison date range. we can compare each to baseline seperately\n",
    "comp_times = (2015, 2020)\n",
    "\n",
    "# generate cva\n",
    "ds_cva_out = gdvspectra.perform_cva(ds=ds_cva,\n",
    "                                    base_times=base_times,\n",
    "                                    comp_times=comp_times,\n",
    "                                    reduce_comp=False,\n",
    "                                    vege_var = 'tcg',\n",
    "                                    soil_var = 'tcb',\n",
    "                                    tmf=2)\n",
    "\n",
    "# plot magnitude of all change between 2009 and 2020\n",
    "fig = plt.figure(figsize=(10, 5))\n",
    "ds_cva_out['magnitude'].isel(time=-1).plot(robust=True, cmap='Reds')"
   ]
  },
  {
   "cell_type": "markdown",
   "metadata": {},
   "source": [
    "### Isolate vegetation death change type"
   ]
  },
  {
   "cell_type": "code",
   "execution_count": null,
   "metadata": {},
   "outputs": [],
   "source": [
    "# isolate angles between 90-180 degrees to focus on veg decline only\n",
    "ds_dec = gdvspectra.isolate_cva_change(ds_cva_out, angle_min=90, angle_max=180)\n",
    "\n",
    "# plot magnitude for veg decline areas in 2020\n",
    "fig = plt.figure(figsize=(10, 5))\n",
    "ds_dec['magnitude'].isel(time=-1).plot(robust=True, cmap='Reds')"
   ]
  },
  {
   "cell_type": "markdown",
   "metadata": {},
   "source": [
    "### Isolate vegetation growth change type"
   ]
  },
  {
   "cell_type": "code",
   "execution_count": null,
   "metadata": {},
   "outputs": [],
   "source": [
    "# isolate angles between 90-180 degrees to focus on veg decline only\n",
    "ds_inc = gdvspectra.isolate_cva_change(ds_cva_out, angle_min=270, angle_max=360)\n",
    "\n",
    "# plot magnitude for veg decline areas in 2020\n",
    "fig = plt.figure(figsize=(10, 5))\n",
    "ds_inc['magnitude'].isel(time=-1).plot(robust=True, cmap='Greens')"
   ]
  },
  {
   "cell_type": "markdown",
   "metadata": {},
   "source": [
    "### Intersect veg decline with GDV likelihood areas"
   ]
  },
  {
   "cell_type": "code",
   "execution_count": null,
   "metadata": {},
   "outputs": [],
   "source": [
    "# warning this doesnt work.\n",
    "\n",
    "# create a mask where gdv highly likely\n",
    "ds_mask = xr.where(~ds_thresh.isnull(), True, False)\n",
    "\n",
    "# select change areas where gdv exists for inc, dec\n",
    "ds_inc = ds_inc.where(ds_mask)\n",
    "ds_dec = ds_dec.where(ds_mask)"
   ]
  },
  {
   "cell_type": "markdown",
   "metadata": {},
   "source": [
    "## Perform Break Point Detection on pixel"
   ]
  },
  {
   "cell_type": "code",
   "execution_count": null,
   "metadata": {},
   "outputs": [],
   "source": [
    "#pip install ruptures"
   ]
  },
  {
   "cell_type": "markdown",
   "metadata": {},
   "source": [
    "### Calculate tasselled cap greenness"
   ]
  },
  {
   "cell_type": "code",
   "execution_count": null,
   "metadata": {},
   "outputs": [],
   "source": [
    "# calculate tasselled cap greenness and brightness indices\n",
    "ds_breaks = tools.calculate_indices(ds=ds_backup, index=['tcg'], rescale=False, drop=True)\n",
    "\n",
    "# display dataset\n",
    "#ds_breaks"
   ]
  },
  {
   "cell_type": "markdown",
   "metadata": {},
   "source": [
    "### Resample monthly medians for each year"
   ]
  },
  {
   "cell_type": "code",
   "execution_count": null,
   "metadata": {},
   "outputs": [],
   "source": [
    "# reduce all selected months into monthly medians\n",
    "ds_breaks = gdvspectra.resample_to_freq_medians(ds=ds_breaks,\n",
    "                                                freq='1MS',\n",
    "                                                inplace=True)\n",
    "\n",
    "# display dataset\n",
    "#ds_breaks"
   ]
  },
  {
   "cell_type": "markdown",
   "metadata": {},
   "source": [
    "### Interpolate empty months along month axis"
   ]
  },
  {
   "cell_type": "code",
   "execution_count": null,
   "metadata": {},
   "outputs": [],
   "source": [
    "# interpolate empty values along monthly dimension\n",
    "ds_breaks = gdvspectra.interp_empty_months(ds=ds_breaks, \n",
    "                                           method='full',\n",
    "                                           inplace=True)\n",
    "\n",
    "# display dataset\n",
    "#ds_breaks"
   ]
  },
  {
   "cell_type": "markdown",
   "metadata": {},
   "source": [
    "### Compute into memory"
   ]
  },
  {
   "cell_type": "code",
   "execution_count": null,
   "metadata": {},
   "outputs": [],
   "source": [
    "# we need values, do a final compute\n",
    "ds_breaks = ds_breaks.compute()"
   ]
  },
  {
   "cell_type": "markdown",
   "metadata": {},
   "source": [
    "### Detect breaks for selected pixels (to implement in ArcGIS)"
   ]
  },
  {
   "cell_type": "code",
   "execution_count": null,
   "metadata": {},
   "outputs": [],
   "source": [
    "%autoreload\n",
    "# take x, y from clicked pixel in arcgis\n",
    "x, y = -1322085.0, -2514525.0\n",
    "\n",
    "# get values, dates\n",
    "da = ds_breaks.sel(x=x, y=y, method='nearest', tolerance=50)\n",
    "values, times = np.array(da['tcg']), np.array(da['time'])\n",
    "\n",
    "# detect_breaks(values, times, pen=3)\n",
    "break_times = gdvspectra.detect_breaks(values=values, \n",
    "                                       times=times, \n",
    "                                       pen=3, \n",
    "                                       fill_nan=True, \n",
    "                                       quick_plot=True)\n",
    "\n",
    "# display dataset\n",
    "#break_times"
   ]
  }
 ],
 "metadata": {
  "kernelspec": {
   "display_name": "Python 3",
   "language": "python",
   "name": "python3"
  },
  "language_info": {
   "codemirror_mode": {
    "name": "ipython",
    "version": 3
   },
   "file_extension": ".py",
   "mimetype": "text/x-python",
   "name": "python",
   "nbconvert_exporter": "python",
   "pygments_lexer": "ipython3",
   "version": "3.6.9"
  }
 },
 "nbformat": 4,
 "nbformat_minor": 4
}
