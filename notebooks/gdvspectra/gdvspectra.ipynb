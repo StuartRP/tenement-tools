{
 "cells": [
  {
   "cell_type": "markdown",
   "metadata": {},
   "source": [
    "# GDVSpectra"
   ]
  },
  {
   "cell_type": "markdown",
   "metadata": {},
   "source": [
    "## Initialise GDVSpectra"
   ]
  },
  {
   "cell_type": "markdown",
   "metadata": {},
   "source": [
    "### Load packages"
   ]
  },
  {
   "cell_type": "code",
   "execution_count": 1,
   "metadata": {},
   "outputs": [
    {
     "name": "stderr",
     "output_type": "stream",
     "text": [
      "/env/lib/python3.6/site-packages/geopandas/_compat.py:110: UserWarning: The Shapely GEOS version (3.7.2-CAPI-1.11.0 ) is incompatible with the GEOS version PyGEOS was compiled with (3.9.1-CAPI-1.14.2). Conversions between both will be slow.\n",
      "  shapely_geos_version, geos_capi_version_string\n"
     ]
    }
   ],
   "source": [
    "%matplotlib inline\n",
    "%load_ext autoreload\n",
    "\n",
    "import os, sys\n",
    "import pandas as pd\n",
    "import numpy as np\n",
    "import xarray as xr\n",
    "import matplotlib.pyplot as plt\n",
    "\n",
    "import datacube\n",
    "sys.path.append('../../../Scripts')\n",
    "from dea_datahandling import load_ard\n",
    "from dea_dask import create_local_dask_cluster\n",
    "from dea_plotting import display_map, rgb\n",
    "\n",
    "sys.path.append('../../modules')\n",
    "import gdvspectra\n",
    "\n",
    "sys.path.append('../../shared')\n",
    "import satfetcher, tools"
   ]
  },
  {
   "cell_type": "markdown",
   "metadata": {},
   "source": [
    "### Set up a dask cluster and ODC"
   ]
  },
  {
   "cell_type": "code",
   "execution_count": 2,
   "metadata": {},
   "outputs": [
    {
     "name": "stderr",
     "output_type": "stream",
     "text": [
      "/env/lib/python3.6/site-packages/distributed/node.py:155: UserWarning: Port 8787 is already in use.\n",
      "Perhaps you already have a cluster running?\n",
      "Hosting the HTTP server on port 44413 instead\n",
      "  http_address[\"port\"], self.http_server.port\n"
     ]
    },
    {
     "data": {
      "text/html": [
       "<table style=\"border: 2px solid white;\">\n",
       "<tr>\n",
       "<td style=\"vertical-align: top; border: 0px solid white\">\n",
       "<h3 style=\"text-align: left;\">Client</h3>\n",
       "<ul style=\"text-align: left; list-style: none; margin: 0; padding: 0;\">\n",
       "  <li><b>Scheduler: </b>tcp://127.0.0.1:36943</li>\n",
       "  <li><b>Dashboard: </b><a href='/user/lewis/proxy/44413/status' target='_blank'>/user/lewis/proxy/44413/status</a></li>\n",
       "</ul>\n",
       "</td>\n",
       "<td style=\"vertical-align: top; border: 0px solid white\">\n",
       "<h3 style=\"text-align: left;\">Cluster</h3>\n",
       "<ul style=\"text-align: left; list-style:none; margin: 0; padding: 0;\">\n",
       "  <li><b>Workers: </b>1</li>\n",
       "  <li><b>Cores: </b>2</li>\n",
       "  <li><b>Memory: </b>13.11 GB</li>\n",
       "</ul>\n",
       "</td>\n",
       "</tr>\n",
       "</table>"
      ],
      "text/plain": [
       "<Client: 'tcp://127.0.0.1:36943' processes=1 threads=2, memory=13.11 GB>"
      ]
     },
     "metadata": {},
     "output_type": "display_data"
    },
    {
     "name": "stderr",
     "output_type": "stream",
     "text": [
      "/env/lib/python3.6/site-packages/datacube/drivers/postgres/_connections.py:87: SADeprecationWarning: Calling URL() directly is deprecated and will be disabled in a future release.  The public constructor for URL is now the URL.create() method.\n",
      "  username=username, password=password,\n"
     ]
    }
   ],
   "source": [
    "# initialise the cluster. paste url into dask panel for more info.\n",
    "create_local_dask_cluster()\n",
    "\n",
    "# open up a datacube connection\n",
    "dc = datacube.Datacube(app='gdvspectra')"
   ]
  },
  {
   "cell_type": "markdown",
   "metadata": {},
   "source": [
    "## Study area and data setup"
   ]
  },
  {
   "cell_type": "markdown",
   "metadata": {},
   "source": [
    "### Set study area, time range, show map"
   ]
  },
  {
   "cell_type": "code",
   "execution_count": 3,
   "metadata": {},
   "outputs": [
    {
     "data": {
      "text/html": [
       "<div style=\"width:100%;\"><div style=\"position:relative;width:100%;height:0;padding-bottom:60%;\"><iframe src=\"data:text/html;charset=utf-8;base64,PCFET0NUWVBFIGh0bWw+CjxoZWFkPiAgICAKICAgIDxtZXRhIGh0dHAtZXF1aXY9ImNvbnRlbnQtdHlwZSIgY29udGVudD0idGV4dC9odG1sOyBjaGFyc2V0PVVURi04IiAvPgogICAgCiAgICAgICAgPHNjcmlwdD4KICAgICAgICAgICAgTF9OT19UT1VDSCA9IGZhbHNlOwogICAgICAgICAgICBMX0RJU0FCTEVfM0QgPSBmYWxzZTsKICAgICAgICA8L3NjcmlwdD4KICAgIAogICAgPHN0eWxlPmh0bWwsIGJvZHkge3dpZHRoOiAxMDAlO2hlaWdodDogMTAwJTttYXJnaW46IDA7cGFkZGluZzogMDt9PC9zdHlsZT4KICAgIDxzdHlsZT4jbWFwIHtwb3NpdGlvbjphYnNvbHV0ZTt0b3A6MDtib3R0b206MDtyaWdodDowO2xlZnQ6MDt9PC9zdHlsZT4KICAgIDxzY3JpcHQgc3JjPSJodHRwczovL2Nkbi5qc2RlbGl2ci5uZXQvbnBtL2xlYWZsZXRAMS42LjAvZGlzdC9sZWFmbGV0LmpzIj48L3NjcmlwdD4KICAgIDxzY3JpcHQgc3JjPSJodHRwczovL2NvZGUuanF1ZXJ5LmNvbS9qcXVlcnktMS4xMi40Lm1pbi5qcyI+PC9zY3JpcHQ+CiAgICA8c2NyaXB0IHNyYz0iaHR0cHM6Ly9tYXhjZG4uYm9vdHN0cmFwY2RuLmNvbS9ib290c3RyYXAvMy4yLjAvanMvYm9vdHN0cmFwLm1pbi5qcyI+PC9zY3JpcHQ+CiAgICA8c2NyaXB0IHNyYz0iaHR0cHM6Ly9jZG5qcy5jbG91ZGZsYXJlLmNvbS9hamF4L2xpYnMvTGVhZmxldC5hd2Vzb21lLW1hcmtlcnMvMi4wLjIvbGVhZmxldC5hd2Vzb21lLW1hcmtlcnMuanMiPjwvc2NyaXB0PgogICAgPGxpbmsgcmVsPSJzdHlsZXNoZWV0IiBocmVmPSJodHRwczovL2Nkbi5qc2RlbGl2ci5uZXQvbnBtL2xlYWZsZXRAMS42LjAvZGlzdC9sZWFmbGV0LmNzcyIvPgogICAgPGxpbmsgcmVsPSJzdHlsZXNoZWV0IiBocmVmPSJodHRwczovL21heGNkbi5ib290c3RyYXBjZG4uY29tL2Jvb3RzdHJhcC8zLjIuMC9jc3MvYm9vdHN0cmFwLm1pbi5jc3MiLz4KICAgIDxsaW5rIHJlbD0ic3R5bGVzaGVldCIgaHJlZj0iaHR0cHM6Ly9tYXhjZG4uYm9vdHN0cmFwY2RuLmNvbS9ib290c3RyYXAvMy4yLjAvY3NzL2Jvb3RzdHJhcC10aGVtZS5taW4uY3NzIi8+CiAgICA8bGluayByZWw9InN0eWxlc2hlZXQiIGhyZWY9Imh0dHBzOi8vbWF4Y2RuLmJvb3RzdHJhcGNkbi5jb20vZm9udC1hd2Vzb21lLzQuNi4zL2Nzcy9mb250LWF3ZXNvbWUubWluLmNzcyIvPgogICAgPGxpbmsgcmVsPSJzdHlsZXNoZWV0IiBocmVmPSJodHRwczovL2NkbmpzLmNsb3VkZmxhcmUuY29tL2FqYXgvbGlicy9MZWFmbGV0LmF3ZXNvbWUtbWFya2Vycy8yLjAuMi9sZWFmbGV0LmF3ZXNvbWUtbWFya2Vycy5jc3MiLz4KICAgIDxsaW5rIHJlbD0ic3R5bGVzaGVldCIgaHJlZj0iaHR0cHM6Ly9jZG4uanNkZWxpdnIubmV0L2doL3B5dGhvbi12aXN1YWxpemF0aW9uL2ZvbGl1bS9mb2xpdW0vdGVtcGxhdGVzL2xlYWZsZXQuYXdlc29tZS5yb3RhdGUubWluLmNzcyIvPgogICAgCiAgICAgICAgICAgIDxtZXRhIG5hbWU9InZpZXdwb3J0IiBjb250ZW50PSJ3aWR0aD1kZXZpY2Utd2lkdGgsCiAgICAgICAgICAgICAgICBpbml0aWFsLXNjYWxlPTEuMCwgbWF4aW11bS1zY2FsZT0xLjAsIHVzZXItc2NhbGFibGU9bm8iIC8+CiAgICAgICAgICAgIDxzdHlsZT4KICAgICAgICAgICAgICAgICNtYXBfNGUwM2NmNGNmYTdmNGIxOGI3NzM0OWE5N2MxZjdhYTkgewogICAgICAgICAgICAgICAgICAgIHBvc2l0aW9uOiByZWxhdGl2ZTsKICAgICAgICAgICAgICAgICAgICB3aWR0aDogMTAwLjAlOwogICAgICAgICAgICAgICAgICAgIGhlaWdodDogMTAwLjAlOwogICAgICAgICAgICAgICAgICAgIGxlZnQ6IDAuMCU7CiAgICAgICAgICAgICAgICAgICAgdG9wOiAwLjAlOwogICAgICAgICAgICAgICAgfQogICAgICAgICAgICA8L3N0eWxlPgogICAgICAgIAo8L2hlYWQ+Cjxib2R5PiAgICAKICAgIAogICAgICAgICAgICA8ZGl2IGNsYXNzPSJmb2xpdW0tbWFwIiBpZD0ibWFwXzRlMDNjZjRjZmE3ZjRiMThiNzczNDlhOTdjMWY3YWE5IiA+PC9kaXY+CiAgICAgICAgCjwvYm9keT4KPHNjcmlwdD4gICAgCiAgICAKICAgICAgICAgICAgdmFyIG1hcF80ZTAzY2Y0Y2ZhN2Y0YjE4Yjc3MzQ5YTk3YzFmN2FhOSA9IEwubWFwKAogICAgICAgICAgICAgICAgIm1hcF80ZTAzY2Y0Y2ZhN2Y0YjE4Yjc3MzQ5YTk3YzFmN2FhOSIsCiAgICAgICAgICAgICAgICB7CiAgICAgICAgICAgICAgICAgICAgY2VudGVyOiBbLTIyLjc1NDAxLCAxMTkuMTI0Nzk1XSwKICAgICAgICAgICAgICAgICAgICBjcnM6IEwuQ1JTLkVQU0czODU3LAogICAgICAgICAgICAgICAgICAgIHpvb206IDExLAogICAgICAgICAgICAgICAgICAgIHpvb21Db250cm9sOiB0cnVlLAogICAgICAgICAgICAgICAgICAgIHByZWZlckNhbnZhczogZmFsc2UsCiAgICAgICAgICAgICAgICB9CiAgICAgICAgICAgICk7CgogICAgICAgICAgICAKCiAgICAgICAgCiAgICAKICAgICAgICAgICAgdmFyIHRpbGVfbGF5ZXJfYjFkMTAwZWJiNjlhNGYxM2FiNTU5ODZhMTc4ZTlhNzggPSBMLnRpbGVMYXllcigKICAgICAgICAgICAgICAgICJodHRwOi8vbXQxLmdvb2dsZS5jb20vdnQvbHlycz15XHUwMDI2ej17en1cdTAwMjZ4PXt4fVx1MDAyNnk9e3l9IiwKICAgICAgICAgICAgICAgIHsiYXR0cmlidXRpb24iOiAiR29vZ2xlIiwgImRldGVjdFJldGluYSI6IGZhbHNlLCAibWF4TmF0aXZlWm9vbSI6IDE4LCAibWF4Wm9vbSI6IDE4LCAibWluWm9vbSI6IDAsICJub1dyYXAiOiBmYWxzZSwgIm9wYWNpdHkiOiAxLCAic3ViZG9tYWlucyI6ICJhYmMiLCAidG1zIjogZmFsc2V9CiAgICAgICAgICAgICkuYWRkVG8obWFwXzRlMDNjZjRjZmE3ZjRiMThiNzczNDlhOTdjMWY3YWE5KTsKICAgICAgICAKICAgIAogICAgICAgICAgICB2YXIgcG9seV9saW5lX2I4MWM5NWJjNTEwNDQ4YjI5MTQxYjY2ZTdmODg1ZTU3ID0gTC5wb2x5bGluZSgKICAgICAgICAgICAgICAgIFtbLTIyLjgyOTAxLCAxMTguOTQ5OF0sIFstMjIuODI5MDEsIDExOS4yOTk3OV0sIFstMjIuNjc5MDEsIDExOS4yOTk3OV0sIFstMjIuNjc5MDEsIDExOC45NDk4XSwgWy0yMi44MjkwMSwgMTE4Ljk0OThdXSwKICAgICAgICAgICAgICAgIHsiYnViYmxpbmdNb3VzZUV2ZW50cyI6IHRydWUsICJjb2xvciI6ICJyZWQiLCAiZGFzaEFycmF5IjogbnVsbCwgImRhc2hPZmZzZXQiOiBudWxsLCAiZmlsbCI6IGZhbHNlLCAiZmlsbENvbG9yIjogInJlZCIsICJmaWxsT3BhY2l0eSI6IDAuMiwgImZpbGxSdWxlIjogImV2ZW5vZGQiLCAibGluZUNhcCI6ICJyb3VuZCIsICJsaW5lSm9pbiI6ICJyb3VuZCIsICJub0NsaXAiOiBmYWxzZSwgIm9wYWNpdHkiOiAwLjgsICJzbW9vdGhGYWN0b3IiOiAxLjAsICJzdHJva2UiOiB0cnVlLCAid2VpZ2h0IjogM30KICAgICAgICAgICAgKS5hZGRUbyhtYXBfNGUwM2NmNGNmYTdmNGIxOGI3NzM0OWE5N2MxZjdhYTkpOwogICAgICAgIAogICAgCiAgICAgICAgICAgICAgICB2YXIgbGF0X2xuZ19wb3B1cF9lNjNmOGMxMjkxZmQ0OTVkYTZjNzNmYTIyN2VlNDllOCA9IEwucG9wdXAoKTsKICAgICAgICAgICAgICAgIGZ1bmN0aW9uIGxhdExuZ1BvcChlKSB7CiAgICAgICAgICAgICAgICAgICAgbGF0X2xuZ19wb3B1cF9lNjNmOGMxMjkxZmQ0OTVkYTZjNzNmYTIyN2VlNDllOAogICAgICAgICAgICAgICAgICAgICAgICAuc2V0TGF0TG5nKGUubGF0bG5nKQogICAgICAgICAgICAgICAgICAgICAgICAuc2V0Q29udGVudCgiTGF0aXR1ZGU6ICIgKyBlLmxhdGxuZy5sYXQudG9GaXhlZCg0KSArCiAgICAgICAgICAgICAgICAgICAgICAgICAgICAgICAgICAgICI8YnI+TG9uZ2l0dWRlOiAiICsgZS5sYXRsbmcubG5nLnRvRml4ZWQoNCkpCiAgICAgICAgICAgICAgICAgICAgICAgIC5vcGVuT24obWFwXzRlMDNjZjRjZmE3ZjRiMThiNzczNDlhOTdjMWY3YWE5KTsKICAgICAgICAgICAgICAgICAgICB9CiAgICAgICAgICAgICAgICBtYXBfNGUwM2NmNGNmYTdmNGIxOGI3NzM0OWE5N2MxZjdhYTkub24oJ2NsaWNrJywgbGF0TG5nUG9wKTsKICAgICAgICAgICAgCjwvc2NyaXB0Pg==\" style=\"position:absolute;width:100%;height:100%;left:0;top:0;border:none !important;\" allowfullscreen webkitallowfullscreen mozallowfullscreen></iframe></div></div>"
      ],
      "text/plain": [
       "<folium.folium.Map at 0x7fe973e59710>"
      ]
     },
     "execution_count": 3,
     "metadata": {},
     "output_type": "execute_result"
    }
   ],
   "source": [
    "# testing study area extent - yandi and roy hill\n",
    "lat_extent, lon_extent = (-22.82901, -22.67901), (118.94980, 119.29979)  # yandi\n",
    "#lat_extent, lon_extent = (-22.63461, -22.33461), (119.88111, 120.18111) # royhill\n",
    "\n",
    "# display onto interacrive map\n",
    "display_map(x=lon_extent, y=lat_extent)"
   ]
  },
  {
   "cell_type": "markdown",
   "metadata": {},
   "source": [
    "### Load DEA ODC satellite data"
   ]
  },
  {
   "cell_type": "code",
   "execution_count": 4,
   "metadata": {},
   "outputs": [
    {
     "name": "stderr",
     "output_type": "stream",
     "text": [
      "/env/lib/python3.6/site-packages/datacube/drivers/postgres/_connections.py:87: SADeprecationWarning: Calling URL() directly is deprecated and will be disabled in a future release.  The public constructor for URL is now the URL.create() method.\n",
      "  username=username, password=password,\n",
      "/home/jovyan/tenement-tools/notebooks/gdvspectra/../../../Tools/dea_tools/datahandling.py:237: UserWarning: Setting 'min_gooddata' percentage to > 0.0 will cause dask arrays to compute when loading pixel-quality data to calculate 'good pixel' percentage. This can slow the return of your dataset.\n",
      "  warnings.warn(\"Setting 'min_gooddata' percentage to > 0.0 \"\n"
     ]
    },
    {
     "name": "stdout",
     "output_type": "stream",
     "text": [
      "Loading DEA ODC ARD satellite data.\n",
      "Finding datasets\n",
      "    ga_ls5t_ard_3\n",
      "    ga_ls7e_ard_3 (ignoring SLC-off observations)\n",
      "    ga_ls8c_ard_3\n",
      "Counting good quality pixels for each time step\n",
      "Filtering to 153 out of 206 time steps with at least 90.0% good quality pixels\n",
      "Applying pixel quality/cloud mask\n",
      "Returning 153 time steps as a dask array\n",
      "Satellite imagery fetched successfully.\n"
     ]
    }
   ],
   "source": [
    "# provide study area name\n",
    "study_area = 'yandi'\n",
    "\n",
    "# select start and end year range\n",
    "time_range = ('2009', '2020')\n",
    "\n",
    "# set datacube query parameters\n",
    "platform = 'landsat'\n",
    "bands = ['nbart_blue', 'nbart_green', 'nbart_red', 'nbart_nir', 'nbart_swir_1', 'nbart_swir_2']\n",
    "#bands = ['nbart_blue', 'nbart_green', 'nbart_red', 'nbart_nir_1', 'nbart_swir_2'] # sentinel\n",
    "min_gooddata = 0.90\n",
    "\n",
    "# fetch satellite data from dea ard product\n",
    "ds = satfetcher.load_dea_ard(platform=platform, \n",
    "                             bands=bands, \n",
    "                             x_extent=lon_extent, \n",
    "                             y_extent=lat_extent, \n",
    "                             time_range=time_range, \n",
    "                             min_gooddata=min_gooddata, \n",
    "                             use_dask=True)\n",
    "\n",
    "# display dataset\n",
    "#ds"
   ]
  },
  {
   "cell_type": "markdown",
   "metadata": {},
   "source": [
    "### Conform band names"
   ]
  },
  {
   "cell_type": "code",
   "execution_count": 5,
   "metadata": {},
   "outputs": [
    {
     "name": "stdout",
     "output_type": "stream",
     "text": [
      "Conforming DEA ARD satellite band names.\n",
      "Satellite band names conformed successfully.\n"
     ]
    }
   ],
   "source": [
    "# rename dea bands to common standard\n",
    "ds = satfetcher.conform_dea_ard_band_names(ds=ds, platform=platform)\n",
    "\n",
    "# display dataset\n",
    "#ds"
   ]
  },
  {
   "cell_type": "markdown",
   "metadata": {},
   "source": [
    "### Make a copy of raw dataset"
   ]
  },
  {
   "cell_type": "code",
   "execution_count": 6,
   "metadata": {},
   "outputs": [],
   "source": [
    "# take a copy of dataset for cva later\n",
    "ds_backup = ds.copy(deep=True)"
   ]
  },
  {
   "cell_type": "markdown",
   "metadata": {},
   "source": [
    "## Generate seasonal vegetation and moisture data"
   ]
  },
  {
   "cell_type": "markdown",
   "metadata": {},
   "source": [
    "### Reduce to wet (jfm) and dry (son) season months"
   ]
  },
  {
   "cell_type": "code",
   "execution_count": 7,
   "metadata": {},
   "outputs": [
    {
     "name": "stdout",
     "output_type": "stream",
     "text": [
      "Subsetting down to specified months.\n",
      "Reducing dataset into months: [1, 2, 3, 9, 10, 11].\n",
      "Subset to requested months successfully.\n"
     ]
    }
   ],
   "source": [
    "# set wet and dry season month(s). we will use several per season\n",
    "wet_month, dry_month = [1, 2, 3], [9, 10, 11]\n",
    "\n",
    "# get subset fo data for wet and dry season months\n",
    "ds = gdvspectra.subset_months(ds=ds, \n",
    "                              month=wet_month + dry_month,\n",
    "                              inplace=True)\n",
    "\n",
    "# display dataset\n",
    "#ds"
   ]
  },
  {
   "cell_type": "markdown",
   "metadata": {},
   "source": [
    "### Calculate vegetation and moisture indices"
   ]
  },
  {
   "cell_type": "code",
   "execution_count": 8,
   "metadata": {},
   "outputs": [
    {
     "name": "stdout",
     "output_type": "stream",
     "text": [
      "Calculating indices: ['mavi', 'ndmi'].\n",
      "Calculating index: mavi\n",
      "Calculating index: ndmi\n",
      "Rescaled index values from -1 to 1 -> 0 to 2.\n",
      "Renamed default indices.\n",
      "Calculated indices successfully.\n"
     ]
    }
   ],
   "source": [
    "# calculate veg (mavi) and moist (ndmi) indices\n",
    "ds = tools.calculate_indices(ds=ds, \n",
    "                             index=['mavi', 'ndmi'], \n",
    "                             custom_name=['veg_idx', 'mst_idx'], \n",
    "                             rescale=True, \n",
    "                             drop=True)\n",
    "\n",
    "# display dataset\n",
    "#ds"
   ]
  },
  {
   "cell_type": "markdown",
   "metadata": {},
   "source": [
    "## Resample data"
   ]
  },
  {
   "cell_type": "markdown",
   "metadata": {},
   "source": [
    "### Resample data to annual seasonal (djf and son) medians "
   ]
  },
  {
   "cell_type": "code",
   "execution_count": 9,
   "metadata": {},
   "outputs": [
    {
     "name": "stdout",
     "output_type": "stream",
     "text": [
      "Resampling dataset to annual wet and dry medians.\n",
      "Resampled dataset to annual wet and dry medians successfully.\n"
     ]
    }
   ],
   "source": [
    "# perform resampling\n",
    "ds = gdvspectra.resample_to_wet_dry_medians(ds=ds, \n",
    "                                            wet_month=wet_month, \n",
    "                                            dry_month=dry_month,\n",
    "                                            inplace=True)\n",
    "\n",
    "# display dataset\n",
    "#ds"
   ]
  },
  {
   "cell_type": "markdown",
   "metadata": {},
   "source": [
    "### Persist memory"
   ]
  },
  {
   "cell_type": "code",
   "execution_count": 10,
   "metadata": {},
   "outputs": [],
   "source": [
    "# we have some calcs to make, persist now\n",
    "ds = ds.persist()"
   ]
  },
  {
   "cell_type": "markdown",
   "metadata": {},
   "source": [
    "## Pre-process dataset (e.g., outlier removal, interpolation)"
   ]
  },
  {
   "cell_type": "markdown",
   "metadata": {},
   "source": [
    "### Remove outliers via z-score"
   ]
  },
  {
   "cell_type": "code",
   "execution_count": 11,
   "metadata": {},
   "outputs": [
    {
     "name": "stdout",
     "output_type": "stream",
     "text": [
      "Nullifying wet, dry season outliers usign Z-Score test.\n",
      "No outlier dates detected.\n",
      "Nullified wet, dry season outliers successfully.\n"
     ]
    }
   ],
   "source": [
    "# check for outlier times and nullify whole image. warning: persists memory\n",
    "ds = gdvspectra.nullify_wet_dry_outliers(ds=ds, \n",
    "                                         wet_month=wet_month, \n",
    "                                         dry_month=dry_month, \n",
    "                                         p_value=0.01,\n",
    "                                         inplace=True)\n",
    "\n",
    "# display dataset\n",
    "#ds"
   ]
  },
  {
   "cell_type": "markdown",
   "metadata": {},
   "source": [
    "### Remove any years missing wet, dry season data"
   ]
  },
  {
   "cell_type": "code",
   "execution_count": 12,
   "metadata": {},
   "outputs": [
    {
     "name": "stdout",
     "output_type": "stream",
     "text": [
      "Dropping years where both wet, dry do not exist.\n",
      "No uneven years detected, no data lost.\n"
     ]
    }
   ],
   "source": [
    "# drop any years from dataset where wet and dry seasons missing\n",
    "ds = gdvspectra.drop_incomplete_wet_dry_years(ds)\n",
    "\n",
    "# display dataset\n",
    "#ds"
   ]
  },
  {
   "cell_type": "markdown",
   "metadata": {},
   "source": [
    "### Fill empty data edges via backward and/or forward fill"
   ]
  },
  {
   "cell_type": "code",
   "execution_count": 13,
   "metadata": {},
   "outputs": [],
   "source": [
    "# ! WARNING ! this func requires pre-computed data due to xr-dask bfill and ffill bug\n",
    "# xr-dask bfill/ffill will perform without error, but does not update values in ds\n",
    "# todo - remove this compute when bug fixed in ver > 0.18.2\n",
    "ds = ds.compute()"
   ]
  },
  {
   "cell_type": "code",
   "execution_count": 14,
   "metadata": {},
   "outputs": [
    {
     "name": "stdout",
     "output_type": "stream",
     "text": [
      "Filling empty wet and dry edges in dataset.\n",
      "Filling wet season edges.\n",
      "First time has values. No need to fill.\n",
      "Last time has values. No need to fill.\n",
      "Filling dry season edges.\n",
      "First time has values. No need to fill.\n",
      "Last time has values. No need to fill.\n",
      "Filled empty wet and dry edges successfully.\n"
     ]
    }
   ],
   "source": [
    "# fill any empty first, last years using back/forward fill\n",
    "ds = gdvspectra.fill_empty_wet_dry_edges(ds=ds,\n",
    "                                         wet_month=wet_month, \n",
    "                                         dry_month=dry_month,\n",
    "                                         inplace=True)\n",
    "\n",
    "# display dataset\n",
    "#ds"
   ]
  },
  {
   "cell_type": "markdown",
   "metadata": {},
   "source": [
    "### Interpolate missing data"
   ]
  },
  {
   "cell_type": "code",
   "execution_count": 15,
   "metadata": {},
   "outputs": [
    {
     "name": "stdout",
     "output_type": "stream",
     "text": [
      "Interpolating empty values in dataset.\n",
      "Interpolated empty values successfully.\n"
     ]
    }
   ],
   "source": [
    "# interpolate all missing pixels using full linear interpolation\n",
    "ds =  gdvspectra.interp_empty_wet_dry(ds=ds,\n",
    "                                      wet_month=wet_month, \n",
    "                                      dry_month=dry_month,\n",
    "                                      method='full', \n",
    "                                      inplace=True)\n",
    "\n",
    "# display dataset\n",
    "#ds"
   ]
  },
  {
   "cell_type": "markdown",
   "metadata": {},
   "source": [
    "## Standardise data"
   ]
  },
  {
   "cell_type": "markdown",
   "metadata": {},
   "source": [
    "### Generate invariant targets and standardise"
   ]
  },
  {
   "cell_type": "code",
   "execution_count": 16,
   "metadata": {},
   "outputs": [
    {
     "name": "stdout",
     "output_type": "stream",
     "text": [
      "Standardising data using invariant targets.\n",
      "Calculating invariant target sites.\n",
      "Got orthogonal polynomial coefficients: [-11.  -9.  -7.  -5.  -3.  -1.   1.   3.   5.   7.   9.  11.]\n",
      "Got sum of squares: 572 and constant 2: \n",
      "Created invariant target sites successfully.\n",
      "Standardising to invariant targets, rescaling via fuzzy sigmoidal.\n",
      "Standardised using invariant targets successfully.\n"
     ]
    }
   ],
   "source": [
    "# standardise data to invariant targets derived from dry times\n",
    "ds = gdvspectra.standardise_to_dry_targets(ds=ds, \n",
    "                                           dry_month=dry_month, \n",
    "                                           q_upper=0.99, \n",
    "                                           q_lower=0.05,\n",
    "                                           inplace=True)\n",
    "\n",
    "# display dataset\n",
    "#ds"
   ]
  },
  {
   "cell_type": "markdown",
   "metadata": {},
   "source": [
    "## Calculate seasonal similarity"
   ]
  },
  {
   "cell_type": "markdown",
   "metadata": {},
   "source": [
    "### Calculate seasonal similarity"
   ]
  },
  {
   "cell_type": "code",
   "execution_count": null,
   "metadata": {},
   "outputs": [],
   "source": [
    "# calculate standardised seaonal similarity (diff between wet, dry per year)\n",
    "ds_similarity = gdvspectra.calc_seasonal_similarity(ds=ds,\n",
    "                                                    wet_month=wet_month,\n",
    "                                                    dry_month=dry_month,\n",
    "                                                    q_mask=0.9,\n",
    "                                                    inplace=True)\n",
    "\n",
    "# display dataset\n",
    "#ds"
   ]
  },
  {
   "cell_type": "markdown",
   "metadata": {},
   "source": [
    "## Perform GDV likelihood modelling"
   ]
  },
  {
   "cell_type": "markdown",
   "metadata": {},
   "source": [
    "### Generate likelihood model"
   ]
  },
  {
   "cell_type": "code",
   "execution_count": null,
   "metadata": {},
   "outputs": [],
   "source": [
    "# generate gdv likelihood model using wet, dry, similarity variables\n",
    "ds_like = gdvspectra.calc_likelihood(ds=ds, \n",
    "                                     ds_similarity=ds_similarity,\n",
    "                                     wet_month=wet_month, \n",
    "                                     dry_month=dry_month)\n",
    "\n",
    "# preview an all-time median of gdv likelihood. red is high likelihood\n",
    "fig = plt.figure(figsize=(10, 5))\n",
    "ds_like['like'].median('time').plot(robust=True, cmap='jet')"
   ]
  },
  {
   "cell_type": "markdown",
   "metadata": {},
   "source": [
    "### Generate field occurrence points for thresholding"
   ]
  },
  {
   "cell_type": "code",
   "execution_count": null,
   "metadata": {},
   "outputs": [],
   "source": [
    "# set location of point shapefile with presence/absence column\n",
    "#shp_path = r'../GDVSDM/data_testing/presence_points/presence_points.shp'\n",
    "shp_path = r'../../data/gdvspectra/yandi_2_final_albers.shp'\n",
    "\n",
    "# read shapefile as pandas dataframe\n",
    "df_records = tools.read_shapefile(shp_path=shp_path)\n",
    "\n",
    "# subset to just x, y, pres/abse column\n",
    "df_records = tools.subset_records(df_records=df_records, p_a_column='GDV_ACT')\n",
    "\n",
    "# display dataframe\n",
    "#df_records"
   ]
  },
  {
   "cell_type": "markdown",
   "metadata": {},
   "source": [
    "### Threshold likelihood"
   ]
  },
  {
   "cell_type": "code",
   "execution_count": null,
   "metadata": {},
   "outputs": [],
   "source": [
    "# perform thresholding using standard deviation on all-time median likelihood\n",
    "ds_thresh = gdvspectra.threshold_likelihood(ds=ds_like.median('time', keep_attrs=True),\n",
    "                                            df=df_records, \n",
    "                                            num_stdevs=2.5, \n",
    "                                            res_factor=3, \n",
    "                                            if_nodata='any')\n",
    "\n",
    "# preview an all-time median of gdv likelihood thresholded\n",
    "fig = plt.figure(figsize=(10, 5))\n",
    "ds_thresh.where(~ds_thresh.isnull(), 0.001)['like'].plot(robust=False, cmap='jet')"
   ]
  },
  {
   "cell_type": "markdown",
   "metadata": {},
   "source": [
    "### Export GDV likelihood and threshold for later"
   ]
  },
  {
   "cell_type": "code",
   "execution_count": null,
   "metadata": {},
   "outputs": [],
   "source": [
    "# export likelihood and thresholds   \n",
    "#tools.export_xr_as_nc(ds_like, filename='ds_likelihood.nc')\n",
    "#tools.export_xr_as_nc(ds_thresh, filename='ds_threshold.nc')"
   ]
  },
  {
   "cell_type": "markdown",
   "metadata": {},
   "source": [
    "## Perform trend analysis"
   ]
  },
  {
   "cell_type": "markdown",
   "metadata": {},
   "source": [
    "### Calculate trends using Mann-Kendall trend analysis"
   ]
  },
  {
   "cell_type": "code",
   "execution_count": null,
   "metadata": {},
   "outputs": [],
   "source": [
    "# create a mask where gdv highly likely\n",
    "ds_mask = xr.where(~ds_thresh.isnull(), True, False)\n",
    "\n",
    "# do mk to find sig. inc/dec trends in high likelihood areas\n",
    "ds_mk = gdvspectra.perform_mk_original(ds=ds_like.where(ds_mask), \n",
    "                                       pvalue=None, \n",
    "                                       direction='both')\n",
    "\n",
    "# show mk trends. blue is increasing, red is decreasing\n",
    "fig = plt.figure(figsize=(10, 5))\n",
    "ds_mk['tau'].plot(robust=True, cmap='Spectral')"
   ]
  },
  {
   "cell_type": "markdown",
   "metadata": {},
   "source": [
    "### Calculate slope using Theil-Sen"
   ]
  },
  {
   "cell_type": "code",
   "execution_count": null,
   "metadata": {},
   "outputs": [],
   "source": [
    "# create a mask where gdv highly likely\n",
    "ds_mask = xr.where(~ds_thresh.isnull(), True, False)\n",
    "\n",
    "# do theil sen slopes in high likelihood areas\n",
    "ds_ts = gdvspectra.perform_theilsen_slope(ds=ds_like.where(ds_mask), \n",
    "                                          alpha=0.95)\n",
    "\n",
    "# show mk trends. blue is increasing, red is decreasing\n",
    "fig = plt.figure(figsize=(10, 5))\n",
    "ds_ts['theilsen'].plot(robust=True, cmap='Spectral')"
   ]
  },
  {
   "cell_type": "markdown",
   "metadata": {},
   "source": [
    "## Peform Change Vector Analysis (CVA)"
   ]
  },
  {
   "cell_type": "markdown",
   "metadata": {},
   "source": [
    "### Get specific months from dataset copy"
   ]
  },
  {
   "cell_type": "code",
   "execution_count": null,
   "metadata": {},
   "outputs": [],
   "source": [
    "# set months in which to assess trend\n",
    "trend_months = [9, 10, 11]\n",
    "\n",
    "# subset months we want to assess across years during trend analysis\n",
    "ds_cva = gdvspectra.subset_months(ds_backup, \n",
    "                                  month=trend_months)\n",
    "\n",
    "# display dataset\n",
    "#ds_cva"
   ]
  },
  {
   "cell_type": "markdown",
   "metadata": {},
   "source": [
    "### Generate tasselled cap greenness and brightness"
   ]
  },
  {
   "cell_type": "code",
   "execution_count": null,
   "metadata": {},
   "outputs": [],
   "source": [
    "# calculate tasselled cap greenness and brightness indices\n",
    "ds_cva = tools.calculate_indices(ds=ds_cva, \n",
    "                                 index=['tcg', 'tcb'],\n",
    "                                 rescale=False, \n",
    "                                 drop=True)\n",
    "\n",
    "# display dataset\n",
    "#ds_cva"
   ]
  },
  {
   "cell_type": "markdown",
   "metadata": {},
   "source": [
    "### Compute into memory"
   ]
  },
  {
   "cell_type": "code",
   "execution_count": null,
   "metadata": {},
   "outputs": [],
   "source": [
    "# resample median bug with dask, must have computed values\n",
    "ds_cva = ds_cva.compute()"
   ]
  },
  {
   "cell_type": "markdown",
   "metadata": {},
   "source": [
    "### Resample annual medians for selected dates"
   ]
  },
  {
   "cell_type": "code",
   "execution_count": null,
   "metadata": {},
   "outputs": [],
   "source": [
    "# reduce all selected months into annual medians (year starts, YS)\n",
    "ds_cva = gdvspectra.resample_to_freq_medians(ds=ds_cva,\n",
    "                                             freq='YS',\n",
    "                                             inplace=True)"
   ]
  },
  {
   "cell_type": "markdown",
   "metadata": {},
   "source": [
    "### Interpolate missing data"
   ]
  },
  {
   "cell_type": "code",
   "execution_count": null,
   "metadata": {},
   "outputs": [],
   "source": [
    "# interpolate all missing pixels using full linear interpolation\n",
    "ds_cva = gdvspectra.interp_empty(ds=ds_cva,\n",
    "                                 method='full',\n",
    "                                 inplace=True)\n",
    "\n",
    "# display dataset\n",
    "#ds_cva"
   ]
  },
  {
   "cell_type": "markdown",
   "metadata": {},
   "source": [
    "### Standardise using invariant targets"
   ]
  },
  {
   "cell_type": "code",
   "execution_count": null,
   "metadata": {},
   "outputs": [],
   "source": [
    "# standardise to targets\n",
    "ds_cva = gdvspectra.standardise_to_targets(ds_cva, \n",
    "                                           q_upper=0.99, \n",
    "                                           q_lower=0.05)\n",
    "\n",
    "# display dataset\n",
    "#ds_cva"
   ]
  },
  {
   "cell_type": "markdown",
   "metadata": {},
   "source": [
    "### Perform Change Vector Analysis"
   ]
  },
  {
   "cell_type": "code",
   "execution_count": null,
   "metadata": {},
   "outputs": [],
   "source": [
    "# set baseline date range. we will do just 2009\n",
    "base_times = (2009, 2009)\n",
    "\n",
    "# set comparison date range. we can compare each to baseline seperately\n",
    "comp_times = (2015, 2020)\n",
    "\n",
    "# generate cva\n",
    "ds_cva_out = gdvspectra.perform_cva(ds=ds_cva,\n",
    "                                    base_times=base_times,\n",
    "                                    comp_times=comp_times,\n",
    "                                    reduce_comp=False,\n",
    "                                    vege_var = 'tcg',\n",
    "                                    soil_var = 'tcb',\n",
    "                                    tmf=2)\n",
    "\n",
    "# plot magnitude of all change between 2009 and 2020\n",
    "fig = plt.figure(figsize=(10, 5))\n",
    "ds_cva_out['magnitude'].isel(time=-1).plot(robust=True, cmap='Reds')"
   ]
  },
  {
   "cell_type": "markdown",
   "metadata": {},
   "source": [
    "### Isolate vegetation death change type"
   ]
  },
  {
   "cell_type": "code",
   "execution_count": null,
   "metadata": {},
   "outputs": [],
   "source": [
    "# isolate angles between 90-180 degrees to focus on veg decline only\n",
    "ds_dec = gdvspectra.isolate_cva_change(ds_cva_out, angle_min=90, angle_max=180)\n",
    "\n",
    "# plot magnitude for veg decline areas in 2020\n",
    "fig = plt.figure(figsize=(10, 5))\n",
    "ds_dec['magnitude'].isel(time=-1).plot(robust=True, cmap='Reds')"
   ]
  },
  {
   "cell_type": "markdown",
   "metadata": {},
   "source": [
    "### Isolate vegetation growth change type"
   ]
  },
  {
   "cell_type": "code",
   "execution_count": null,
   "metadata": {},
   "outputs": [],
   "source": [
    "# isolate angles between 90-180 degrees to focus on veg decline only\n",
    "ds_inc = gdvspectra.isolate_cva_change(ds_cva_out, angle_min=270, angle_max=360)\n",
    "\n",
    "# plot magnitude for veg decline areas in 2020\n",
    "fig = plt.figure(figsize=(10, 5))\n",
    "ds_inc['magnitude'].isel(time=-1).plot(robust=True, cmap='Greens')"
   ]
  },
  {
   "cell_type": "markdown",
   "metadata": {},
   "source": [
    "### Intersect veg decline with GDV likelihood areas"
   ]
  },
  {
   "cell_type": "code",
   "execution_count": null,
   "metadata": {},
   "outputs": [],
   "source": [
    "# warning this doesnt work.\n",
    "\n",
    "# create a mask where gdv highly likely\n",
    "ds_mask = xr.where(~ds_thresh.isnull(), True, False)\n",
    "\n",
    "# select change areas where gdv exists for inc, dec\n",
    "ds_inc = ds_inc.where(ds_mask)\n",
    "ds_dec = ds_dec.where(ds_mask)"
   ]
  },
  {
   "cell_type": "markdown",
   "metadata": {},
   "source": [
    "## Perform Break Point Detection on pixel"
   ]
  },
  {
   "cell_type": "code",
   "execution_count": null,
   "metadata": {},
   "outputs": [],
   "source": [
    "#pip install ruptures"
   ]
  },
  {
   "cell_type": "markdown",
   "metadata": {},
   "source": [
    "### Calculate tasselled cap greenness"
   ]
  },
  {
   "cell_type": "code",
   "execution_count": null,
   "metadata": {},
   "outputs": [],
   "source": [
    "# calculate tasselled cap greenness and brightness indices\n",
    "ds_breaks = tools.calculate_indices(ds=ds_backup, index=['tcg'], rescale=False, drop=True)\n",
    "\n",
    "# display dataset\n",
    "#ds_breaks"
   ]
  },
  {
   "cell_type": "markdown",
   "metadata": {},
   "source": [
    "### Resample monthly medians for each year"
   ]
  },
  {
   "cell_type": "code",
   "execution_count": null,
   "metadata": {},
   "outputs": [],
   "source": [
    "# reduce all selected months into monthly medians\n",
    "ds_breaks = gdvspectra.resample_to_freq_medians(ds=ds_breaks,\n",
    "                                                freq='1MS',\n",
    "                                                inplace=True)\n",
    "\n",
    "# display dataset\n",
    "#ds_breaks"
   ]
  },
  {
   "cell_type": "markdown",
   "metadata": {},
   "source": [
    "### Interpolate empty months along month axis"
   ]
  },
  {
   "cell_type": "code",
   "execution_count": null,
   "metadata": {},
   "outputs": [],
   "source": [
    "# interpolate empty values along monthly dimension\n",
    "ds_breaks = gdvspectra.interp_empty_months(ds=ds_breaks, \n",
    "                                           method='full',\n",
    "                                           inplace=True)\n",
    "\n",
    "# display dataset\n",
    "#ds_breaks"
   ]
  },
  {
   "cell_type": "markdown",
   "metadata": {},
   "source": [
    "### Compute into memory"
   ]
  },
  {
   "cell_type": "code",
   "execution_count": null,
   "metadata": {},
   "outputs": [],
   "source": [
    "# we need values, do a final compute\n",
    "ds_breaks = ds_breaks.compute()"
   ]
  },
  {
   "cell_type": "markdown",
   "metadata": {},
   "source": [
    "### Detect breaks for selected pixels (to implement in ArcGIS)"
   ]
  },
  {
   "cell_type": "code",
   "execution_count": null,
   "metadata": {},
   "outputs": [],
   "source": [
    "%autoreload\n",
    "# take x, y from clicked pixel in arcgis\n",
    "x, y = -1322085.0, -2514525.0\n",
    "\n",
    "# get values, dates\n",
    "da = ds_breaks.sel(x=x, y=y, method='nearest', tolerance=50)\n",
    "values, times = np.array(da['tcg']), np.array(da['time'])\n",
    "\n",
    "# detect_breaks(values, times, pen=3)\n",
    "break_times = gdvspectra.detect_breaks(values=values, \n",
    "                                       times=times, \n",
    "                                       pen=3, \n",
    "                                       fill_nan=True, \n",
    "                                       quick_plot=True)\n",
    "\n",
    "# display dataset\n",
    "#break_times"
   ]
  },
  {
   "cell_type": "code",
   "execution_count": null,
   "metadata": {},
   "outputs": [],
   "source": []
  }
 ],
 "metadata": {
  "kernelspec": {
   "display_name": "Python 3",
   "language": "python",
   "name": "python3"
  },
  "language_info": {
   "codemirror_mode": {
    "name": "ipython",
    "version": 3
   },
   "file_extension": ".py",
   "mimetype": "text/x-python",
   "name": "python",
   "nbconvert_exporter": "python",
   "pygments_lexer": "ipython3",
   "version": "3.6.9"
  }
 },
 "nbformat": 4,
 "nbformat_minor": 4
}
