{
 "cells": [
  {
   "cell_type": "markdown",
   "metadata": {},
   "source": [
    "# VegFrax"
   ]
  },
  {
   "cell_type": "markdown",
   "metadata": {},
   "source": [
    "## Initialise VegFrax"
   ]
  },
  {
   "cell_type": "markdown",
   "metadata": {},
   "source": [
    "### Load packages"
   ]
  },
  {
   "cell_type": "code",
   "execution_count": null,
   "metadata": {},
   "outputs": [],
   "source": [
    "%matplotlib inline\n",
    "%load_ext autoreload\n",
    "\n",
    "import os\n",
    "import sys\n",
    "import gdal\n",
    "import pandas as pd\n",
    "import numpy as np\n",
    "import xarray as xr\n",
    "import matplotlib.pyplot as plt\n",
    "\n",
    "import datacube\n",
    "sys.path.append('../../../Scripts')\n",
    "from dea_datahandling import load_ard\n",
    "from dea_dask import create_local_dask_cluster\n",
    "from dea_plotting import display_map, rgb\n",
    "\n",
    "sys.path.append('../../modules')\n",
    "import vegfrax\n",
    "\n",
    "sys.path.append('../../shared')\n",
    "import satfetcher, tools\n",
    "\n",
    "#sys.path.append('./gdvtools')\n",
    "#import gdvtools"
   ]
  },
  {
   "cell_type": "markdown",
   "metadata": {},
   "source": [
    "### Set up a dask cluster"
   ]
  },
  {
   "cell_type": "code",
   "execution_count": null,
   "metadata": {},
   "outputs": [],
   "source": [
    "# initialise the cluster. paste url into dask panel for more info.\n",
    "create_local_dask_cluster()"
   ]
  },
  {
   "cell_type": "markdown",
   "metadata": {},
   "source": [
    "## Load and validate high-res classified local raster"
   ]
  },
  {
   "cell_type": "code",
   "execution_count": null,
   "metadata": {},
   "outputs": [],
   "source": [
    "# set path to high-resolution classified image (e.g. 10m Sentinel 2 or 1m WV)\n",
    "rast_class = [r'../../data/vegfrax/class/roy_veg_class.tif']\n",
    "\n",
    "# validate basic raster properties\n",
    "tools.validate_rasters(rast_class)\n",
    "\n",
    "# load raster as an xarray dataset and set nodata to -9999\n",
    "#ds_class = gdvtools.rasters_to_dataset(rast_class, nodata_value=-9999)\n",
    "ds_class = satfetcher.load_local_rasters(rast_path_list=rast_class, \n",
    "                                         use_dask=True, \n",
    "                                         conform_nodata_to=-9999)\n",
    "\n",
    "# compute raster into memory\n",
    "ds_class = ds_class.compute()\n",
    "\n",
    "\n",
    "# rename band\n",
    "ds_class = ds_class.rename({list(ds_class.data_vars)[0]: 'classes'}) # todo - own func?\n",
    "\n",
    "# get unique classes inherent in data\n",
    "np_classes = vegfrax.get_dataset_classes(ds_class, nodata_value=-9999)"
   ]
  },
  {
   "cell_type": "markdown",
   "metadata": {},
   "source": [
    "### Load low-res raw (local raster approach)"
   ]
  },
  {
   "cell_type": "code",
   "execution_count": null,
   "metadata": {},
   "outputs": [],
   "source": [
    "\"\"\"\n",
    "# set path to pre-existing low-resolution raw image of same area (e.g. landsat)\n",
    "rast_raw = [\n",
    "    './data/fraser/raw/modis_b1_500m_201905.tif',\n",
    "    './data/fraser/raw/modis_b2_500m_201905.tif',\n",
    "    './data/fraser/raw/modis_b3_500m_201905.tif',\n",
    "    './data/fraser/raw/modis_b4_500m_201905.tif',\n",
    "    './data/fraser/raw/modis_b5_500m_201905.tif',\n",
    "    './data/fraser/raw/modis_b6_500m_201905.tif',\n",
    "    './data/fraser/raw/modis_b7_500m_201905.tif'\n",
    "]\n",
    "\n",
    "# sort rasters in band order\n",
    "rast_raw.sort()\n",
    "\n",
    "# validate basic raster properties\n",
    "gdvtools.validate_rasters(rast_raw)\n",
    "\n",
    "# load raster as an xarray dataset and set nodata to -9999\n",
    "ds_raw = gdvtools.rasters_to_dataset(rast_raw, nodata_value=-9999)\n",
    "\n",
    "# display dataset\n",
    "#print(ds_raw)\n",
    "\"\"\""
   ]
  },
  {
   "cell_type": "markdown",
   "metadata": {},
   "source": [
    "## Load lower-res Sentienl data (ODC approach)"
   ]
  },
  {
   "cell_type": "markdown",
   "metadata": {},
   "source": [
    "### Set study area, time range, show map"
   ]
  },
  {
   "cell_type": "code",
   "execution_count": null,
   "metadata": {},
   "outputs": [],
   "source": [
    "# open up a datacube connection\n",
    "dc = datacube.Datacube(app='vegfrax')"
   ]
  },
  {
   "cell_type": "code",
   "execution_count": null,
   "metadata": {},
   "outputs": [],
   "source": [
    "# testing study area extent - yandi and roy hill\n",
    "lat_extent, lon_extent = (-22.63461, -22.33461), (119.88111, 120.18111) # royhill\n",
    "\n",
    "# display onto interacrive map\n",
    "display_map(x=lon_extent, y=lat_extent)"
   ]
  },
  {
   "cell_type": "code",
   "execution_count": null,
   "metadata": {},
   "outputs": [],
   "source": [
    "# provide study area name\n",
    "study_area = 'royhill'\n",
    "\n",
    "# select start and end year range\n",
    "time_range = ('2016-10', '2016-11')\n",
    "\n",
    "# set datacube query parameters\n",
    "platform = 'sentinel'\n",
    "#bands = ['nbart_blue', 'nbart_green', 'nbart_red', 'nbart_nir', 'nbart_swir_1', 'nbart_swir_2']\n",
    "bands = ['nbart_blue', 'nbart_green', 'nbart_red', 'nbart_nir_1', 'nbart_swir_2', 'nbart_swir_3'] # sentinel\n",
    "min_gooddata = 0.90\n",
    "\n",
    "# fetch satellite data from dea ard product\n",
    "ds_raw = satfetcher.load_dea_ard(platform=platform, \n",
    "                                 bands=bands, \n",
    "                                 x_extent=lon_extent, \n",
    "                                 y_extent=lat_extent, \n",
    "                                 time_range=time_range, \n",
    "                                 min_gooddata=min_gooddata, \n",
    "                                 use_dask=True)\n",
    "\n",
    "# display dataset\n",
    "#ds_raw"
   ]
  },
  {
   "cell_type": "markdown",
   "metadata": {},
   "source": [
    "### Conform band names"
   ]
  },
  {
   "cell_type": "code",
   "execution_count": null,
   "metadata": {},
   "outputs": [],
   "source": [
    "# rename dea bands to common standard\n",
    "ds_raw = satfetcher.conform_dea_ard_band_names(ds=ds_raw, platform=platform)\n",
    "\n",
    "# display dataset\n",
    "#ds_raw"
   ]
  },
  {
   "cell_type": "markdown",
   "metadata": {},
   "source": [
    "### Calculate tasselled cap bands"
   ]
  },
  {
   "cell_type": "code",
   "execution_count": null,
   "metadata": {},
   "outputs": [],
   "source": [
    "# calculate veg (mavi) and moist (ndmi) indices\n",
    "ds_raw = tools.calculate_indices(ds=ds_raw, \n",
    "                                 index=['tcg', 'tcb', 'tcw'], \n",
    "                                 custom_name=None, \n",
    "                                 rescale=False, \n",
    "                                 drop=True)\n",
    "\n",
    "# display dataset\n",
    "#ds_raw"
   ]
  },
  {
   "cell_type": "markdown",
   "metadata": {},
   "source": [
    "### Reduce to a median of all times"
   ]
  },
  {
   "cell_type": "code",
   "execution_count": null,
   "metadata": {},
   "outputs": [],
   "source": [
    "# reduce to median image\n",
    "ds_raw = ds_raw.median('time', keep_attrs=True)\n",
    "\n",
    "# compute into memory\n",
    "ds_raw = ds_raw.compute()"
   ]
  },
  {
   "cell_type": "code",
   "execution_count": null,
   "metadata": {},
   "outputs": [],
   "source": [
    "ds_raw['tcw'].plot(robust=True)"
   ]
  },
  {
   "cell_type": "markdown",
   "metadata": {},
   "source": [
    "## Prepare random samples"
   ]
  },
  {
   "cell_type": "markdown",
   "metadata": {},
   "source": [
    "### Generate random samples from raw and classified raster overlaps"
   ]
  },
  {
   "cell_type": "code",
   "execution_count": null,
   "metadata": {},
   "outputs": [],
   "source": [
    "# set number of samples for training\n",
    "num_samples = 1000\n",
    "\n",
    "# generate random samples within area overlap between raw and classified rasters\n",
    "df_samples = vegfrax.generate_random_samples(ds_raw, ds_class, num_samples=num_samples, nodata_value=-9999)\n",
    "\n",
    "# display result\n",
    "#print(df_samples)"
   ]
  },
  {
   "cell_type": "markdown",
   "metadata": {},
   "source": [
    "### Extract values from raw rasters (e.g. low resolution image bands)"
   ]
  },
  {
   "cell_type": "code",
   "execution_count": null,
   "metadata": {},
   "outputs": [],
   "source": [
    "# extract pixel values from raw, low resolution rasters at each point\n",
    "df_extract = tools.extract_xr_values(ds=ds_raw, \n",
    "                                     coords=df_samples, \n",
    "                                     keep_xy=True, \n",
    "                                     nodata_value=-9999)\n",
    "\n",
    "# display result\n",
    "#print(df_extract)"
   ]
  },
  {
   "cell_type": "markdown",
   "metadata": {},
   "source": [
    "### Remove any no data values from extraction"
   ]
  },
  {
   "cell_type": "code",
   "execution_count": null,
   "metadata": {},
   "outputs": [],
   "source": [
    "# remove any points containing a nodata value\n",
    "df_extract_clean = tools.remove_nodata_records(df_extract, nodata_value=-9999)\n",
    "\n",
    "# display result\n",
    "#print(df_extract_clean)"
   ]
  },
  {
   "cell_type": "markdown",
   "metadata": {},
   "source": [
    "## Generate and prepare frequency windows and analysis data"
   ]
  },
  {
   "cell_type": "markdown",
   "metadata": {},
   "source": [
    "### Build raw focal window extents from random sample points"
   ]
  },
  {
   "cell_type": "code",
   "execution_count": null,
   "metadata": {},
   "outputs": [],
   "source": [
    "# generate focal windows and extract pixels from class raster\n",
    "df_windows = vegfrax.create_frequency_windows(ds_raw, ds_class, df_extract_clean)\n",
    "\n",
    "# display result\n",
    "#print(df_windows)"
   ]
  },
  {
   "cell_type": "markdown",
   "metadata": {},
   "source": [
    "### Convert raw windows to class frequency information"
   ]
  },
  {
   "cell_type": "code",
   "execution_count": null,
   "metadata": {},
   "outputs": [],
   "source": [
    "# transform raw focal window pixel classes and counts to unique classes and frequencies at each point\n",
    "df_freqs = vegfrax.convert_window_counts_to_freqs(df_windows, nodata_value=-9999)\n",
    "\n",
    "# display result\n",
    "#print(df_freqs)"
   ]
  },
  {
   "cell_type": "markdown",
   "metadata": {},
   "source": [
    "### Select desired analysis classes and prepare data for analysis"
   ]
  },
  {
   "cell_type": "code",
   "execution_count": null,
   "metadata": {},
   "outputs": [],
   "source": [
    "# set desired output classes. keep empty to produce all classes. could put 1, 2 for classes 1 and 2.\n",
    "override_classes = ['2', '3', '10']\n",
    "\n",
    "# prepare data for analysis - prepare classes, nulls, normalise frequencies\n",
    "df_data = vegfrax.prepare_freqs_for_analysis(ds_raw, \n",
    "                                             ds_class, \n",
    "                                             df_freqs, \n",
    "                                             override_classes, \n",
    "                                             nodata_value=-9999)\n",
    "\n",
    "# display result\n",
    "#print(df_data)"
   ]
  },
  {
   "cell_type": "markdown",
   "metadata": {},
   "source": [
    "## Perform Fractional Cover Analysis (FCA)"
   ]
  },
  {
   "cell_type": "markdown",
   "metadata": {},
   "source": [
    "### Set FCA modelling parameters"
   ]
  },
  {
   "cell_type": "code",
   "execution_count": null,
   "metadata": {},
   "outputs": [],
   "source": [
    "# set gridsearch fit optimiser parameters (see sklearn gridsearchcv docs for more)\n",
    "grid_params = {\n",
    "    'max_depth': [3, 5, 7],\n",
    "    'n_estimators': [10, 100, 250]\n",
    "}\n",
    "\n",
    "# set number of train/test set cross-validations (higher better, but slower)\n",
    "validation_iters = 50"
   ]
  },
  {
   "cell_type": "markdown",
   "metadata": {},
   "source": [
    "### Perform the FCA "
   ]
  },
  {
   "cell_type": "code",
   "execution_count": null,
   "metadata": {},
   "outputs": [],
   "source": [
    "# perform fca\n",
    "ds_preds = vegfrax.perform_fca(ds_raw, ds_class, df_data, df_extract_clean, \n",
    "                               grid_params, validation_iters, nodata_value=-9999)"
   ]
  },
  {
   "cell_type": "markdown",
   "metadata": {},
   "source": [
    "## Display a vegetation class"
   ]
  },
  {
   "cell_type": "code",
   "execution_count": null,
   "metadata": {},
   "outputs": [],
   "source": [
    "# set the class to plot (e.g. 6 = shrubland, 1 = Eucalyptus woodland)\n",
    "class_label = '3'\n",
    "\n",
    "# create fig\n",
    "fig = plt.figure(figsize=(9, 9))\n",
    "\n",
    "# plot this class on map\n",
    "ds_preds[class_label].plot(cmap='terrain_r')"
   ]
  },
  {
   "cell_type": "code",
   "execution_count": null,
   "metadata": {},
   "outputs": [],
   "source": [
    "from datacube.utils.cog import write_cog\n",
    "\n",
    "da = ds_preds[class_label]\n",
    "da.attrs = ds_raw.attrs\n",
    "\n",
    "write_cog(geo_im=da, \n",
    "          fname='class_{0}.tif'.format(class_label), \n",
    "          overwrite=True, \n",
    "          nodata=-9999)"
   ]
  },
  {
   "cell_type": "code",
   "execution_count": null,
   "metadata": {},
   "outputs": [],
   "source": []
  }
 ],
 "metadata": {
  "kernelspec": {
   "display_name": "Python 3",
   "language": "python",
   "name": "python3"
  },
  "language_info": {
   "codemirror_mode": {
    "name": "ipython",
    "version": 3
   },
   "file_extension": ".py",
   "mimetype": "text/x-python",
   "name": "python",
   "nbconvert_exporter": "python",
   "pygments_lexer": "ipython3",
   "version": "3.6.9"
  }
 },
 "nbformat": 4,
 "nbformat_minor": 4
}
