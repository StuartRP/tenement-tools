{
 "cells": [
  {
   "cell_type": "markdown",
   "metadata": {},
   "source": [
    "# VegFrax"
   ]
  },
  {
   "cell_type": "markdown",
   "metadata": {},
   "source": [
    "## Initialise VegFrax"
   ]
  },
  {
   "cell_type": "markdown",
   "metadata": {},
   "source": [
    "### Load packages"
   ]
  },
  {
   "cell_type": "code",
   "execution_count": null,
   "metadata": {},
   "outputs": [],
   "source": [
    "%matplotlib inline\n",
    "%load_ext autoreload\n",
    "\n",
    "import os\n",
    "import sys\n",
    "import gdal\n",
    "import pandas as pd\n",
    "import numpy as np\n",
    "import xarray as xr\n",
    "import datacube\n",
    "import matplotlib.pyplot as plt\n",
    "\n",
    "sys.path.append('../Scripts')\n",
    "from dea_datahandling import load_ard\n",
    "from dea_dask import create_local_dask_cluster\n",
    "from dea_plotting import display_map, rgb\n",
    "\n",
    "sys.path.append('./scripts')\n",
    "import vegfrax\n",
    "\n",
    "sys.path.append('./gdvtools')\n",
    "import gdvtools"
   ]
  },
  {
   "cell_type": "markdown",
   "metadata": {},
   "source": [
    "### Set up a dask cluster"
   ]
  },
  {
   "cell_type": "code",
   "execution_count": null,
   "metadata": {},
   "outputs": [],
   "source": [
    "# initialise the cluster. paste url into dask panel for more info.\n",
    "create_local_dask_cluster()"
   ]
  },
  {
   "cell_type": "markdown",
   "metadata": {},
   "source": [
    "## Load classified and raw raster data"
   ]
  },
  {
   "cell_type": "markdown",
   "metadata": {},
   "source": [
    "### Load and validate high-res classified raster"
   ]
  },
  {
   "cell_type": "code",
   "execution_count": null,
   "metadata": {},
   "outputs": [],
   "source": [
    "# set path to high-resolution classified image (e.g. 10m Sentinel 2 or 1m WV)\n",
    "rast_class = [r'./data/fraser/class/fraser_10m_class.tif']\n",
    "\n",
    "# validate basic raster properties\n",
    "gdvtools.validate_rasters(rast_class)\n",
    "\n",
    "# load raster as an xarray dataset and set nodata to -9999\n",
    "ds_class = gdvtools.rasters_to_dataset(rast_class, nodata_value=-9999)\n",
    "\n",
    "# rename band\n",
    "ds_class = ds_class.rename({list(ds_class.data_vars)[0]: 'classes'}) # todo - own func?\n",
    "\n",
    "# get unique classes inherent in data\n",
    "np_classes = vegfrax.get_dataset_classes(ds_class, nodata_value=-9999)"
   ]
  },
  {
   "cell_type": "markdown",
   "metadata": {},
   "source": [
    "### Load low-res raw (local raster approach)"
   ]
  },
  {
   "cell_type": "code",
   "execution_count": null,
   "metadata": {},
   "outputs": [],
   "source": [
    "# set path to pre-existing low-resolution raw image of same area (e.g. landsat)\n",
    "rast_raw = [\n",
    "    './data/fraser/raw/modis_b1_500m_201905.tif',\n",
    "    './data/fraser/raw/modis_b2_500m_201905.tif',\n",
    "    './data/fraser/raw/modis_b3_500m_201905.tif',\n",
    "    './data/fraser/raw/modis_b4_500m_201905.tif',\n",
    "    './data/fraser/raw/modis_b5_500m_201905.tif',\n",
    "    './data/fraser/raw/modis_b6_500m_201905.tif',\n",
    "    './data/fraser/raw/modis_b7_500m_201905.tif'\n",
    "]\n",
    "\n",
    "# sort rasters in band order\n",
    "rast_raw.sort()\n",
    "\n",
    "# validate basic raster properties\n",
    "gdvtools.validate_rasters(rast_raw)\n",
    "\n",
    "# load raster as an xarray dataset and set nodata to -9999\n",
    "ds_raw = gdvtools.rasters_to_dataset(rast_raw, nodata_value=-9999)\n",
    "\n",
    "# display dataset\n",
    "#print(ds_raw)"
   ]
  },
  {
   "cell_type": "markdown",
   "metadata": {},
   "source": [
    "### Load low-res raw (ODC approach)"
   ]
  },
  {
   "cell_type": "code",
   "execution_count": null,
   "metadata": {},
   "outputs": [],
   "source": [
    "# open up a datacube connection\n",
    "dc = datacube.Datacube(app='vegfrax')"
   ]
  },
  {
   "cell_type": "code",
   "execution_count": null,
   "metadata": {},
   "outputs": [],
   "source": [
    "# set study area extent. this cover all (and more) of high-res raster\n",
    "lat_ext, lon_ext = (-24.675736, -25.838889), (152.765831, 153.420994)\n",
    "\n",
    "# display onto interacrive map\n",
    "display_map(x=lon_ext, y=lat_ext)"
   ]
  },
  {
   "cell_type": "code",
   "execution_count": null,
   "metadata": {},
   "outputs": [],
   "source": [
    "# set datacube band requirements\n",
    "measurements = [\n",
    "    'nbart_blue',\n",
    "    'nbart_green',\n",
    "    'nbart_red',\n",
    "    'nbart_nir_1',\n",
    "    'nbart_swir_2',\n",
    "    'nbart_swir_3'\n",
    "]\n",
    "\n",
    "# create query\n",
    "query = {\n",
    "    'x': lon_ext,\n",
    "    'y': lat_ext,\n",
    "    'time': ('2019-03', '2019-07'),\n",
    "    'measurements': measurements,\n",
    "    'output_crs': 'EPSG:32756',\n",
    "    'resolution': (-500, 500),\n",
    "    'group_by': 'solar_day',\n",
    "    #'align': (0, 0)\n",
    "}\n",
    "\n",
    "# load the downscaled data\n",
    "ds_raw = load_ard(\n",
    "    dc=dc,\n",
    "    products=['s2a_ard_granule', 's2b_ard_granule'],\n",
    "    min_gooddata=0.90,\n",
    "    dask_chunks={'time': 1},\n",
    "    **query\n",
    ")\n",
    "\n",
    "# combine per-pixel via median\n",
    "ds_raw = ds_raw.median('time').compute()\n",
    "\n",
    "# display dataset\n",
    "#print(ds_raw)\n",
    "\n",
    "# plot rgb of data\n",
    "#rgb(ds_raw[['nbart_red', 'nbart_green', 'nbart_blue']])"
   ]
  },
  {
   "cell_type": "markdown",
   "metadata": {},
   "source": [
    "## Prepare random samples"
   ]
  },
  {
   "cell_type": "markdown",
   "metadata": {},
   "source": [
    "### Generate random samples from raw and classified raster overlaps"
   ]
  },
  {
   "cell_type": "code",
   "execution_count": null,
   "metadata": {},
   "outputs": [],
   "source": [
    "# set number of samples for training\n",
    "num_samples = 1000\n",
    "\n",
    "# generate random samples within area overlap between raw and classified rasters\n",
    "df_samples = vegfrax.generate_random_samples(ds_raw, ds_class, num_samples=num_samples, nodata_value=-9999)\n",
    "\n",
    "# display result\n",
    "#print(df_samples)"
   ]
  },
  {
   "cell_type": "markdown",
   "metadata": {},
   "source": [
    "### Extract values from raw rasters (e.g. low resolution image bands)"
   ]
  },
  {
   "cell_type": "code",
   "execution_count": null,
   "metadata": {},
   "outputs": [],
   "source": [
    "# extract pixel values from raw, low resolution rasters at each point\n",
    "df_extract = gdvtools.extract_dataset_values(ds=ds_raw, coords=df_samples, keep_xy=True, nodata_value=-9999)\n",
    "\n",
    "# display result\n",
    "#print(df_extract)"
   ]
  },
  {
   "cell_type": "markdown",
   "metadata": {},
   "source": [
    "### Remove any no data values from extraction"
   ]
  },
  {
   "cell_type": "code",
   "execution_count": null,
   "metadata": {},
   "outputs": [],
   "source": [
    "# remove any points containing a nodata value\n",
    "df_extract_clean = gdvtools.remove_nodata_records(df_extract, nodata_value=-9999)\n",
    "\n",
    "# display result\n",
    "#print(df_extract_clean)"
   ]
  },
  {
   "cell_type": "markdown",
   "metadata": {},
   "source": [
    "## Generate and prepare frequency windows and analysis data"
   ]
  },
  {
   "cell_type": "markdown",
   "metadata": {},
   "source": [
    "### Build raw focal window extents from random sample points"
   ]
  },
  {
   "cell_type": "code",
   "execution_count": null,
   "metadata": {},
   "outputs": [],
   "source": [
    "# generate focal windows and extract pixels from class raster\n",
    "df_windows = vegfrax.create_frequency_windows(ds_raw, ds_class, df_extract_clean)\n",
    "\n",
    "# display result\n",
    "#print(df_windows)"
   ]
  },
  {
   "cell_type": "markdown",
   "metadata": {},
   "source": [
    "### Convert raw windows to class frequency information"
   ]
  },
  {
   "cell_type": "code",
   "execution_count": null,
   "metadata": {},
   "outputs": [],
   "source": [
    "# transform raw focal window pixel classes and counts to unique classes and frequencies at each point\n",
    "df_freqs = vegfrax.convert_window_counts_to_freqs(df_windows, nodata_value=-9999)\n",
    "\n",
    "# display result\n",
    "#print(df_freqs)"
   ]
  },
  {
   "cell_type": "markdown",
   "metadata": {},
   "source": [
    "### Select desired analysis classes and prepare data for analysis"
   ]
  },
  {
   "cell_type": "code",
   "execution_count": null,
   "metadata": {},
   "outputs": [],
   "source": [
    "# set desired output classes. keep empty to produce all classes. could put 1, 2 for classes 1 and 2.\n",
    "override_classes = []\n",
    "\n",
    "# prepare data for analysis - prepare classes, nulls, normalise frequencies\n",
    "df_data = vegfrax.prepare_freqs_for_analysis(ds_raw, ds_class, df_freqs, override_classes, nodata_value=-9999)\n",
    "\n",
    "# display result\n",
    "#print(df_data)"
   ]
  },
  {
   "cell_type": "markdown",
   "metadata": {},
   "source": [
    "## Perform Fractional Cover Analysis (FCA)"
   ]
  },
  {
   "cell_type": "markdown",
   "metadata": {},
   "source": [
    "### Set FCA modelling parameters"
   ]
  },
  {
   "cell_type": "code",
   "execution_count": null,
   "metadata": {},
   "outputs": [],
   "source": [
    "# set gridsearch fit optimiser parameters (see sklearn gridsearchcv docs for more)\n",
    "grid_params = {\n",
    "    'max_depth': [3, 5, 7, 9],\n",
    "    'n_estimators': [10, 100, 250, 500]\n",
    "}\n",
    "\n",
    "# set number of train/test set cross-validations (higher better, but slower)\n",
    "validation_iters = 50"
   ]
  },
  {
   "cell_type": "markdown",
   "metadata": {},
   "source": [
    "### Perform the FCA "
   ]
  },
  {
   "cell_type": "code",
   "execution_count": null,
   "metadata": {},
   "outputs": [],
   "source": [
    "# perform fca\n",
    "ds_preds = vegfrax.perform_fca(ds_raw, ds_class, df_data, df_extract_clean, \n",
    "                               grid_params, validation_iters, nodata_value=-9999)"
   ]
  },
  {
   "cell_type": "markdown",
   "metadata": {},
   "source": [
    "## Display a vegetation class"
   ]
  },
  {
   "cell_type": "code",
   "execution_count": null,
   "metadata": {},
   "outputs": [],
   "source": [
    "# set the class to plot (e.g. 6 = shrubland, 1 = Eucalyptus woodland)\n",
    "class_label = '6'\n",
    "\n",
    "# create fig\n",
    "fig = plt.figure(figsize=(6, 9))\n",
    "\n",
    "# plot this class on map\n",
    "ds_preds[class_label].plot(cmap='terrain_r')"
   ]
  },
  {
   "cell_type": "code",
   "execution_count": null,
   "metadata": {},
   "outputs": [],
   "source": [
    "from datacube.utils.cog import write_cog\n",
    "\n",
    "da = ds_preds[class_label]\n",
    "da.attrs = ds_raw.attrs\n",
    "\n",
    "write_cog(geo_im=da, \n",
    "          fname='class_{0}.tif'.format(class_label), \n",
    "          overwrite=True, \n",
    "          nodata=-9999)"
   ]
  },
  {
   "cell_type": "code",
   "execution_count": null,
   "metadata": {},
   "outputs": [],
   "source": [
    "ds_preds.attrs = ds_raw.attrs.crs"
   ]
  },
  {
   "cell_type": "code",
   "execution_count": null,
   "metadata": {},
   "outputs": [],
   "source": [
    "da.attrs"
   ]
  }
 ],
 "metadata": {
  "kernelspec": {
   "display_name": "Python 3",
   "language": "python",
   "name": "python3"
  },
  "language_info": {
   "codemirror_mode": {
    "name": "ipython",
    "version": 3
   },
   "file_extension": ".py",
   "mimetype": "text/x-python",
   "name": "python",
   "nbconvert_exporter": "python",
   "pygments_lexer": "ipython3",
   "version": "3.6.9"
  }
 },
 "nbformat": 4,
 "nbformat_minor": 4
}
