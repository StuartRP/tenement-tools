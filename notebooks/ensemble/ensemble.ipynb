{
 "cells": [
  {
   "cell_type": "markdown",
   "metadata": {},
   "source": [
    "# Ensemble"
   ]
  },
  {
   "cell_type": "markdown",
   "metadata": {},
   "source": [
    "## Initialise Ensemble"
   ]
  },
  {
   "cell_type": "markdown",
   "metadata": {},
   "source": [
    "### Load packages"
   ]
  },
  {
   "cell_type": "code",
   "execution_count": 1,
   "metadata": {},
   "outputs": [
    {
     "name": "stderr",
     "output_type": "stream",
     "text": [
      "/env/lib/python3.6/site-packages/geopandas/_compat.py:110: UserWarning: The Shapely GEOS version (3.7.2-CAPI-1.11.0 ) is incompatible with the GEOS version PyGEOS was compiled with (3.9.1-CAPI-1.14.2). Conversions between both will be slow.\n",
      "  shapely_geos_version, geos_capi_version_string\n"
     ]
    }
   ],
   "source": [
    "%matplotlib inline\n",
    "%load_ext autoreload\n",
    "\n",
    "import os, sys\n",
    "import pandas as pd\n",
    "import numpy as np\n",
    "import xarray as xr\n",
    "import matplotlib.pyplot as plt\n",
    "\n",
    "import datacube\n",
    "sys.path.append('../../../Scripts')\n",
    "from dea_datahandling import load_ard\n",
    "from dea_dask import create_local_dask_cluster\n",
    "from dea_plotting import display_map, rgb\n",
    "\n",
    "sys.path.append('../../modules')\n",
    "import gdvspectra, phenolopy, nicher, vegfrax, canopy, ensemble\n",
    "\n",
    "sys.path.append('../../shared')\n",
    "import satfetcher, tools"
   ]
  },
  {
   "cell_type": "markdown",
   "metadata": {},
   "source": [
    "### Set up a dask cluster and ODC"
   ]
  },
  {
   "cell_type": "code",
   "execution_count": 2,
   "metadata": {},
   "outputs": [
    {
     "data": {
      "text/html": [
       "<table style=\"border: 2px solid white;\">\n",
       "<tr>\n",
       "<td style=\"vertical-align: top; border: 0px solid white\">\n",
       "<h3 style=\"text-align: left;\">Client</h3>\n",
       "<ul style=\"text-align: left; list-style: none; margin: 0; padding: 0;\">\n",
       "  <li><b>Scheduler: </b>tcp://127.0.0.1:46741</li>\n",
       "  <li><b>Dashboard: </b><a href='/user/lewis/proxy/8787/status' target='_blank'>/user/lewis/proxy/8787/status</a></li>\n",
       "</ul>\n",
       "</td>\n",
       "<td style=\"vertical-align: top; border: 0px solid white\">\n",
       "<h3 style=\"text-align: left;\">Cluster</h3>\n",
       "<ul style=\"text-align: left; list-style:none; margin: 0; padding: 0;\">\n",
       "  <li><b>Workers: </b>1</li>\n",
       "  <li><b>Cores: </b>2</li>\n",
       "  <li><b>Memory: </b>13.11 GB</li>\n",
       "</ul>\n",
       "</td>\n",
       "</tr>\n",
       "</table>"
      ],
      "text/plain": [
       "<Client: 'tcp://127.0.0.1:46741' processes=1 threads=2, memory=13.11 GB>"
      ]
     },
     "metadata": {},
     "output_type": "display_data"
    },
    {
     "name": "stderr",
     "output_type": "stream",
     "text": [
      "/env/lib/python3.6/site-packages/datacube/drivers/postgres/_connections.py:87: SADeprecationWarning: Calling URL() directly is deprecated and will be disabled in a future release.  The public constructor for URL is now the URL.create() method.\n",
      "  username=username, password=password,\n"
     ]
    }
   ],
   "source": [
    "# initialise the cluster. paste url into dask panel for more info.\n",
    "create_local_dask_cluster()\n",
    "\n",
    "# open up a datacube connection\n",
    "dc = datacube.Datacube(app='ensemble')"
   ]
  },
  {
   "cell_type": "markdown",
   "metadata": {},
   "source": [
    "## Study area and data setup"
   ]
  },
  {
   "cell_type": "markdown",
   "metadata": {},
   "source": [
    "### Set study area, time range, show map"
   ]
  },
  {
   "cell_type": "code",
   "execution_count": 3,
   "metadata": {},
   "outputs": [
    {
     "data": {
      "text/html": [
       "<div style=\"width:100%;\"><div style=\"position:relative;width:100%;height:0;padding-bottom:60%;\"><iframe src=\"data:text/html;charset=utf-8;base64,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\" style=\"position:absolute;width:100%;height:100%;left:0;top:0;border:none !important;\" allowfullscreen webkitallowfullscreen mozallowfullscreen></iframe></div></div>"
      ],
      "text/plain": [
       "<folium.folium.Map at 0x7f141893bfd0>"
      ]
     },
     "execution_count": 3,
     "metadata": {},
     "output_type": "execute_result"
    }
   ],
   "source": [
    "# testing study area extent - yandi and roy hill\n",
    "#lat_extent, lon_extent = (-22.82901, -22.67901), (118.94980, 119.29979)  # yandi\n",
    "lat_extent, lon_extent = (-22.63461, -22.33461), (119.88111, 120.18111) # royhill\n",
    "\n",
    "# display onto interacrive map\n",
    "display_map(x=lon_extent, y=lat_extent)"
   ]
  },
  {
   "cell_type": "markdown",
   "metadata": {},
   "source": [
    "# Generate GDV Likelihood"
   ]
  },
  {
   "cell_type": "markdown",
   "metadata": {},
   "source": [
    "### Load and prepare DEA ODC satellite data"
   ]
  },
  {
   "cell_type": "code",
   "execution_count": null,
   "metadata": {},
   "outputs": [],
   "source": [
    "# provide study area name\n",
    "study_area = 'royhill'\n",
    "\n",
    "# select start and end year range\n",
    "time_range = ('2016', '2020')\n",
    "\n",
    "# set datacube query parameters\n",
    "#platform = 'landsat'\n",
    "#bands = ['nbart_blue', 'nbart_green', 'nbart_red', 'nbart_nir', 'nbart_swir_1', 'nbart_swir_2']\n",
    "\n",
    "#platform = 'sentinel'\n",
    "#bands = ['nbart_blue', 'nbart_green', 'nbart_red', 'nbart_nir_1', 'nbart_swir_2', 'nbart_swir_3']\n",
    "min_gooddata = 0.90\n",
    "\n",
    "# fetch satellite data from dea ard product\n",
    "ds = satfetcher.load_dea_ard(platform=platform, \n",
    "                             bands=bands, \n",
    "                             x_extent=lon_extent, \n",
    "                             y_extent=lat_extent, \n",
    "                             time_range=time_range, \n",
    "                             min_gooddata=min_gooddata, \n",
    "                             use_dask=True)\n",
    "\n",
    "# rename dea bands to common standard\n",
    "ds = satfetcher.conform_dea_ard_band_names(ds=ds, platform=platform)\n",
    "\n",
    "# take a copy of dataset for cva later\n",
    "ds_backup = ds.copy(deep=True)\n",
    "\n",
    "# display dataset\n",
    "#ds"
   ]
  },
  {
   "cell_type": "markdown",
   "metadata": {},
   "source": [
    "### Calculate standardised vege/moist data"
   ]
  },
  {
   "cell_type": "code",
   "execution_count": null,
   "metadata": {},
   "outputs": [],
   "source": [
    "# set wet and dry season month(s). we will use several per season\n",
    "wet_month, dry_month = [1, 2, 3], [9, 10, 11]\n",
    "\n",
    "# get subset fo data for wet and dry season months\n",
    "ds = gdvspectra.subset_months(ds=ds, \n",
    "                              month=wet_month + dry_month,\n",
    "                              inplace=True)\n",
    "\n",
    "# calculate veg (mavi) and moist (ndmi) indices\n",
    "ds = tools.calculate_indices(ds=ds, \n",
    "                             index=['mavi', 'gvmi'], \n",
    "                             custom_name=['veg_idx', 'mst_idx'], \n",
    "                             rescale=True, \n",
    "                             drop=True)\n",
    "\n",
    "# perform resampling\n",
    "ds = gdvspectra.resample_to_wet_dry_medians(ds=ds, \n",
    "                                            wet_month=wet_month, \n",
    "                                            dry_month=dry_month,\n",
    "                                            inplace=True)\n",
    "\n",
    "# we have some calcs to make, persist now\n",
    "ds = ds.persist()\n",
    "\n",
    "# drop any years from dataset where wet and dry seasons missing\n",
    "ds = gdvspectra.drop_incomplete_wet_dry_years(ds)\n",
    "\n",
    "# todo - remove this compute when bug fixed in ver > 0.18.2\n",
    "ds = ds.compute()\n",
    "\n",
    "# fill any empty first, last years using back/forward fill\n",
    "ds = gdvspectra.fill_empty_wet_dry_edges(ds=ds,\n",
    "                                         wet_month=wet_month, \n",
    "                                         dry_month=dry_month,\n",
    "                                         inplace=True)\n",
    "\n",
    "# interpolate all missing pixels using full linear interpolation\n",
    "ds =  gdvspectra.interp_empty_wet_dry(ds=ds,\n",
    "                                      wet_month=wet_month, \n",
    "                                      dry_month=dry_month,\n",
    "                                      method='full', \n",
    "                                      inplace=True)\n",
    "\n",
    "# standardise data to invariant targets derived from dry times\n",
    "ds = gdvspectra.standardise_to_dry_targets(ds=ds, \n",
    "                                           dry_month=dry_month, \n",
    "                                           q_upper=0.99, \n",
    "                                           q_lower=0.05,\n",
    "                                           inplace=True)\n",
    "\n",
    "# calculate standardised seaonal similarity (diff between wet, dry per year)\n",
    "ds_similarity = gdvspectra.calc_seasonal_similarity(ds=ds,\n",
    "                                                    wet_month=wet_month,\n",
    "                                                    dry_month=dry_month,\n",
    "                                                    q_mask=0.9,\n",
    "                                                    inplace=True)"
   ]
  },
  {
   "cell_type": "markdown",
   "metadata": {},
   "source": [
    "### Generate likelihood model"
   ]
  },
  {
   "cell_type": "code",
   "execution_count": null,
   "metadata": {},
   "outputs": [],
   "source": [
    "# generate gdv likelihood model using wet, dry, similarity variables\n",
    "ds_like = gdvspectra.calc_likelihood(ds=ds, \n",
    "                                     ds_similarity=ds_similarity,\n",
    "                                     wet_month=wet_month, \n",
    "                                     dry_month=dry_month)\n",
    "\n",
    "# preview an all-time median of gdv likelihood. red is high likelihood\n",
    "fig = plt.figure(figsize=(10, 5))\n",
    "ds_like['like'].median('time').plot(robust=False, cmap='jet')\n",
    "\n",
    "# create out file\n",
    "out_like_nc = '../../{0}_{1}_{2}_{3}_like.nc'.format(study_area,\n",
    "                                                     time_range[0],\n",
    "                                                     time_range[1],\n",
    "                                                     platform)"
   ]
  },
  {
   "cell_type": "markdown",
   "metadata": {},
   "source": [
    "### Generate field occurrence points for thresholding"
   ]
  },
  {
   "cell_type": "code",
   "execution_count": null,
   "metadata": {},
   "outputs": [],
   "source": [
    "# set location of point shapefile with presence/absence column\n",
    "#shp_path = r'../GDVSDM/data_testing/presence_points/presence_points.shp'\n",
    "#shp_path = r'../../data/gdvspectra/royhill_2_final_albers.shp'\n",
    "shp_path = r'../../data/ensemble/royhill/royhill_all_merged.shp'\n",
    "\n",
    "# read shapefile as pandas dataframe\n",
    "df_records = tools.read_shapefile(shp_path=shp_path)\n",
    "\n",
    "# subset to just x, y, pres/abse column\n",
    "df_records = tools.subset_records(df_records=df_records, p_a_column='GDV_ACT')\n",
    "\n",
    "# display dataframe\n",
    "#df_records"
   ]
  },
  {
   "cell_type": "markdown",
   "metadata": {},
   "source": [
    "### Threshold likelihood"
   ]
  },
  {
   "cell_type": "code",
   "execution_count": null,
   "metadata": {},
   "outputs": [],
   "source": [
    "# perform thresholding using standard deviation on all-time median likelihood\n",
    "ds_thresh = gdvspectra.threshold_likelihood(ds=ds_like.median('time', keep_attrs=True),\n",
    "                                            df=df_records, \n",
    "                                            num_stdevs=2.5, \n",
    "                                            res_factor=3, \n",
    "                                            if_nodata='any')\n",
    "\n",
    "# preview an all-time median of gdv likelihood thresholded\n",
    "#fig = plt.figure(figsize=(10, 5))\n",
    "#ds_thresh.where(~ds_thresh.isnull(), 0.001)['like'].plot(robust=False, cmap='jet')"
   ]
  },
  {
   "cell_type": "markdown",
   "metadata": {},
   "source": [
    "### Export GDV likelihood and threshold for later"
   ]
  },
  {
   "cell_type": "code",
   "execution_count": null,
   "metadata": {},
   "outputs": [],
   "source": [
    "# export median likelihood to nc\n",
    "#tools.export_xr_as_nc(ds=ds_like['like'].median('time'), filename='ds_{}_like.nc'.format(platform))\n",
    "\n",
    "# export threshold as nc\n",
    "#tools.export_xr_as_nc(ds_thresh, filename='ds_{}_threshold.nc'.format(platform))"
   ]
  },
  {
   "cell_type": "markdown",
   "metadata": {},
   "source": [
    "### Calculate trends using Mann-Kendall trend analysis"
   ]
  },
  {
   "cell_type": "code",
   "execution_count": null,
   "metadata": {},
   "outputs": [],
   "source": [
    "# create a mask where gdv highly likely\n",
    "ds_mask = xr.where(~ds_thresh.isnull(), True, False)\n",
    "\n",
    "# do mk to find sig. inc/dec trends in high likelihood areas\n",
    "ds_mk = gdvspectra.perform_mk_original(ds=ds_like.where(ds_mask), \n",
    "                                       pvalue=None, \n",
    "                                       direction='both')\n",
    "\n",
    "# show mk trends. blue is increasing, red is decreasing\n",
    "fig = plt.figure(figsize=(10, 5))\n",
    "ds_mk['tau'].plot(robust=True, cmap='Spectral')"
   ]
  },
  {
   "cell_type": "markdown",
   "metadata": {},
   "source": [
    "### Calculate slope using Theil-Sen"
   ]
  },
  {
   "cell_type": "code",
   "execution_count": null,
   "metadata": {},
   "outputs": [],
   "source": [
    "# create a mask where gdv highly likely\n",
    "ds_mask = xr.where(~ds_thresh.isnull(), True, False)\n",
    "\n",
    "# do theil sen slopes in high likelihood areas\n",
    "ds_ts = gdvspectra.perform_theilsen_slope(ds=ds_like.where(ds_mask), \n",
    "                                          alpha=0.95)\n",
    "\n",
    "# show mk trends. blue is increasing, red is decreasing\n",
    "fig = plt.figure(figsize=(10, 5))\n",
    "ds_ts['theilsen'].plot(robust=True, cmap='Spectral')"
   ]
  },
  {
   "cell_type": "markdown",
   "metadata": {},
   "source": [
    "# Generate Phenometrics"
   ]
  },
  {
   "cell_type": "markdown",
   "metadata": {},
   "source": [
    "### Calculate and pre-process vegetation"
   ]
  },
  {
   "cell_type": "code",
   "execution_count": null,
   "metadata": {},
   "outputs": [],
   "source": [
    "# takes our dask ds and calculates veg index from spectral bands\n",
    "ds = tools.calculate_indices(ds=ds_backup, \n",
    "                             index='mavi', \n",
    "                             custom_name='veg_idx', \n",
    "                             rescale=False, \n",
    "                             drop=True)\n",
    "\n",
    "# conform edges\n",
    "ds = phenolopy.conform_edge_dates(ds=ds)\n",
    "\n",
    "# resample to weekly medians\n",
    "ds = phenolopy.resample(ds=ds, \n",
    "                        interval='1W',\n",
    "                        inplace=True)\n",
    "\n",
    "# interpolate missing values\n",
    "ds = phenolopy.interpolate(ds=ds, \n",
    "                           method='full', \n",
    "                           inplace=True)\n",
    "\n",
    "# group into single year of weekly all-time medians\n",
    "ds = phenolopy.group(ds=ds, \n",
    "                     interval='week',\n",
    "                     inplace=True)\n",
    "\n",
    "# takes our dask ds and remove outliers from data using median method\n",
    "ds = phenolopy.remove_outliers(ds=ds, \n",
    "                               method='median', \n",
    "                               user_factor=2, \n",
    "                               z_pval=0.05)\n",
    "\n",
    "# take dataset and resample data to weekly medians (1WS)\n",
    "ds = phenolopy.resample(ds=ds, \n",
    "                        interval='1W',\n",
    "                        inplace=True)\n",
    "\n",
    "# remove any years outside of dominant year\n",
    "ds = phenolopy.remove_overshoot_times(ds=ds, max_times=3)\n",
    "\n",
    "# use savitsky-golay filter to smooth across time dimension\n",
    "ds = phenolopy.smooth(ds=ds, \n",
    "                      method='savitsky', \n",
    "                      window_length=3, \n",
    "                      polyorder=1, \n",
    "                      sigma=1)"
   ]
  },
  {
   "cell_type": "markdown",
   "metadata": {},
   "source": [
    "### Calculate phenometrics"
   ]
  },
  {
   "cell_type": "code",
   "execution_count": null,
   "metadata": {},
   "outputs": [],
   "source": [
    "# compute into memory\n",
    "ds = ds.compute()\n",
    "\n",
    "# set desired metrics\n",
    "#metrics = ['sos', 'eos', 'lios', 'sios', 'liot', 'siot']\n",
    "\n",
    "# calc phenometrics via phenolopy!\n",
    "ds = phenolopy.calc_phenometrics(ds=ds,\n",
    "                                 peak_metric='pos', \n",
    "                                 base_metric='vos', \n",
    "                                 method='seasonal_amplitude', \n",
    "                                 factor=0.2, \n",
    "                                 thresh_sides='one_sided', \n",
    "                                 abs_value=0.1)"
   ]
  },
  {
   "cell_type": "markdown",
   "metadata": {},
   "source": [
    "### Display phenometric"
   ]
  },
  {
   "cell_type": "code",
   "execution_count": null,
   "metadata": {},
   "outputs": [],
   "source": [
    "# set the metric to display\n",
    "metric_name = 'liot_values'\n",
    "fig = plt.figure(figsize=(9, 7), dpi=85)\n",
    "ds[metric_name].plot(robust=True, cmap='terrain_r')"
   ]
  },
  {
   "cell_type": "markdown",
   "metadata": {},
   "source": [
    "### Generate field occurrence points for thresholding"
   ]
  },
  {
   "cell_type": "code",
   "execution_count": null,
   "metadata": {},
   "outputs": [],
   "source": [
    "# set location of point shapefile with presence/absence column\n",
    "#shp_path = r'../GDVSDM/data_testing/presence_points/presence_points.shp'\n",
    "#shp_path = r'../../data/gdvspectra/royhill_2_final_albers.shp'\n",
    "shp_path = r'../../data/ensemble/royhill/royhill_all_merged.shp'\n",
    "\n",
    "# read shapefile as pandas dataframe\n",
    "df_records = tools.read_shapefile(shp_path=shp_path)\n",
    "\n",
    "# subset to just x, y, pres/abse column\n",
    "df_records = tools.subset_records(df_records=df_records, p_a_column='GDV_ACT')\n",
    "\n",
    "# display dataframe\n",
    "#df_records"
   ]
  },
  {
   "cell_type": "markdown",
   "metadata": {},
   "source": [
    "### Check AUC of metrics"
   ]
  },
  {
   "cell_type": "code",
   "execution_count": null,
   "metadata": {},
   "outputs": [],
   "source": [
    "# prepare metric for auc\n",
    "metric = 'lios_values'\n",
    "da = ds[metric].rename({'variable': 'time'}).to_dataset(promote_attrs=True)\n",
    "da = da.rename({metric: 'like'})\n",
    "\n",
    "# threshold to get auc\n",
    "gdvspectra.threshold_likelihood(ds=da,\n",
    "                                df=df_records, \n",
    "                                num_stdevs=2.5, \n",
    "                                res_factor=3, \n",
    "                                if_nodata='any')"
   ]
  },
  {
   "cell_type": "code",
   "execution_count": null,
   "metadata": {},
   "outputs": [],
   "source": [
    "# export to nc\n",
    "tools.export_xr_as_nc(ds=ds, filename='ds_{}_phenometrics.nc'.format(platform))"
   ]
  },
  {
   "cell_type": "markdown",
   "metadata": {},
   "source": [
    "# Generate Species Distribution Model"
   ]
  },
  {
   "cell_type": "markdown",
   "metadata": {},
   "source": [
    "### Set up data"
   ]
  },
  {
   "cell_type": "code",
   "execution_count": null,
   "metadata": {},
   "outputs": [],
   "source": [
    "# get continuous rasters. wwe will use lidar\n",
    "#folder_path = r'../../data/nicher/roy_lidar'\n",
    "folder_path = r'../../data/nicher/roy_srtm'\n",
    "rast_cont_list = nicher.get_files_from_path(folder_path)\n",
    "\n",
    "# drop any undesirable vars \n",
    "#rast_cont_list.remove(folder_path + '/' + 'chm_lidar_10m.tif')\n",
    "#rast_cont_list.remove(folder_path + '/' + 'dem_lidar_10m_fill.tif')\n",
    "#rast_cont_list.remove(folder_path + '/' + 'dem_lidar_10m.tif')\n",
    "#rast_cont_list.remove(folder_path + '/' + 'dem_lidar_10m_tri.tif')\n",
    "rast_cont_list.remove(folder_path + '/' + 'dem_srtm_30m.tif')\n",
    "rast_cont_list.remove(folder_path + '/' + 'dem_srtm_30m_fill.tif')\n",
    "rast_cont_list.remove(folder_path + '/' + 'dem_srtm_30m_tri.tif')\n",
    "\n",
    "# load rasters as individual dataset variables\n",
    "ds_sdm = satfetcher.load_local_rasters(rast_path_list=rast_cont_list, \n",
    "                                       use_dask=True, \n",
    "                                       conform_nodata_to=-999)\n",
    "\n",
    "# compute dask - we need to make calculations\n",
    "ds_sdm = ds_sdm.compute()\n",
    "\n",
    "# set path to shapefile\n",
    "shp_path = r'../../data/nicher/presence_points/presence_points.shp'\n",
    "\n",
    "# extract point x and y from shapefile as pandas dataframe\n",
    "df_records = tools.read_shapefile(shp_path=shp_path)\n",
    "\n",
    "# subset columns\n",
    "df_presence = tools.subset_records(df_records=df_records, \n",
    "                                   p_a_column=None)\n",
    "\n",
    "# drop presence column\n",
    "df_presence = df_presence.drop('actual', axis='columns')\n",
    "\n",
    "# generate absences using dataset pixels and occurrence coords\n",
    "df_absence = nicher.generate_absences(ds=ds_sdm, \n",
    "                                      occur_shp_path=shp_path,\n",
    "                                      buff_m=250, \n",
    "                                      res_factor=3)\n",
    "\n",
    "# extract values for presence points\n",
    "df_presence_data = tools.extract_xr_values(ds=ds_sdm, \n",
    "                                           coords=df_presence, \n",
    "                                           keep_xy=False, \n",
    "                                           res_factor=3)\n",
    "\n",
    "# do same for absence points\n",
    "df_absence_data = tools.extract_xr_values(ds=ds_sdm, \n",
    "                                          coords=df_absence, \n",
    "                                          keep_xy=False, \n",
    "                                          res_factor=3)\n",
    "\n",
    "# remove all presence records containing nodata values\n",
    "df_presence_data = tools.remove_nodata_records(df_records=df_presence_data,\n",
    "                                               nodata_value=ds_sdm.nodatavals)\n",
    "\n",
    "# remove all absence records containing nodata values\n",
    "df_absence_data = tools.remove_nodata_records(df_records=df_absence_data,\n",
    "                                               nodata_value=ds_sdm.nodatavals)\n",
    "\n",
    "# take pres and abse records and combine, add new pres/abse column\n",
    "df_pres_abse_data = nicher.combine_pres_abse_records(df_presence=df_presence_data, \n",
    "                                                     df_absence=df_absence_data)\n",
    "\n",
    "# generate the matrix. < 0.6 weak collinearity, 0.6-0.8 moderate, >= 0.8 strong\n",
    "nicher.generate_correlation_matrix(df_records=df_pres_abse_data,\n",
    "                                   show_fig=True,\n",
    "                                   show_text=False)\n",
    "\n",
    "# generate vif scores. 1 = No multicolinearity, 1-5 = moderate, > 5 = high, > 10 = Remove\n",
    "nicher.generate_vif_scores(df_records=df_pres_abse_data)\n",
    "plt.show()\n",
    "\n",
    "# create a random forest estimator using default sklearn parameters\n",
    "estimator = nicher.create_estimator(estimator_type='rf', \n",
    "                                    n_estimators=100)\n",
    "\n",
    "# generate SDM with 5 replicates and 10% training-testing split\n",
    "ds_sdm = nicher.generate_sdm(ds=ds_sdm, \n",
    "                             df_records=df_pres_abse_data, \n",
    "                             estimator=estimator, \n",
    "                             rast_cont_list=rast_cont_list, \n",
    "                             rast_cate_list=None, \n",
    "                             replicates=5, \n",
    "                             test_ratio=0.1, \n",
    "                             equalise_test_set=False, \n",
    "                             calc_accuracy_stats=True)\n",
    "\n",
    "# show results\n",
    "fig = plt.figure(figsize=(9, 7), dpi=85)\n",
    "ds_sdm['sdm_mean'].plot(robust=False, cmap='jet')"
   ]
  },
  {
   "cell_type": "markdown",
   "metadata": {},
   "source": [
    "### Generate field occurrence points for thresholding"
   ]
  },
  {
   "cell_type": "code",
   "execution_count": null,
   "metadata": {},
   "outputs": [],
   "source": [
    "# set location of point shapefile with presence/absence column\n",
    "#shp_path = r'../GDVSDM/data_testing/presence_points/presence_points.shp'\n",
    "#shp_path = r'../../data/gdvspectra/royhill_2_final_albers.shp'\n",
    "shp_path = r'../../data/ensemble/royhill/royhill_all_merged.shp'\n",
    "\n",
    "# read shapefile as pandas dataframe\n",
    "df_records = tools.read_shapefile(shp_path=shp_path)\n",
    "\n",
    "# subset to just x, y, pres/abse column\n",
    "df_records = tools.subset_records(df_records=df_records, p_a_column='GDV_ACT')\n",
    "\n",
    "# display dataframe\n",
    "#df_records"
   ]
  },
  {
   "cell_type": "markdown",
   "metadata": {},
   "source": [
    "### Check AUC of metrics"
   ]
  },
  {
   "cell_type": "code",
   "execution_count": null,
   "metadata": {},
   "outputs": [],
   "source": [
    "# prepare metric for auc\n",
    "metric = 'sdm_mean'\n",
    "da = ds_sdm[metric].to_dataset(promote_attrs=True)\n",
    "da = da.rename({metric: 'like'})\n",
    "da.attrs.update({'nodatavals': np.nan})\n",
    "\n",
    "# threshold to get auc\n",
    "gdvspectra.threshold_likelihood(ds=da,\n",
    "                                df=df_records, \n",
    "                                num_stdevs=2.5, \n",
    "                                res_factor=3, \n",
    "                                if_nodata='any')"
   ]
  },
  {
   "cell_type": "code",
   "execution_count": null,
   "metadata": {},
   "outputs": [],
   "source": [
    "# export to nc\n",
    "#tools.export_xr_as_nc(ds=ds_sdm, filename='ds_sdm.nc')"
   ]
  },
  {
   "cell_type": "markdown",
   "metadata": {},
   "source": [
    "# Generate Veg Frax"
   ]
  },
  {
   "cell_type": "markdown",
   "metadata": {},
   "source": [
    "### Prepare Landsat satellite image"
   ]
  },
  {
   "cell_type": "code",
   "execution_count": null,
   "metadata": {},
   "outputs": [],
   "source": [
    "# calculate veg (mavi) and moist (ndmi) indices\n",
    "ds_raw = tools.calculate_indices(ds=ds_backup, \n",
    "                                 index=['tcg', 'tcb', 'tcw'], \n",
    "                                 custom_name=None, \n",
    "                                 rescale=False, \n",
    "                                 drop=True)\n",
    "\n",
    "# load into memory now - we have values to modify!\n",
    "ds_raw = ds_raw.median('time', keep_attrs=True).compute()"
   ]
  },
  {
   "cell_type": "markdown",
   "metadata": {},
   "source": [
    "### Prepare classified hi-def raster"
   ]
  },
  {
   "cell_type": "code",
   "execution_count": null,
   "metadata": {},
   "outputs": [],
   "source": [
    "# set path to high-resolution classified image (e.g. 10m Sentinel 2 or 1m WV)\n",
    "rast_class = r'../../data/vegfrax/class/Vegetation_Mapping_Mine_20181121_rasterised_albers.tif'\n",
    "ds_class = satfetcher.load_local_rasters(rast_path_list=[rast_class], \n",
    "                                         use_dask=True, \n",
    "                                         conform_nodata_to=-128)\n",
    "\n",
    "# do basic preparations (dtype, rename, checks)\n",
    "ds_class = vegfrax.prepare_classified_xr(ds=ds_class)\n",
    "\n",
    "# subset high to low extent\n",
    "ds_class = tools.clip_xr_to_xr(ds_a=ds_class, \n",
    "                               ds_b=ds_raw)\n",
    "\n",
    "# set them manually (make sure you include 0 if reclassifying)\n",
    "#req_class = [1, 3, 13, 14, 0]\n",
    "req_class = [3, 0]\n",
    "ds_class = vegfrax.reclassify_xr(ds=ds_class, \n",
    "                                 req_class=req_class,\n",
    "                                 merge_classes=True,\n",
    "                                 inplace=True)\n",
    "\n",
    "# get list of all classes...\n",
    "req_class = vegfrax.get_xr_classes(ds_class)\n",
    "\n",
    "# load into memory now - we have values to modify!\n",
    "ds_class = ds_class.compute()"
   ]
  },
  {
   "cell_type": "markdown",
   "metadata": {},
   "source": [
    "### Prepare frequencies"
   ]
  },
  {
   "cell_type": "code",
   "execution_count": null,
   "metadata": {},
   "outputs": [],
   "source": [
    "# generate random samples within area overlap between raw and classified rasters\n",
    "num_samples = 2000\n",
    "df_samples = vegfrax.generate_strat_random_samples(ds_raw=ds_raw,\n",
    "                                                   ds_class=ds_class, \n",
    "                                                   req_class=req_class,\n",
    "                                                   num_samples=num_samples)\n",
    "\n",
    "# extract pixel values from raw, low resolution rasters at each point\n",
    "df_extract = tools.extract_xr_values(ds=ds_raw, \n",
    "                                     coords=df_samples, \n",
    "                                     keep_xy=True)\n",
    "\n",
    "# remove any points containing a nodata value\n",
    "df_extract_clean = tools.remove_nodata_records(df_extract, \n",
    "                                               nodata_value=ds_raw.nodatavals)\n",
    "\n",
    "# generate focal windows and extract pixels from class raster\n",
    "df_windows = vegfrax.create_frequency_windows(ds_raw=ds_raw, \n",
    "                                              ds_class=ds_class, \n",
    "                                              df_records=df_extract_clean)\n",
    "\n",
    "# transform raw focal window pixel classes and counts to unique classes and frequencies at each point\n",
    "df_freqs = vegfrax.convert_window_counts_to_freqs(df_windows=df_windows, \n",
    "                                                  nodata_value=ds_class.nodatavals)"
   ]
  },
  {
   "cell_type": "markdown",
   "metadata": {},
   "source": [
    "### Perform FCA"
   ]
  },
  {
   "cell_type": "code",
   "execution_count": null,
   "metadata": {},
   "outputs": [],
   "source": [
    "# set desired output classes. keep empty to produce all classes. could put 1, 2 for classes 1 and 2.\n",
    "override_classes = ['1']\n",
    "\n",
    "# prepare data for analysis - prepare classes, nulls, normalise frequencies\n",
    "df_data = vegfrax.prepare_freqs_for_analysis(ds_raw=ds_raw, \n",
    "                                             ds_class=ds_class, \n",
    "                                             df_freqs=df_freqs, \n",
    "                                             override_classes=override_classes)\n",
    "\n",
    "# perform fca\n",
    "ds_preds = vegfrax.perform_fca(ds_raw=ds_raw, \n",
    "                               ds_class=ds_class, \n",
    "                               df_data=df_data, \n",
    "                               df_extract_clean=df_extract_clean, \n",
    "                               n_estimators=100,\n",
    "                               n_validations=10)\n",
    "\n",
    "# create fig\n",
    "class_label = '1'\n",
    "fig = plt.figure(figsize=(12, 9))\n",
    "ds_preds[class_label].plot(robust=False, cmap='terrain_r')"
   ]
  },
  {
   "cell_type": "markdown",
   "metadata": {},
   "source": [
    "### Generate field occurrence points for thresholding"
   ]
  },
  {
   "cell_type": "code",
   "execution_count": null,
   "metadata": {},
   "outputs": [],
   "source": [
    "# set location of point shapefile with presence/absence column\n",
    "#shp_path = r'../GDVSDM/data_testing/presence_points/presence_points.shp'\n",
    "#shp_path = r'../../data/gdvspectra/royhill_2_final_albers.shp'\n",
    "shp_path = r'../../data/ensemble/royhill/royhill_all_merged.shp'\n",
    "\n",
    "# read shapefile as pandas dataframe\n",
    "df_records = tools.read_shapefile(shp_path=shp_path)\n",
    "\n",
    "# subset to just x, y, pres/abse column\n",
    "df_records = tools.subset_records(df_records=df_records, p_a_column='GDV_ACT')\n",
    "\n",
    "# display dataframe\n",
    "#df_records"
   ]
  },
  {
   "cell_type": "code",
   "execution_count": null,
   "metadata": {},
   "outputs": [],
   "source": [
    "# prepare metric for auc\n",
    "ds_preds.attrs = ds.attrs\n",
    "da = ds_preds.rename({class_label: 'like'})\n",
    "\n",
    "# threshold to get auc\n",
    "gdvspectra.threshold_likelihood(ds=da,\n",
    "                                df=df_records, \n",
    "                                num_stdevs=2.5, \n",
    "                                res_factor=3, \n",
    "                                if_nodata='any')"
   ]
  },
  {
   "cell_type": "code",
   "execution_count": null,
   "metadata": {},
   "outputs": [],
   "source": [
    "ds_preds"
   ]
  },
  {
   "cell_type": "code",
   "execution_count": null,
   "metadata": {},
   "outputs": [],
   "source": [
    "# export to nc\n",
    "tools.export_xr_as_nc(ds=ds_preds, filename='ds_{}_frax.nc'.format(platform))"
   ]
  },
  {
   "cell_type": "markdown",
   "metadata": {},
   "source": [
    "## Perform sigmoidals"
   ]
  },
  {
   "cell_type": "code",
   "execution_count": 31,
   "metadata": {},
   "outputs": [
    {
     "name": "stdout",
     "output_type": "stream",
     "text": [
      "Converting rasters to an xarray dataset.\n",
      "Converted raster to xarray data array: liot\n",
      "Rasters converted to dataset successfully.\n",
      "\n",
      "Converting rasters to an xarray dataset.\n",
      "Converted raster to xarray data array: sdm\n",
      "Rasters converted to dataset successfully.\n",
      "\n",
      "Converting rasters to an xarray dataset.\n",
      "Converted raster to xarray data array: chm\n",
      "Rasters converted to dataset successfully.\n",
      "\n",
      "Converting rasters to an xarray dataset.\n",
      "Converted raster to xarray data array: frax\n",
      "Rasters converted to dataset successfully.\n",
      "\n"
     ]
    }
   ],
   "source": [
    "# get inputs from arcgis\n",
    "#out_path = r'../../data/ensemble/royhill/sentinel/'\n",
    "out_path = r'../../notebooks/ensemble/temp/'\n",
    "in_nodataval = np.nan\n",
    "resample_to = 'highest'\n",
    "\n",
    "# get list of layers\n",
    "#in_1 = [out_path + 'like.tif', 0.3, 'Max', None]        # a, bc, d (min, mid, max)\n",
    "in_2 = [out_path + 'liot.tif', 5, 'Max', None]          # a, bc, d (min, mid, max)\n",
    "in_3 = [out_path + 'sdm.tif', 0.1, 'Max', None]         # a, bc, d (min, mid, max)\n",
    "in_4 = [out_path + 'chm.tif', 1, 6, 11]                 # a, bc, d (min, mid, max)\n",
    "in_5 = [out_path + 'frax.tif', None, 'Min', 'Max']      # a, bc, d (min, mid, max)\n",
    "\n",
    "# combine into a list\n",
    "in_list = [\n",
    "    #in_1,\n",
    "    in_2, \n",
    "    in_3, \n",
    "    in_4, \n",
    "    in_5\n",
    "]   \n",
    "\n",
    "# load each dataset, append to end of each item list\n",
    "for item in in_list:\n",
    "    ds = ensemble.prepare_data(file_list=item[0], \n",
    "                               nodataval=in_nodataval)\n",
    "        \n",
    "    if ds:\n",
    "        item.append(ds)\n",
    "    else:\n",
    "        item.append(None)"
   ]
  },
  {
   "cell_type": "code",
   "execution_count": 32,
   "metadata": {},
   "outputs": [
    {
     "name": "stdout",
     "output_type": "stream",
     "text": [
      "Applying increasing sigmoidal to ../../notebooks/ensemble/temp/liot.tif\n",
      "Applying increasing sigmoidal to ../../notebooks/ensemble/temp/sdm.tif\n",
      "Applying bell sigmoidal to ../../notebooks/ensemble/temp/chm.tif\n",
      "Applying decreasing sigmoidal to ../../notebooks/ensemble/temp/frax.tif\n"
     ]
    }
   ],
   "source": [
    "# loop each input item and apply sigmoidal automatically\n",
    "in_list = ensemble.apply_auto_sigmoids(items=in_list)"
   ]
  },
  {
   "cell_type": "code",
   "execution_count": 33,
   "metadata": {},
   "outputs": [
    {
     "name": "stdout",
     "output_type": "stream",
     "text": [
      "Exporting sigmoidal liot_sigmoid.nc\n",
      "Exporting xarray as netcdf file.\n",
      "Exported xarray as netcdf successfully.\n",
      "Exporting sigmoidal sdm_sigmoid.nc\n",
      "Exporting xarray as netcdf file.\n",
      "Exported xarray as netcdf successfully.\n",
      "Exporting sigmoidal chm_sigmoid.nc\n",
      "Exporting xarray as netcdf file.\n",
      "Exported xarray as netcdf successfully.\n",
      "Exporting sigmoidal frax_sigmoid.nc\n",
      "Exporting xarray as netcdf file.\n",
      "Exported xarray as netcdf successfully.\n"
     ]
    }
   ],
   "source": [
    "# export sigmoidals to requested output folder\n",
    "ensemble.export_sigmoids(items=in_list, out_path=out_path) "
   ]
  },
  {
   "cell_type": "markdown",
   "metadata": {},
   "source": [
    "## Perform Ensemble"
   ]
  },
  {
   "cell_type": "code",
   "execution_count": 34,
   "metadata": {},
   "outputs": [],
   "source": [
    "# get list of belief layers\n",
    "#b_1_path = r'../../notebooks/ensemble/' + 'like_sigmoid.nc'\n",
    "b_2_path = r'../../notebooks/ensemble/' + 'liot_sigmoid.nc'\n",
    "b_3_path = r'../../notebooks/ensemble/' + 'sdm_sigmoid.nc'\n",
    "b_4_path = r'../../notebooks/ensemble/' + 'chm_sigmoid.nc'\n",
    "\n",
    "# get lsit of disbelief layers\n",
    "db_1_path = r'../../notebooks/ensemble/' + 'frax_sigmoid.nc'\n",
    "\n",
    "# combine belief list\n",
    "belief_list = [b_2_path, b_3_path, b_4_path]\n",
    "\n",
    "# combine disbelief list\n",
    "disbelief_list = [db_1_path]"
   ]
  },
  {
   "cell_type": "code",
   "execution_count": 35,
   "metadata": {},
   "outputs": [
    {
     "name": "stdout",
     "output_type": "stream",
     "text": [
      "Converting netcdf to an xarray dataset.\n",
      "Converted netcdf to xarray dataset: ../../notebooks/ensemble/liot_sigmoid.nc\n",
      "Netcdf converted to xarray dataset successfully.\n",
      "Converting netcdf to an xarray dataset.\n",
      "Converted netcdf to xarray dataset: ../../notebooks/ensemble/sdm_sigmoid.nc\n",
      "Netcdf converted to xarray dataset successfully.\n",
      "Converting netcdf to an xarray dataset.\n",
      "Converted netcdf to xarray dataset: ../../notebooks/ensemble/chm_sigmoid.nc\n",
      "Netcdf converted to xarray dataset successfully.\n",
      "Converting netcdf to an xarray dataset.\n",
      "Converted netcdf to xarray dataset: ../../notebooks/ensemble/frax_sigmoid.nc\n",
      "Netcdf converted to xarray dataset successfully.\n"
     ]
    }
   ],
   "source": [
    "# get belief xr datasets\n",
    "belief_list = ensemble.prepare_data(file_list=belief_list, \n",
    "                                    nodataval=np.nan)\n",
    "\n",
    "# get disbelief xr datasets\n",
    "disbelief_list = ensemble.prepare_data(file_list=disbelief_list, \n",
    "                                       nodataval=np.nan)"
   ]
  },
  {
   "cell_type": "code",
   "execution_count": 36,
   "metadata": {},
   "outputs": [],
   "source": [
    "# append dempster type label to belief xr datasets\n",
    "belief_list = ensemble.append_dempster_attr(ds_list=belief_list, \n",
    "                                            dempster_label='belief')\n",
    "\n",
    "# append dempster type label to disbelief xr datasets\n",
    "disbelief_list = ensemble.append_dempster_attr(ds_list=disbelief_list, \n",
    "                                               dempster_label='disbelief')"
   ]
  },
  {
   "cell_type": "code",
   "execution_count": 37,
   "metadata": {},
   "outputs": [
    {
     "name": "stdout",
     "output_type": "stream",
     "text": [
      "Resampling datasets to highest resolution.\n"
     ]
    }
   ],
   "source": [
    "# resample all datasets to lowest resolution\n",
    "ds_list = ensemble.resample_datasets(ds_list=belief_list + disbelief_list, \n",
    "                                     resample_to=resample_to, \n",
    "                                     resampling='nearest')"
   ]
  },
  {
   "cell_type": "code",
   "execution_count": 38,
   "metadata": {},
   "outputs": [],
   "source": [
    "# check if values are 0-1?"
   ]
  },
  {
   "cell_type": "code",
   "execution_count": 39,
   "metadata": {},
   "outputs": [
    {
     "data": {
      "text/plain": [
       "<matplotlib.collections.QuadMesh at 0x7f138c3a3a58>"
      ]
     },
     "execution_count": 39,
     "metadata": {},
     "output_type": "execute_result"
    },
    {
     "data": {
      "image/png": "[encoded data removed]",
      "text/plain": [
       "<Figure size 432x288 with 2 Axes>"
      ]
     },
     "metadata": {
      "needs_background": "light"
     },
     "output_type": "display_data"
    }
   ],
   "source": [
    "# perform dempster shafer modelling\n",
    "ds_dempster = ensemble.perform_dempster(ds_list=ds_list)\n",
    "ds_dempster['belief'].plot(robust=False)"
   ]
  },
  {
   "cell_type": "markdown",
   "metadata": {},
   "source": [
    "### Generate AUC"
   ]
  },
  {
   "cell_type": "code",
   "execution_count": 40,
   "metadata": {},
   "outputs": [],
   "source": [
    "ds_dempster = ds_dempster.compute()"
   ]
  },
  {
   "cell_type": "code",
   "execution_count": 41,
   "metadata": {},
   "outputs": [
    {
     "name": "stdout",
     "output_type": "stream",
     "text": [
      "Reading records within shapefile.\n",
      "Rows read from shapefile successfully.\n",
      "Subsetting records from dataframe.\n",
      "Subset records successfully.\n"
     ]
    }
   ],
   "source": [
    "# set location of point shapefile with presence/absence column\n",
    "#shp_path = r'../GDVSDM/data_testing/presence_points/presence_points.shp'\n",
    "#shp_path = r'../../data/gdvspectra/royhill_2_final_albers.shp'\n",
    "shp_path = r'../../data/ensemble/royhill/royhill_all_merged.shp'\n",
    "\n",
    "# read shapefile as pandas dataframe\n",
    "df_records = tools.read_shapefile(shp_path=shp_path)\n",
    "\n",
    "# subset to just x, y, pres/abse column\n",
    "df_records = tools.subset_records(df_records=df_records, p_a_column='GDV_ACT')\n",
    "\n",
    "# display dataframe\n",
    "#df_records"
   ]
  },
  {
   "cell_type": "code",
   "execution_count": 42,
   "metadata": {},
   "outputs": [
    {
     "name": "stdout",
     "output_type": "stream",
     "text": [
      "Thresholding groundwater-dependent vegeation likelihood.\n",
      "Thresholding dataset via occurrence records and AUC.\n",
      "Clipping pandas dataframe records to xarray dataset.\n",
      "Extracted xarray dataset values successfully.\n",
      "Removing records containing NoData (nan) values.\n",
      "Removed 0 records containing NoData values successfully.\n",
      "AUC: 0.918 for whole dataset.\n",
      "0.0\n",
      "0.0\n",
      "0.0\n",
      "0.0\n",
      "0.0\n",
      "0.0\n",
      "0.0044444444444444444\n",
      "0.0044444444444444444\n",
      "0.0044444444444444444\n",
      "0.0044444444444444444\n",
      "0.008888888888888889\n",
      "0.008888888888888889\n",
      "0.008888888888888889\n",
      "0.013333333333333334\n",
      "0.013333333333333334\n",
      "0.022222222222222223\n",
      "0.022222222222222223\n",
      "0.02666666666666667\n",
      "0.02666666666666667\n",
      "0.02666666666666667\n",
      "0.02666666666666667\n",
      "0.035555555555555556\n",
      "0.035555555555555556\n",
      "0.04\n",
      "0.04\n",
      "0.04888888888888889\n",
      "0.04888888888888889\n",
      "0.05333333333333334\n",
      "0.05333333333333334\n",
      "0.057777777777777775\n",
      "0.057777777777777775\n",
      "0.06222222222222222\n",
      "0.06222222222222222\n",
      "0.08\n",
      "0.08\n",
      "0.09777777777777778\n",
      "0.09777777777777778\n",
      "0.09777777777777778\n",
      "0.10666666666666667\n",
      "0.10666666666666667\n",
      "0.10666666666666667\n",
      "0.11555555555555555\n",
      "0.11555555555555555\n",
      "0.12\n",
      "0.12\n",
      "0.13333333333333333\n",
      "0.13333333333333333\n",
      "0.13777777777777778\n",
      "0.13777777777777778\n",
      "0.14222222222222222\n",
      "0.14222222222222222\n",
      "0.14666666666666667\n",
      "0.14666666666666667\n",
      "0.14666666666666667\n",
      "0.14666666666666667\n",
      "0.1511111111111111\n",
      "0.1511111111111111\n",
      "0.1511111111111111\n",
      "0.1511111111111111\n",
      "0.15555555555555556\n",
      "0.15555555555555556\n",
      "0.1688888888888889\n",
      "0.1688888888888889\n",
      "0.17333333333333334\n",
      "0.17333333333333334\n",
      "0.17333333333333334\n",
      "0.17333333333333334\n",
      "0.17333333333333334\n",
      "0.18222222222222223\n",
      "0.18222222222222223\n",
      "0.18666666666666668\n",
      "0.18666666666666668\n",
      "0.19555555555555557\n",
      "0.19555555555555557\n",
      "0.2\n",
      "0.2\n",
      "0.2\n",
      "0.2\n",
      "0.20444444444444446\n",
      "0.20444444444444446\n",
      "0.21333333333333335\n",
      "0.21333333333333335\n",
      "0.21777777777777776\n",
      "0.21777777777777776\n",
      "0.2222222222222222\n",
      "0.2222222222222222\n",
      "0.2222222222222222\n",
      "0.22666666666666666\n",
      "0.22666666666666666\n",
      "0.2311111111111111\n",
      "0.2311111111111111\n",
      "0.24\n",
      "0.24\n",
      "0.24\n",
      "0.24\n",
      "0.24888888888888888\n",
      "0.24888888888888888\n",
      "0.25333333333333335\n",
      "0.25333333333333335\n",
      "0.26666666666666666\n",
      "0.26666666666666666\n",
      "0.26666666666666666\n",
      "0.26666666666666666\n",
      "0.27111111111111114\n",
      "0.27111111111111114\n",
      "0.28\n",
      "0.28\n",
      "0.28\n",
      "0.28444444444444444\n",
      "0.28444444444444444\n",
      "0.29333333333333333\n",
      "0.29333333333333333\n",
      "0.29333333333333333\n",
      "0.29333333333333333\n",
      "0.29333333333333333\n",
      "0.3022222222222222\n",
      "0.3022222222222222\n",
      "0.30666666666666664\n",
      "0.30666666666666664\n",
      "0.3288888888888889\n",
      "0.3288888888888889\n",
      "0.3333333333333333\n",
      "0.3333333333333333\n",
      "0.5377777777777778\n",
      "0.5466666666666666\n",
      "0.6\n",
      "1.0\n",
      "\n",
      "\n",
      "0.0\n",
      "0.311787072243346\n",
      "0.34600760456273766\n",
      "0.3612167300380228\n",
      "0.38022813688212925\n",
      "0.38783269961977185\n",
      "0.38783269961977185\n",
      "0.41064638783269963\n",
      "0.41825095057034223\n",
      "0.43346007604562736\n",
      "0.43346007604562736\n",
      "0.44106463878326996\n",
      "0.467680608365019\n",
      "0.467680608365019\n",
      "0.4752851711026616\n",
      "0.4752851711026616\n",
      "0.4790874524714829\n",
      "0.4790874524714829\n",
      "0.49809885931558934\n",
      "0.5057034220532319\n",
      "0.5133079847908745\n",
      "0.5133079847908745\n",
      "0.5285171102661597\n",
      "0.5285171102661597\n",
      "0.5665399239543726\n",
      "0.5665399239543726\n",
      "0.5817490494296578\n",
      "0.5817490494296578\n",
      "0.5893536121673004\n",
      "0.5893536121673004\n",
      "0.5931558935361216\n",
      "0.5931558935361216\n",
      "0.6007604562737643\n",
      "0.6007604562737643\n",
      "0.623574144486692\n",
      "0.623574144486692\n",
      "0.6311787072243346\n",
      "0.6387832699619772\n",
      "0.6387832699619772\n",
      "0.6463878326996197\n",
      "0.6501901140684411\n",
      "0.6501901140684411\n",
      "0.6692015209125475\n",
      "0.6692015209125475\n",
      "0.6730038022813688\n",
      "0.6730038022813688\n",
      "0.6806083650190115\n",
      "0.6806083650190115\n",
      "0.6844106463878327\n",
      "0.6844106463878327\n",
      "0.688212927756654\n",
      "0.688212927756654\n",
      "0.6958174904942965\n",
      "0.7034220532319392\n",
      "0.714828897338403\n",
      "0.714828897338403\n",
      "0.7338403041825095\n",
      "0.7414448669201521\n",
      "0.7452471482889734\n",
      "0.7452471482889734\n",
      "0.752851711026616\n",
      "0.752851711026616\n",
      "0.7566539923954373\n",
      "0.7566539923954373\n",
      "0.7642585551330798\n",
      "0.7680608365019012\n",
      "0.7832699619771863\n",
      "0.7870722433460076\n",
      "0.7870722433460076\n",
      "0.7908745247148289\n",
      "0.7908745247148289\n",
      "0.8060836501901141\n",
      "0.8060836501901141\n",
      "0.8098859315589354\n",
      "0.8098859315589354\n",
      "0.8250950570342205\n",
      "0.8326996197718631\n",
      "0.8517110266159695\n",
      "0.8517110266159695\n",
      "0.8593155893536122\n",
      "0.8593155893536122\n",
      "0.8631178707224335\n",
      "0.8631178707224335\n",
      "0.8669201520912547\n",
      "0.8669201520912547\n",
      "0.870722433460076\n",
      "0.8783269961977186\n",
      "0.8783269961977186\n",
      "0.8859315589353612\n",
      "0.8859315589353612\n",
      "0.8897338403041825\n",
      "0.8897338403041825\n",
      "0.8973384030418251\n",
      "0.9049429657794676\n",
      "0.908745247148289\n",
      "0.908745247148289\n",
      "0.9125475285171103\n",
      "0.9125475285171103\n",
      "0.9163498098859315\n",
      "0.9163498098859315\n",
      "0.9277566539923955\n",
      "0.935361216730038\n",
      "0.9391634980988594\n",
      "0.9391634980988594\n",
      "0.9429657794676806\n",
      "0.9429657794676806\n",
      "0.9467680608365019\n",
      "0.9543726235741445\n",
      "0.9543726235741445\n",
      "0.9581749049429658\n",
      "0.9581749049429658\n",
      "0.9619771863117871\n",
      "0.9695817490494296\n",
      "0.9771863117870723\n",
      "0.9847908745247148\n",
      "0.9847908745247148\n",
      "0.9885931558935361\n",
      "0.9885931558935361\n",
      "0.9923954372623575\n",
      "0.9923954372623575\n",
      "0.9961977186311787\n",
      "0.9961977186311787\n",
      "1.0\n",
      "1.0\n",
      "1.0\n",
      "1.0\n",
      "1.0\n",
      "\n",
      "\n",
      "0.9181580059146598\n",
      "\n",
      "\n",
      "0.14008887\n",
      "- - - - - - - - - - - - - - - - - - - - - - - - - - - - - - \n",
      "Could not threshold via occurrence records. Trying standard dev.\n",
      "Thresholding dataset via standard deviation.\n",
      "Thresholded dataset successfully.\n",
      "Thresholded likelihood succuessfully.\n"
     ]
    },
    {
     "data": {
      "text/html": [
       "<div><svg style=\"position: absolute; width: 0; height: 0; overflow: hidden\">\n",
       "<defs>\n",
       "<symbol id=\"icon-database\" viewBox=\"0 0 32 32\">\n",
       "<path d=\"M16 0c-8.837 0-16 2.239-16 5v4c0 2.761 7.163 5 16 5s16-2.239 16-5v-4c0-2.761-7.163-5-16-5z\"></path>\n",
       "<path d=\"M16 17c-8.837 0-16-2.239-16-5v6c0 2.761 7.163 5 16 5s16-2.239 16-5v-6c0 2.761-7.163 5-16 5z\"></path>\n",
       "<path d=\"M16 26c-8.837 0-16-2.239-16-5v6c0 2.761 7.163 5 16 5s16-2.239 16-5v-6c0 2.761-7.163 5-16 5z\"></path>\n",
       "</symbol>\n",
       "<symbol id=\"icon-file-text2\" viewBox=\"0 0 32 32\">\n",
       "<path d=\"M28.681 7.159c-0.694-0.947-1.662-2.053-2.724-3.116s-2.169-2.030-3.116-2.724c-1.612-1.182-2.393-1.319-2.841-1.319h-15.5c-1.378 0-2.5 1.121-2.5 2.5v27c0 1.378 1.122 2.5 2.5 2.5h23c1.378 0 2.5-1.122 2.5-2.5v-19.5c0-0.448-0.137-1.23-1.319-2.841zM24.543 5.457c0.959 0.959 1.712 1.825 2.268 2.543h-4.811v-4.811c0.718 0.556 1.584 1.309 2.543 2.268zM28 29.5c0 0.271-0.229 0.5-0.5 0.5h-23c-0.271 0-0.5-0.229-0.5-0.5v-27c0-0.271 0.229-0.5 0.5-0.5 0 0 15.499-0 15.5 0v7c0 0.552 0.448 1 1 1h7v19.5z\"></path>\n",
       "<path d=\"M23 26h-14c-0.552 0-1-0.448-1-1s0.448-1 1-1h14c0.552 0 1 0.448 1 1s-0.448 1-1 1z\"></path>\n",
       "<path d=\"M23 22h-14c-0.552 0-1-0.448-1-1s0.448-1 1-1h14c0.552 0 1 0.448 1 1s-0.448 1-1 1z\"></path>\n",
       "<path d=\"M23 18h-14c-0.552 0-1-0.448-1-1s0.448-1 1-1h14c0.552 0 1 0.448 1 1s-0.448 1-1 1z\"></path>\n",
       "</symbol>\n",
       "</defs>\n",
       "</svg>\n",
       "<style>/* CSS stylesheet for displaying xarray objects in jupyterlab.\n",
       " *\n",
       " */\n",
       "\n",
       ":root {\n",
       "  --xr-font-color0: var(--jp-content-font-color0, rgba(0, 0, 0, 1));\n",
       "  --xr-font-color2: var(--jp-content-font-color2, rgba(0, 0, 0, 0.54));\n",
       "  --xr-font-color3: var(--jp-content-font-color3, rgba(0, 0, 0, 0.38));\n",
       "  --xr-border-color: var(--jp-border-color2, #e0e0e0);\n",
       "  --xr-disabled-color: var(--jp-layout-color3, #bdbdbd);\n",
       "  --xr-background-color: var(--jp-layout-color0, white);\n",
       "  --xr-background-color-row-even: var(--jp-layout-color1, white);\n",
       "  --xr-background-color-row-odd: var(--jp-layout-color2, #eeeeee);\n",
       "}\n",
       "\n",
       "html[theme=dark],\n",
       "body.vscode-dark {\n",
       "  --xr-font-color0: rgba(255, 255, 255, 1);\n",
       "  --xr-font-color2: rgba(255, 255, 255, 0.54);\n",
       "  --xr-font-color3: rgba(255, 255, 255, 0.38);\n",
       "  --xr-border-color: #1F1F1F;\n",
       "  --xr-disabled-color: #515151;\n",
       "  --xr-background-color: #111111;\n",
       "  --xr-background-color-row-even: #111111;\n",
       "  --xr-background-color-row-odd: #313131;\n",
       "}\n",
       "\n",
       ".xr-wrap {\n",
       "  display: block;\n",
       "  min-width: 300px;\n",
       "  max-width: 700px;\n",
       "}\n",
       "\n",
       ".xr-text-repr-fallback {\n",
       "  /* fallback to plain text repr when CSS is not injected (untrusted notebook) */\n",
       "  display: none;\n",
       "}\n",
       "\n",
       ".xr-header {\n",
       "  padding-top: 6px;\n",
       "  padding-bottom: 6px;\n",
       "  margin-bottom: 4px;\n",
       "  border-bottom: solid 1px var(--xr-border-color);\n",
       "}\n",
       "\n",
       ".xr-header > div,\n",
       ".xr-header > ul {\n",
       "  display: inline;\n",
       "  margin-top: 0;\n",
       "  margin-bottom: 0;\n",
       "}\n",
       "\n",
       ".xr-obj-type,\n",
       ".xr-array-name {\n",
       "  margin-left: 2px;\n",
       "  margin-right: 10px;\n",
       "}\n",
       "\n",
       ".xr-obj-type {\n",
       "  color: var(--xr-font-color2);\n",
       "}\n",
       "\n",
       ".xr-sections {\n",
       "  padding-left: 0 !important;\n",
       "  display: grid;\n",
       "  grid-template-columns: 150px auto auto 1fr 20px 20px;\n",
       "}\n",
       "\n",
       ".xr-section-item {\n",
       "  display: contents;\n",
       "}\n",
       "\n",
       ".xr-section-item input {\n",
       "  display: none;\n",
       "}\n",
       "\n",
       ".xr-section-item input + label {\n",
       "  color: var(--xr-disabled-color);\n",
       "}\n",
       "\n",
       ".xr-section-item input:enabled + label {\n",
       "  cursor: pointer;\n",
       "  color: var(--xr-font-color2);\n",
       "}\n",
       "\n",
       ".xr-section-item input:enabled + label:hover {\n",
       "  color: var(--xr-font-color0);\n",
       "}\n",
       "\n",
       ".xr-section-summary {\n",
       "  grid-column: 1;\n",
       "  color: var(--xr-font-color2);\n",
       "  font-weight: 500;\n",
       "}\n",
       "\n",
       ".xr-section-summary > span {\n",
       "  display: inline-block;\n",
       "  padding-left: 0.5em;\n",
       "}\n",
       "\n",
       ".xr-section-summary-in:disabled + label {\n",
       "  color: var(--xr-font-color2);\n",
       "}\n",
       "\n",
       ".xr-section-summary-in + label:before {\n",
       "  display: inline-block;\n",
       "  content: '►';\n",
       "  font-size: 11px;\n",
       "  width: 15px;\n",
       "  text-align: center;\n",
       "}\n",
       "\n",
       ".xr-section-summary-in:disabled + label:before {\n",
       "  color: var(--xr-disabled-color);\n",
       "}\n",
       "\n",
       ".xr-section-summary-in:checked + label:before {\n",
       "  content: '▼';\n",
       "}\n",
       "\n",
       ".xr-section-summary-in:checked + label > span {\n",
       "  display: none;\n",
       "}\n",
       "\n",
       ".xr-section-summary,\n",
       ".xr-section-inline-details {\n",
       "  padding-top: 4px;\n",
       "  padding-bottom: 4px;\n",
       "}\n",
       "\n",
       ".xr-section-inline-details {\n",
       "  grid-column: 2 / -1;\n",
       "}\n",
       "\n",
       ".xr-section-details {\n",
       "  display: none;\n",
       "  grid-column: 1 / -1;\n",
       "  margin-bottom: 5px;\n",
       "}\n",
       "\n",
       ".xr-section-summary-in:checked ~ .xr-section-details {\n",
       "  display: contents;\n",
       "}\n",
       "\n",
       ".xr-array-wrap {\n",
       "  grid-column: 1 / -1;\n",
       "  display: grid;\n",
       "  grid-template-columns: 20px auto;\n",
       "}\n",
       "\n",
       ".xr-array-wrap > label {\n",
       "  grid-column: 1;\n",
       "  vertical-align: top;\n",
       "}\n",
       "\n",
       ".xr-preview {\n",
       "  color: var(--xr-font-color3);\n",
       "}\n",
       "\n",
       ".xr-array-preview,\n",
       ".xr-array-data {\n",
       "  padding: 0 5px !important;\n",
       "  grid-column: 2;\n",
       "}\n",
       "\n",
       ".xr-array-data,\n",
       ".xr-array-in:checked ~ .xr-array-preview {\n",
       "  display: none;\n",
       "}\n",
       "\n",
       ".xr-array-in:checked ~ .xr-array-data,\n",
       ".xr-array-preview {\n",
       "  display: inline-block;\n",
       "}\n",
       "\n",
       ".xr-dim-list {\n",
       "  display: inline-block !important;\n",
       "  list-style: none;\n",
       "  padding: 0 !important;\n",
       "  margin: 0;\n",
       "}\n",
       "\n",
       ".xr-dim-list li {\n",
       "  display: inline-block;\n",
       "  padding: 0;\n",
       "  margin: 0;\n",
       "}\n",
       "\n",
       ".xr-dim-list:before {\n",
       "  content: '(';\n",
       "}\n",
       "\n",
       ".xr-dim-list:after {\n",
       "  content: ')';\n",
       "}\n",
       "\n",
       ".xr-dim-list li:not(:last-child):after {\n",
       "  content: ',';\n",
       "  padding-right: 5px;\n",
       "}\n",
       "\n",
       ".xr-has-index {\n",
       "  font-weight: bold;\n",
       "}\n",
       "\n",
       ".xr-var-list,\n",
       ".xr-var-item {\n",
       "  display: contents;\n",
       "}\n",
       "\n",
       ".xr-var-item > div,\n",
       ".xr-var-item label,\n",
       ".xr-var-item > .xr-var-name span {\n",
       "  background-color: var(--xr-background-color-row-even);\n",
       "  margin-bottom: 0;\n",
       "}\n",
       "\n",
       ".xr-var-item > .xr-var-name:hover span {\n",
       "  padding-right: 5px;\n",
       "}\n",
       "\n",
       ".xr-var-list > li:nth-child(odd) > div,\n",
       ".xr-var-list > li:nth-child(odd) > label,\n",
       ".xr-var-list > li:nth-child(odd) > .xr-var-name span {\n",
       "  background-color: var(--xr-background-color-row-odd);\n",
       "}\n",
       "\n",
       ".xr-var-name {\n",
       "  grid-column: 1;\n",
       "}\n",
       "\n",
       ".xr-var-dims {\n",
       "  grid-column: 2;\n",
       "}\n",
       "\n",
       ".xr-var-dtype {\n",
       "  grid-column: 3;\n",
       "  text-align: right;\n",
       "  color: var(--xr-font-color2);\n",
       "}\n",
       "\n",
       ".xr-var-preview {\n",
       "  grid-column: 4;\n",
       "}\n",
       "\n",
       ".xr-var-name,\n",
       ".xr-var-dims,\n",
       ".xr-var-dtype,\n",
       ".xr-preview,\n",
       ".xr-attrs dt {\n",
       "  white-space: nowrap;\n",
       "  overflow: hidden;\n",
       "  text-overflow: ellipsis;\n",
       "  padding-right: 10px;\n",
       "}\n",
       "\n",
       ".xr-var-name:hover,\n",
       ".xr-var-dims:hover,\n",
       ".xr-var-dtype:hover,\n",
       ".xr-attrs dt:hover {\n",
       "  overflow: visible;\n",
       "  width: auto;\n",
       "  z-index: 1;\n",
       "}\n",
       "\n",
       ".xr-var-attrs,\n",
       ".xr-var-data {\n",
       "  display: none;\n",
       "  background-color: var(--xr-background-color) !important;\n",
       "  padding-bottom: 5px !important;\n",
       "}\n",
       "\n",
       ".xr-var-attrs-in:checked ~ .xr-var-attrs,\n",
       ".xr-var-data-in:checked ~ .xr-var-data {\n",
       "  display: block;\n",
       "}\n",
       "\n",
       ".xr-var-data > table {\n",
       "  float: right;\n",
       "}\n",
       "\n",
       ".xr-var-name span,\n",
       ".xr-var-data,\n",
       ".xr-attrs {\n",
       "  padding-left: 25px !important;\n",
       "}\n",
       "\n",
       ".xr-attrs,\n",
       ".xr-var-attrs,\n",
       ".xr-var-data {\n",
       "  grid-column: 1 / -1;\n",
       "}\n",
       "\n",
       "dl.xr-attrs {\n",
       "  padding: 0;\n",
       "  margin: 0;\n",
       "  display: grid;\n",
       "  grid-template-columns: 125px auto;\n",
       "}\n",
       "\n",
       ".xr-attrs dt, dd {\n",
       "  padding: 0;\n",
       "  margin: 0;\n",
       "  float: left;\n",
       "  padding-right: 10px;\n",
       "  width: auto;\n",
       "}\n",
       "\n",
       ".xr-attrs dt {\n",
       "  font-weight: normal;\n",
       "  grid-column: 1;\n",
       "}\n",
       "\n",
       ".xr-attrs dt:hover span {\n",
       "  display: inline-block;\n",
       "  background: var(--xr-background-color);\n",
       "  padding-right: 10px;\n",
       "}\n",
       "\n",
       ".xr-attrs dd {\n",
       "  grid-column: 2;\n",
       "  white-space: pre-wrap;\n",
       "  word-break: break-all;\n",
       "}\n",
       "\n",
       ".xr-icon-database,\n",
       ".xr-icon-file-text2 {\n",
       "  display: inline-block;\n",
       "  vertical-align: middle;\n",
       "  width: 1em;\n",
       "  height: 1.5em !important;\n",
       "  stroke-width: 0;\n",
       "  stroke: currentColor;\n",
       "  fill: currentColor;\n",
       "}\n",
       "</style><pre class='xr-text-repr-fallback'>&lt;xarray.Dataset&gt;\n",
       "Dimensions:  (x: 3320, y: 3146)\n",
       "Coordinates:\n",
       "  * x        (x) float64 -1.24e+06 -1.24e+06 -1.24e+06 ... -1.207e+06 -1.207e+06\n",
       "  * y        (y) float64 -2.468e+06 -2.468e+06 ... -2.499e+06 -2.499e+06\n",
       "Data variables:\n",
       "    like     (y, x) float32 nan nan nan nan nan nan ... nan nan nan nan nan nan\n",
       "Attributes:\n",
       "    nodatavals:  nan</pre><div class='xr-wrap' hidden><div class='xr-header'><div class='xr-obj-type'>xarray.Dataset</div></div><ul class='xr-sections'><li class='xr-section-item'><input id='section-90ecb0d0-3993-4e82-b5e2-140f10c66368' class='xr-section-summary-in' type='checkbox' disabled ><label for='section-90ecb0d0-3993-4e82-b5e2-140f10c66368' class='xr-section-summary'  title='Expand/collapse section'>Dimensions:</label><div class='xr-section-inline-details'><ul class='xr-dim-list'><li><span class='xr-has-index'>x</span>: 3320</li><li><span class='xr-has-index'>y</span>: 3146</li></ul></div><div class='xr-section-details'></div></li><li class='xr-section-item'><input id='section-52943841-6550-4714-8b4e-71cc991dd8ef' class='xr-section-summary-in' type='checkbox'  checked><label for='section-52943841-6550-4714-8b4e-71cc991dd8ef' class='xr-section-summary' >Coordinates: <span>(2)</span></label><div class='xr-section-inline-details'></div><div class='xr-section-details'><ul class='xr-var-list'><li class='xr-var-item'><div class='xr-var-name'><span class='xr-has-index'>x</span></div><div class='xr-var-dims'>(x)</div><div class='xr-var-dtype'>float64</div><div class='xr-var-preview xr-preview'>-1.24e+06 -1.24e+06 ... -1.207e+06</div><input id='attrs-15f622d8-0139-4b38-a19d-da4c831c6501' class='xr-var-attrs-in' type='checkbox' disabled><label for='attrs-15f622d8-0139-4b38-a19d-da4c831c6501' title='Show/Hide attributes'><svg class='icon xr-icon-file-text2'><use xlink:href='#icon-file-text2'></use></svg></label><input id='data-1adc5aa6-16a4-42ff-b278-473d82c4fb2d' class='xr-var-data-in' type='checkbox'><label for='data-1adc5aa6-16a4-42ff-b278-473d82c4fb2d' title='Show/Hide data repr'><svg class='icon xr-icon-database'><use xlink:href='#icon-database'></use></svg></label><div class='xr-var-attrs'><dl class='xr-attrs'></dl></div><div class='xr-var-data'><pre>array([-1240265.790388, -1240255.790388, -1240245.790388, ..., -1207095.790388,\n",
       "       -1207085.790388, -1207075.790388])</pre></div></li><li class='xr-var-item'><div class='xr-var-name'><span class='xr-has-index'>y</span></div><div class='xr-var-dims'>(y)</div><div class='xr-var-dtype'>float64</div><div class='xr-var-preview xr-preview'>-2.468e+06 ... -2.499e+06</div><input id='attrs-479c47eb-7218-40e1-8d50-4f2933235b91' class='xr-var-attrs-in' type='checkbox' disabled><label for='attrs-479c47eb-7218-40e1-8d50-4f2933235b91' title='Show/Hide attributes'><svg class='icon xr-icon-file-text2'><use xlink:href='#icon-file-text2'></use></svg></label><input id='data-fc550a4a-4094-454e-867c-8e374ab3719d' class='xr-var-data-in' type='checkbox'><label for='data-fc550a4a-4094-454e-867c-8e374ab3719d' title='Show/Hide data repr'><svg class='icon xr-icon-database'><use xlink:href='#icon-database'></use></svg></label><div class='xr-var-attrs'><dl class='xr-attrs'></dl></div><div class='xr-var-data'><pre>array([-2467580.690428, -2467590.690428, -2467600.690428, ..., -2499010.690428,\n",
       "       -2499020.690428, -2499030.690428])</pre></div></li></ul></div></li><li class='xr-section-item'><input id='section-f04b47cf-d588-4cf6-9802-0817b45c4c54' class='xr-section-summary-in' type='checkbox'  checked><label for='section-f04b47cf-d588-4cf6-9802-0817b45c4c54' class='xr-section-summary' >Data variables: <span>(1)</span></label><div class='xr-section-inline-details'></div><div class='xr-section-details'><ul class='xr-var-list'><li class='xr-var-item'><div class='xr-var-name'><span>like</span></div><div class='xr-var-dims'>(y, x)</div><div class='xr-var-dtype'>float32</div><div class='xr-var-preview xr-preview'>nan nan nan nan ... nan nan nan nan</div><input id='attrs-f92bb02c-979f-42ea-bcb4-ff1106d0bff9' class='xr-var-attrs-in' type='checkbox' disabled><label for='attrs-f92bb02c-979f-42ea-bcb4-ff1106d0bff9' title='Show/Hide attributes'><svg class='icon xr-icon-file-text2'><use xlink:href='#icon-file-text2'></use></svg></label><input id='data-58d73c74-63b3-4d59-b2ea-888b4e3f5032' class='xr-var-data-in' type='checkbox'><label for='data-58d73c74-63b3-4d59-b2ea-888b4e3f5032' title='Show/Hide data repr'><svg class='icon xr-icon-database'><use xlink:href='#icon-database'></use></svg></label><div class='xr-var-attrs'><dl class='xr-attrs'></dl></div><div class='xr-var-data'><pre>array([[nan, nan, nan, ..., nan, nan, nan],\n",
       "       [nan, nan, nan, ..., nan, nan, nan],\n",
       "       [nan, nan, nan, ..., nan, nan, nan],\n",
       "       ...,\n",
       "       [nan, nan, nan, ..., nan, nan, nan],\n",
       "       [nan, nan, nan, ..., nan, nan, nan],\n",
       "       [nan, nan, nan, ..., nan, nan, nan]], dtype=float32)</pre></div></li></ul></div></li><li class='xr-section-item'><input id='section-c0092b1e-bd0a-49d4-9946-943dd8e69aa5' class='xr-section-summary-in' type='checkbox'  checked><label for='section-c0092b1e-bd0a-49d4-9946-943dd8e69aa5' class='xr-section-summary' >Attributes: <span>(1)</span></label><div class='xr-section-inline-details'></div><div class='xr-section-details'><dl class='xr-attrs'><dt><span>nodatavals :</span></dt><dd>nan</dd></dl></div></li></ul></div></div>"
      ],
      "text/plain": [
       "<xarray.Dataset>\n",
       "Dimensions:  (x: 3320, y: 3146)\n",
       "Coordinates:\n",
       "  * x        (x) float64 -1.24e+06 -1.24e+06 -1.24e+06 ... -1.207e+06 -1.207e+06\n",
       "  * y        (y) float64 -2.468e+06 -2.468e+06 ... -2.499e+06 -2.499e+06\n",
       "Data variables:\n",
       "    like     (y, x) float32 nan nan nan nan nan nan ... nan nan nan nan nan nan\n",
       "Attributes:\n",
       "    nodatavals:  nan"
      ]
     },
     "execution_count": 42,
     "metadata": {},
     "output_type": "execute_result"
    }
   ],
   "source": [
    "# prepare metric for auc\n",
    "metric = 'belief'\n",
    "da = ds_dempster[metric].to_dataset(promote_attrs=True)\n",
    "da = da.rename({metric: 'like'})\n",
    "da.attrs.update({'nodatavals': np.nan})\n",
    "\n",
    "# threshold to get auc\n",
    "gdvspectra.threshold_likelihood(ds=da,\n",
    "                                df=df_records, \n",
    "                                num_stdevs=2.5, \n",
    "                                res_factor=3, \n",
    "                                if_nodata='any')"
   ]
  },
  {
   "cell_type": "code",
   "execution_count": null,
   "metadata": {},
   "outputs": [],
   "source": [
    "# export to nc\n",
    "tools.export_xr_as_nc(ds=ds_dempster, filename='ds_{}_demp_all_highest_resample.nc'.format('sentinel'))"
   ]
  },
  {
   "cell_type": "code",
   "execution_count": null,
   "metadata": {},
   "outputs": [],
   "source": []
  },
  {
   "cell_type": "code",
   "execution_count": null,
   "metadata": {},
   "outputs": [],
   "source": []
  },
  {
   "cell_type": "code",
   "execution_count": null,
   "metadata": {},
   "outputs": [],
   "source": []
  },
  {
   "cell_type": "code",
   "execution_count": null,
   "metadata": {},
   "outputs": [],
   "source": [
    "%autoreload\n",
    "\n",
    "# set location of point shapefile with presence/absence column\n",
    "#shp_path = r'../GDVSDM/data_testing/presence_points/presence_points.shp'\n",
    "#shp_path = r'../../data/gdvspectra/royhill_2_final_albers.shp'\n",
    "shp_path = r'../../data/ensemble/royhill/royhill_all_merged.shp'\n",
    "\n",
    "# read shapefile as pandas dataframe\n",
    "df_records = tools.read_shapefile(shp_path=shp_path)\n",
    "\n",
    "# subset to just x, y, pres/abse column\n",
    "df_records = tools.subset_records(df_records=df_records, p_a_column='GDV_ACT')\n",
    "\n",
    "# display dataframe\n",
    "#df_records\n",
    "\n",
    "#remove\n",
    "ds = xr.open_dataset(r'./ds_sentinel_demp_all_highest_resample.nc')\n",
    "\n",
    "metric = 'belief'\n",
    "da = ds[metric].to_dataset(promote_attrs=True).squeeze(drop=True)\n",
    "da = da.rename({metric: 'like'})\n",
    "da.attrs.update({'nodatavals': np.nan})\n",
    "\n",
    "df_testing = df_records\n",
    "#df_testing = df_records[50:]\n",
    "#df_testing = df_testing[:-50]\n",
    "\n",
    "# perform thresholding using standard deviation on all-time median likelihood\n",
    "ds_thresh = gdvspectra.threshold_likelihood(ds=da,\n",
    "                                            df=df_testing, \n",
    "                                            num_stdevs=2.5, \n",
    "                                            res_factor=3, \n",
    "                                            if_nodata='any')"
   ]
  },
  {
   "cell_type": "code",
   "execution_count": null,
   "metadata": {},
   "outputs": [],
   "source": [
    "da"
   ]
  }
 ],
 "metadata": {
  "kernelspec": {
   "display_name": "Python 3",
   "language": "python",
   "name": "python3"
  },
  "language_info": {
   "codemirror_mode": {
    "name": "ipython",
    "version": 3
   },
   "file_extension": ".py",
   "mimetype": "text/x-python",
   "name": "python",
   "nbconvert_exporter": "python",
   "pygments_lexer": "ipython3",
   "version": "3.6.9"
  }
 },
 "nbformat": 4,
 "nbformat_minor": 4
}
