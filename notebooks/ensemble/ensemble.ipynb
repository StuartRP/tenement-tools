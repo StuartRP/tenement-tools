{
 "cells": [
  {
   "cell_type": "code",
   "execution_count": 1,
   "metadata": {},
   "outputs": [],
   "source": [
    "# ensemble modeller"
   ]
  },
  {
   "cell_type": "code",
   "execution_count": 2,
   "metadata": {},
   "outputs": [],
   "source": [
    "# import various evidence layers\n",
    "# build frame of discernment\n",
    "# e.g. rescale images > 0.8 for each image\n",
    "# which images are gdv areas, which layers are non-gdv areas?"
   ]
  },
  {
   "cell_type": "code",
   "execution_count": null,
   "metadata": {},
   "outputs": [],
   "source": [
    "# superset = [L, P, S, F, C]\n",
    "\n",
    "# L = GDV Likelihood\n",
    "# P = Phenometric (e.g. LIOT)\n",
    "# S = SDM\n",
    "# F = Fractional Map\n",
    "# C = CHM\n",
    "\n",
    "# determine if each layer is site, non-site.\n",
    "# assign bpa's \n",
    "# e.g. bird like sw aspect, so sw aspect gets 0.75, flat givem 0.5, rest (superset) gets 0.25\n",
    "# e.g. increasing signmoidal, 0 to 1\n",
    "# combine site hypotheses (e.g. site layers)\n",
    "# e.g. site (vege layer) = 0.8, rest (ignoreance) get 0.2. \n",
    "# e.g. site (aspect) =0.9, rest (ignoreance) get 0.1\n",
    "# prepare matrix for site hypothesies (vege, aspect)\n",
    "# cross multiply sites (veg x aspect) and ignorance\n",
    "# next matrix for non-sites 1, 2, cross multi,sum values\n",
    "# new matrix for non-sites 2, 3, cross multi,sum values\n",
    "# add results of those two into matrix, cross multi, then sum values\n",
    "# take result from site, non-site, superset, and put in new matrix\n",
    "# cross multi, sum up, divide by intersection \n",
    "# calc belief by summing any site values, calc disbelief by summing any non-site\n",
    "# do this per pixel\n",
    "# you get disbelief, plaus, belief interval (plaus - belief) and belief\n"
   ]
  }
 ],
 "metadata": {
  "kernelspec": {
   "display_name": "Python 3",
   "language": "python",
   "name": "python3"
  },
  "language_info": {
   "codemirror_mode": {
    "name": "ipython",
    "version": 3
   },
   "file_extension": ".py",
   "mimetype": "text/x-python",
   "name": "python",
   "nbconvert_exporter": "python",
   "pygments_lexer": "ipython3",
   "version": "3.6.9"
  }
 },
 "nbformat": 4,
 "nbformat_minor": 4
}
