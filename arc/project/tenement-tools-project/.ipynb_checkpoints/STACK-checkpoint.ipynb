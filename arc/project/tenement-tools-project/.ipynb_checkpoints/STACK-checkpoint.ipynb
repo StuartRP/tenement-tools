{
 "cells": [
  {
   "cell_type": "code",
   "execution_count": 4,
   "metadata": {},
   "outputs": [
    {
     "name": "stdout",
     "output_type": "stream",
     "text": [
      "The autoreload extension is already loaded. To reload it, use:\n",
      "  %reload_ext autoreload\n"
     ]
    }
   ],
   "source": [
    "%load_ext autoreload\n",
    "\n",
    "import os\n",
    "import sys\n",
    "import gdal\n",
    "import rasterio\n",
    "import numpy as np\n",
    "import xarray as xr\n",
    "import matplotlib.pyplot as plt\n",
    "\n",
    "import dask\n",
    "import dask.array as da\n",
    "\n",
    "#from datetime import datetime\n",
    "#from lxml import etree\n",
    "\n",
    "\n",
    "#sys.path.append('../../../Scripts')\n",
    "#from dea_dask import create_local_dask_cluster\n",
    "\n",
    "#sys.path.append('../../shared')\n",
    "#import satfetcher"
   ]
  }
 ],
 "metadata": {
  "kernelspec": {
   "display_name": "ArcGISPro",
   "language": "Python",
   "name": "python3"
  },
  "language_info": {
   "file_extension": ".py",
   "name": "python",
   "version": "3"
  }
 },
 "nbformat": 4,
 "nbformat_minor": 2
}
