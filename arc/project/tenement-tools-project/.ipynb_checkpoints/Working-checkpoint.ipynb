{
 "cells": [
  {
   "cell_type": "code",
   "execution_count": 1,
   "metadata": {},
   "outputs": [],
   "source": [
    "# disable future warnings\n",
    "import warnings\n",
    "warnings.simplefilter(action='ignore', category=FutureWarning)\n",
    "\n",
    "# safe imports\n",
    "import os, sys       # arcgis comes with these\n",
    "import datetime      # arcgis comes with this\n",
    "import numpy as np   # arcgis comes with this\n",
    "import pandas as pd  # arcgis comes with this\n",
    "\n",
    "# risk imports (non-native to arcgis)\n",
    "try:\n",
    "    import xarray as xr  # not in arcgis\n",
    "except:\n",
    "    arcpy.AddError('Python library Xarray is not installed.')\n",
    "    raise\n",
    "\n",
    "# import tools\n",
    "try:\n",
    "    # shared folder\n",
    "    sys.path.append(r'C:\\Users\\262272G\\Documents\\GitHub\\tenement-tools\\shared')\n",
    "    sys.path.append(r'C:\\Users\\Lewis\\Documents\\GitHub\\tenement-tools\\shared')\n",
    "    import arc, satfetcher, tools  \n",
    "\n",
    "    # module folder\n",
    "    sys.path.append(r'C:\\Users\\262272G\\Documents\\GitHub\\tenement-tools\\modules')\n",
    "    sys.path.append(r'C:\\Users\\Lewis\\Documents\\GitHub\\tenement-tools\\modules')\n",
    "    import ensemble, cog  \n",
    "\n",
    "except:\n",
    "    arcpy.AddError('Could not find tenement tools python scripts (modules, shared).')\n",
    "    raise"
   ]
  },
  {
   "cell_type": "code",
   "execution_count": 57,
   "metadata": {},
   "outputs": [],
   "source": [
    "# grab parameter values \n",
    "#in_lyrs = parameters[0].value      # ncs, vars, types, a, bc, d\n",
    "in_nodataval = np.nan\n",
    "\n",
    "# WORKING ! DELETE !\n",
    "in_lyrs = [\n",
    "    ['C:\\\\Users\\\\262272G\\\\Desktop\\\\test\\\\phenos_num.nc', 'pos_values', 'Belief', '0.054', 'N/A', '0.442'],\n",
    "    ['C:\\\\Users\\\\262272G\\\\Desktop\\\\test\\\\vegfrax.nc', 'class_1', 'Belief', '0.0', 'N/A', '1.0']\n",
    "]"
   ]
  },
  {
   "cell_type": "code",
   "execution_count": 58,
   "metadata": {},
   "outputs": [],
   "source": [
    "# clean up stringified a, bc, d numerics\n",
    "in_lyrs_clean = []\n",
    "for in_lyr in in_lyrs:\n",
    "    nc_path = in_lyr[0]\n",
    "    var = in_lyr[1]\n",
    "    typ = in_lyr[2]\n",
    "    a = in_lyr[3]\n",
    "    bc = in_lyr[4]\n",
    "    d = in_lyr[5]\n",
    "    \n",
    "    # clean a\n",
    "    if a == '' or a.lower() == 'n/a':\n",
    "        a = None\n",
    "    elif a.lower() == 'min':\n",
    "        a == 'Min'\n",
    "    elif a.lower() == 'max':\n",
    "        a == 'Max'\n",
    "    else:\n",
    "        try:\n",
    "            a = float(a)\n",
    "        except:\n",
    "            raise ValueError('Value for a is not a float.')\n",
    "\n",
    "    # clean bc\n",
    "    if bc== '' or bc.lower() == 'n/a':\n",
    "        bc = None\n",
    "    elif bc.lower() in ['min', 'max']:\n",
    "        raise ValueError('Can not set mid point to Min or Max.')\n",
    "    else:\n",
    "        try:\n",
    "            bc = float(bc)\n",
    "        except:\n",
    "            raise ValueError('Value for bc is not a float.')\n",
    "            \n",
    "    # clean d\n",
    "    if d == '' or d.lower() == 'n/a':\n",
    "        d = None\n",
    "    elif d.lower() == 'min':\n",
    "        d == 'Min'\n",
    "    elif d.lower() == 'max':\n",
    "        d == 'Max'\n",
    "    else:\n",
    "        try:\n",
    "            d = float(d)\n",
    "        except:\n",
    "            raise ValueError('Value for d is not a float.')  \n",
    "            \n",
    "            \n",
    "    in_lyrs_clean.append([nc_path, var, typ, a, bc, d])\n",
    "    "
   ]
  },
  {
   "cell_type": "code",
   "execution_count": null,
   "metadata": {},
   "outputs": [],
   "source": []
  },
  {
   "cell_type": "code",
   "execution_count": 60,
   "metadata": {},
   "outputs": [
    {
     "name": "stdout",
     "output_type": "stream",
     "text": [
      "Converting netcdf to an xarray dataset.\n",
      "Converted netcdf to xarray dataset: C:\\Users\\262272G\\Desktop\\test\\phenos_num.nc\n",
      "Netcdf converted to xarray dataset successfully.\n",
      "Converting netcdf to an xarray dataset.\n",
      "Converted netcdf to xarray dataset: C:\\Users\\262272G\\Desktop\\test\\vegfrax.nc\n",
      "Netcdf converted to xarray dataset successfully.\n"
     ]
    }
   ],
   "source": [
    "in_data = []\n",
    "for in_lyr in in_lyrs_clean:\n",
    "\n",
    "    # fill up dict\n",
    "    data_list = [\n",
    "        #'nc_path': in_lyr[0].value,\n",
    "        in_lyr[0],  # TODO CHANGE THIS TO ABOVE IN FINAL\n",
    "        in_lyr[1],\n",
    "        in_lyr[2],\n",
    "        in_lyr[3],\n",
    "        in_lyr[4],\n",
    "        in_lyr[5]\n",
    "    ]   \n",
    "    \n",
    "    # load dataset\n",
    "    ds = ensemble.prepare_data(file_list=data_list[0],  # nc path\n",
    "                               var=data_list[1],        # var\n",
    "                               nodataval=np.nan)\n",
    "    \n",
    "    if ds:\n",
    "        data_list.append(ds)\n",
    "    else:\n",
    "        data_list.append(None)\n",
    "        \n",
    "    # append to list\n",
    "    in_data.append(data_list)"
   ]
  },
  {
   "cell_type": "code",
   "execution_count": null,
   "metadata": {},
   "outputs": [],
   "source": []
  },
  {
   "cell_type": "code",
   "execution_count": 62,
   "metadata": {},
   "outputs": [],
   "source": [
    "# loop each input item and apply sigmoidal automatically\n",
    "in_list = ensemble.apply_auto_sigmoids(items=in_data)"
   ]
  },
  {
   "cell_type": "code",
   "execution_count": null,
   "metadata": {},
   "outputs": [],
   "source": []
  },
  {
   "cell_type": "code",
   "execution_count": null,
   "metadata": {},
   "outputs": [],
   "source": [
    "# export sigmoidals to requested output folder\n",
    "#ensemble.export_sigmoids(items=in_list, out_path=out_path) "
   ]
  },
  {
   "cell_type": "code",
   "execution_count": null,
   "metadata": {},
   "outputs": [],
   "source": []
  },
  {
   "cell_type": "code",
   "execution_count": null,
   "metadata": {},
   "outputs": [],
   "source": [
    "belief_list, disbelief_list = [], []\n",
    "for item in in_list:\n",
    "    typ = item[2]\n",
    "    \n",
    "    if typ == 'Belief':\n",
    "        belief_list.append(item[7])\n",
    "    elif typ == 'Disbelief':\n",
    "        disbelief_list.append(item[7])\n",
    "    else:\n",
    "        raise ValueError('Layer type attribute missing.')"
   ]
  }
 ],
 "metadata": {
  "kernelspec": {
   "display_name": "ArcGISPro",
   "language": "Python",
   "name": "python3"
  },
  "language_info": {
   "file_extension": ".py",
   "name": "python",
   "version": "3"
  }
 },
 "nbformat": 4,
 "nbformat_minor": 2
}
