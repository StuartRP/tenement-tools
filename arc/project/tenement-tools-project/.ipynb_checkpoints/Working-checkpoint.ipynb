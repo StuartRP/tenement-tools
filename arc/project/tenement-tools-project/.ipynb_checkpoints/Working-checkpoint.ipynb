{
 "cells": [
  {
   "cell_type": "code",
   "execution_count": 1,
   "metadata": {},
   "outputs": [],
   "source": [
    "%load_ext autoreload\n",
    "\n",
    "import xarray as xr\n",
    "import rasterio\n",
    "import pandas as pd\n",
    "import numpy as np\n",
    "import osr\n",
    "import os\n",
    "import arcpy\n",
    "import datetime\n",
    "\n",
    "sys.path.append(r'C:\\Users\\Lewis\\Documents\\GitHub\\tenement-tools\\shared')\n",
    "import arc, satfetcher, tools\n",
    "\n",
    "sys.path.append(r'C:\\Users\\Lewis\\Documents\\GitHub\\tenement-tools\\modules')\n",
    "import gdvspectra, cog"
   ]
  },
  {
   "cell_type": "code",
   "execution_count": 3,
   "metadata": {},
   "outputs": [],
   "source": [
    "ds = xr.open_dataset(r\"C:\\Users\\Lewis\\Desktop\\working\\like.nc\")\n",
    "pd.Timestamp(ds['time'].isel(time=0).values)"
   ]
  },
  {
   "cell_type": "code",
   "execution_count": 25,
   "metadata": {},
   "outputs": [],
   "source": [
    "# check if got time dim, if so, pluck dts\n",
    "if 'time' in list(ds.dims):\n",
    "    start_dt = ds['time'].isel(time=0).dt.strftime('%Y-%m-%d').values\n",
    "    end_dt = ds['time'].isel(time=-1).dt.strftime('%Y-%m-%d').values"
   ]
  },
  {
   "cell_type": "code",
   "execution_count": 27,
   "metadata": {},
   "outputs": [
    {
     "data": {
      "text/plain": [
       "array('2020-01-01', dtype=object)"
      ]
     },
     "execution_count": 27,
     "metadata": {},
     "output_type": "execute_result"
    }
   ],
   "source": [
    "end_dt"
   ]
  },
  {
   "cell_type": "code",
   "execution_count": 29,
   "metadata": {},
   "outputs": [
    {
     "data": {
      "text/plain": [
       "<module 'arcpy' from 'C:\\\\Program Files\\\\ArcGIS\\\\Pro\\\\Resources\\\\ArcPy\\\\arcpy\\\\__init__.py'>"
      ]
     },
     "execution_count": 29,
     "metadata": {},
     "output_type": "execute_result"
    }
   ],
   "source": [
    "arcpy."
   ]
  },
  {
   "cell_type": "code",
   "execution_count": 34,
   "metadata": {},
   "outputs": [
    {
     "data": {
      "text/plain": [
       "True"
      ]
     },
     "execution_count": 34,
     "metadata": {},
     "output_type": "execute_result"
    }
   ],
   "source": [
    "import datetime\n",
    "\n",
    "datetime.datetime.strptime(str(start_dt), \"%Y-%m-%d\") == datetime.datetime.strptime(str(start_dt), \"%Y-%m-%d\")"
   ]
  },
  {
   "cell_type": "code",
   "execution_count": null,
   "metadata": {},
   "outputs": [],
   "source": []
  },
  {
   "cell_type": "code",
   "execution_count": null,
   "metadata": {},
   "outputs": [],
   "source": [
    "in_like_nc = r'C:\\Users\\262272G\\Desktop\\working\\like2.nc'\n",
    "in_mask_nc = r'C:\\Users\\262272G\\Desktop\\working\\thresh.nc'"
   ]
  },
  {
   "cell_type": "code",
   "execution_count": null,
   "metadata": {},
   "outputs": [],
   "source": [
    "# load netcdf file as xr\n",
    "ds_like = satfetcher.load_local_nc(nc_path=in_like_nc, \n",
    "                                   use_dask=True, \n",
    "                                   conform_nodata_to=np.nan)\n",
    "\n",
    "# if mask provided, load that too\n",
    "if in_mask_nc is not None:\n",
    "\n",
    "    ds_mask = satfetcher.load_local_nc(nc_path=in_mask_nc, \n",
    "                                       use_dask=True, \n",
    "                                       conform_nodata_to=np.nan)\n",
    "\n",
    "    ds_like = ds_like.where(~ds_mask.to_array().isnull())\n"
   ]
  }
 ],
 "metadata": {
  "kernelspec": {
   "display_name": "ArcGISPro",
   "language": "Python",
   "name": "python3"
  },
  "language_info": {
   "file_extension": ".py",
   "name": "python",
   "version": "3"
  }
 },
 "nbformat": 4,
 "nbformat_minor": 2
}
