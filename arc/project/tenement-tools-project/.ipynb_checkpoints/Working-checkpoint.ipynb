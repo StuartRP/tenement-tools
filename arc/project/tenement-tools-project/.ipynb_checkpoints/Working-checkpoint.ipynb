{
 "cells": [
  {
   "cell_type": "code",
   "execution_count": 90,
   "metadata": {},
   "outputs": [],
   "source": [
    "# disable future warnings\n",
    "import warnings\n",
    "warnings.simplefilter(action='ignore', category=FutureWarning)\n",
    "\n",
    "# safe imports\n",
    "import os, sys       # arcgis comes with these\n",
    "import datetime      # arcgis comes with this\n",
    "import numpy as np   # arcgis comes with this\n",
    "import pandas as pd  # arcgis comes with this\n",
    "import matplotlib.pyplot as plt\n",
    "\n",
    "# risk imports (non-native to arcgis)\n",
    "try:\n",
    "    import xarray as xr  # not in arcgis\n",
    "except:\n",
    "    arcpy.AddError('Python library Xarray is not installed.')\n",
    "    raise\n",
    "\n",
    "# import tools\n",
    "try:\n",
    "    # shared folder\n",
    "    sys.path.append(r'C:\\Users\\262272G\\Documents\\GitHub\\tenement-tools\\shared')\n",
    "    sys.path.append(r'C:\\Users\\Lewis\\Documents\\GitHub\\tenement-tools\\shared')\n",
    "    import arc, satfetcher, tools  \n",
    "\n",
    "    # module folder\n",
    "    sys.path.append(r'C:\\Users\\262272G\\Documents\\GitHub\\tenement-tools\\modules')\n",
    "    sys.path.append(r'C:\\Users\\Lewis\\Documents\\GitHub\\tenement-tools\\modules')\n",
    "    import ensemble, cog  \n",
    "\n",
    "except:\n",
    "    arcpy.AddError('Could not find tenement tools python scripts (modules, shared).')\n",
    "    raise"
   ]
  },
  {
   "cell_type": "code",
   "execution_count": 34,
   "metadata": {},
   "outputs": [],
   "source": [
    "ds = xr.open_dataset(r'C:\\Users\\262272G\\Desktop\\test\\pheno_novardim.nc')\n",
    "ds = ds_novardim.compute()\n",
    "ds = ds.squeeze(drop=True)"
   ]
  },
  {
   "cell_type": "code",
   "execution_count": 35,
   "metadata": {},
   "outputs": [],
   "source": [
    "in_add_result_to_map = True\n",
    "out_nc = r'C:\\Users\\262272G\\Desktop\\test\\pheno_novardim.nc'"
   ]
  },
  {
   "cell_type": "code",
   "execution_count": 91,
   "metadata": {},
   "outputs": [],
   "source": [
    "GRP_LYR_FILE = r\"C:\\Users\\262272G\\Documents\\GitHub\\tenement-tools\\arc\\lyr\\group_template.lyrx\""
   ]
  },
  {
   "cell_type": "code",
   "execution_count": null,
   "metadata": {},
   "outputs": [],
   "source": [
    "# # # # #\n",
    "# add multi-dim raster to current map\n",
    "if in_add_result_to_map:\n",
    "\n",
    "    # notify and increment progess bar\n",
    "    arcpy.SetProgressorLabel('Adding metrics to current ArcGIS map...')\n",
    "    arcpy.SetProgressorPosition(16)\n",
    "\n",
    "    # create output folder with dt\n",
    "    dt = datetime.datetime.now().strftime(\"%d%m%Y%H%M%S\")\n",
    "    out_folder = os.path.join(os.path.dirname(out_nc), 'metrics' + '_' + dt)\n",
    "    os.makedirs(out_folder)\n",
    "\n",
    "    # enable auto-add to map for second\n",
    "    arcpy.env.addOutputsToMap = True\n",
    "    \n",
    "    try:\n",
    "        # try to get current map, fail if doesnt exist\n",
    "        aprx = arcpy.mp.ArcGISProject('CURRENT')\n",
    "        m = aprx.activeMap\n",
    "        \n",
    "        # setup a group layer via template\n",
    "        grp_lyr = arcpy.mp.LayerFile(GRP_LYR_FILE)\n",
    "        grp = m.addLayer(grp_lyr)[0]\n",
    "        grp.name = 'metrics'\n",
    "\n",
    "        # loop each metric and export a seperate crf\n",
    "        for var in list(ds.data_vars):                    \n",
    "\n",
    "            # create current output crf file\n",
    "            out_crf = os.path.join(out_folder, var + '.crf')\n",
    "            \n",
    "            \n",
    "            \n",
    "            # select current var from crf\n",
    "            lyr = arcpy.md.MakeMultidimensionalRasterLayer(in_multidimensional_raster=out_nc, \n",
    "                                                           out_multidimensional_raster_layer=out_crf,\n",
    "                                                           variables=[var])\n",
    "            \n",
    "            raise # SET THE LYR ABOVE TO CRF AND SEE IF YOU CCAN SAVE THEN\n",
    "\n",
    "            # determine optimal cmap based on data type \n",
    "            if 'value' in var:\n",
    "                cmap, cutoff = 'Precipitation', 0.5\n",
    "            else:\n",
    "                cmap, cutoff = 'Temperature', 0.0\n",
    "\n",
    "            # apply a colormap\n",
    "            lyr = arc.apply_cmap(aprx=aprx, \n",
    "                                 lyr_name=out_crf,\n",
    "                                 cmap_name=cmap,\n",
    "                                 cutoff_pct=cutoff)\n",
    "            \n",
    "            # rename lyr, add to group, remove second instance\n",
    "            lyr.name = var     \n",
    "            m.addLayerToGroup(grp, lyr)\n",
    "            m.removeLayer(lyr)\n",
    "                                    \n",
    "            \n",
    "\n",
    "    except Exception as e:\n",
    "        print(e)\n",
    "        arcpy.AddMessage(e)\n",
    "        arcpy.AddWarning('Could not visualise var: {}.'.format(var))\n"
   ]
  },
  {
   "cell_type": "code",
   "execution_count": 104,
   "metadata": {},
   "outputs": [
    {
     "ename": "OSError",
     "evalue": "C:\\Users\\262272G\\Desktop\\test\\yes.lyrx",
     "output_type": "error",
     "traceback": [
      "\u001b[0;31m---------------------------------------------------------------------------\u001b[0m\n\u001b[0;31mOSError\u001b[0m                                   Traceback (most recent call last)",
      "In  \u001b[0;34m[104]\u001b[0m:\nLine \u001b[0;34m1\u001b[0m:     lyr.saveACopy(\u001b[33mr\u001b[39;49;00m\u001b[33m'\u001b[39;49;00m\u001b[33mC:\u001b[39;49;00m\u001b[33m\\\u001b[39;49;00m\u001b[33mUsers\u001b[39;49;00m\u001b[33m\\\u001b[39;49;00m\u001b[33m262272G\u001b[39;49;00m\u001b[33m\\\u001b[39;49;00m\u001b[33mDesktop\u001b[39;49;00m\u001b[33m\\\u001b[39;49;00m\u001b[33mtest\u001b[39;49;00m\u001b[33m\\\u001b[39;49;00m\u001b[33myes.lyrx\u001b[39;49;00m\u001b[33m'\u001b[39;49;00m)\n",
      "File \u001b[0;34mC:\\Program Files\\ArcGIS\\Pro\\Resources\\ArcPy\\arcpy\\_mp.py\u001b[0m, in \u001b[0;32msaveACopy\u001b[0m:\nLine \u001b[0;34m546\u001b[0m:   \u001b[34mreturn\u001b[39;49;00m convertArcObjectToPythonObject(\u001b[36mself\u001b[39;49;00m._arc_object.saveACopy(*gp_fixargs((file_name,), \u001b[34mTrue\u001b[39;49;00m)))\n",
      "\u001b[0;31mOSError\u001b[0m: C:\\Users\\262272G\\Desktop\\test\\yes.lyrx\n\u001b[0;31m---------------------------------------------------------------------------\u001b[0m"
     ]
    }
   ],
   "source": [
    "lyr.saveACopy(r'C:\\Users\\262272G\\Desktop\\test\\yes.lyrx')"
   ]
  },
  {
   "cell_type": "code",
   "execution_count": 87,
   "metadata": {},
   "outputs": [],
   "source": [
    "m.removeLayer(lyr)"
   ]
  },
  {
   "cell_type": "code",
   "execution_count": 101,
   "metadata": {},
   "outputs": [
    {
     "ename": "ExecuteError",
     "evalue": "Failed to execute. Parameters are not valid.\nERROR 000732: Input Raster: Dataset C:\\Users\\262272G\\Desktop\\test\\metrics_04112021170341\\siot_values.crf does not exist or is not supported\nFailed to execute (CopyRaster).\n",
     "output_type": "error",
     "traceback": [
      "\u001b[0;31m---------------------------------------------------------------------------\u001b[0m\n\u001b[0;31mExecuteError\u001b[0m                              Traceback (most recent call last)",
      "In  \u001b[0;34m[101]\u001b[0m:\nLine \u001b[0;34m1\u001b[0m:     arcpy.CopyRaster_management(out_crf, \u001b[33m'\u001b[39;49;00m\u001b[33min_memory/heya.crf\u001b[39;49;00m\u001b[33m'\u001b[39;49;00m)\n",
      "File \u001b[0;34mC:\\Program Files\\ArcGIS\\Pro\\Resources\\ArcPy\\arcpy\\management.py\u001b[0m, in \u001b[0;32mCopyRaster\u001b[0m:\nLine \u001b[0;34m17865\u001b[0m: \u001b[34mraise\u001b[39;49;00m e\n",
      "File \u001b[0;34mC:\\Program Files\\ArcGIS\\Pro\\Resources\\ArcPy\\arcpy\\management.py\u001b[0m, in \u001b[0;32mCopyRaster\u001b[0m:\nLine \u001b[0;34m17862\u001b[0m: retval = convertArcObjectToPythonObject(gp.CopyRaster_management(*gp_fixargs((in_raster, out_rasterdataset, config_keyword, background_value, nodata_value, onebit_to_eightbit, colormap_to_RGB, pixel_type, scale_pixel_value, RGB_to_Colormap, \u001b[36mformat\u001b[39;49;00m, transform, process_as_multidimensional, build_multidimensional_transpose), \u001b[34mTrue\u001b[39;49;00m)))\n",
      "File \u001b[0;34mC:\\Program Files\\ArcGIS\\Pro\\Resources\\ArcPy\\arcpy\\geoprocessing\\_base.py\u001b[0m, in \u001b[0;32m<lambda>\u001b[0m:\nLine \u001b[0;34m512\u001b[0m:   \u001b[34mreturn\u001b[39;49;00m \u001b[34mlambda\u001b[39;49;00m *args: val(*gp_fixargs(args, \u001b[34mTrue\u001b[39;49;00m))\n",
      "\u001b[0;31mExecuteError\u001b[0m: Failed to execute. Parameters are not valid.\nERROR 000732: Input Raster: Dataset C:\\Users\\262272G\\Desktop\\test\\metrics_04112021170341\\siot_values.crf does not exist or is not supported\nFailed to execute (CopyRaster).\n\n\u001b[0;31m---------------------------------------------------------------------------\u001b[0m"
     ]
    }
   ],
   "source": [
    "arcpy.CopyRaster_management(out_crf, 'in_memory/heya.crf')"
   ]
  },
  {
   "cell_type": "code",
   "execution_count": 21,
   "metadata": {},
   "outputs": [],
   "source": []
  },
  {
   "cell_type": "code",
   "execution_count": null,
   "metadata": {},
   "outputs": [],
   "source": []
  },
  {
   "cell_type": "code",
   "execution_count": null,
   "metadata": {},
   "outputs": [],
   "source": []
  },
  {
   "cell_type": "code",
   "execution_count": null,
   "metadata": {},
   "outputs": [],
   "source": []
  }
 ],
 "metadata": {
  "kernelspec": {
   "display_name": "ArcGISPro",
   "language": "Python",
   "name": "python3"
  },
  "language_info": {
   "file_extension": ".py",
   "name": "python",
   "version": "3"
  }
 },
 "nbformat": 4,
 "nbformat_minor": 2
}
