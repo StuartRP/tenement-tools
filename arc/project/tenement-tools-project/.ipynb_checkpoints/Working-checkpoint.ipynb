{
 "cells": [
  {
   "cell_type": "code",
   "execution_count": 2,
   "metadata": {},
   "outputs": [],
   "source": [
    "# disable future warnings\n",
    "import warnings\n",
    "warnings.simplefilter(action='ignore', category=FutureWarning)\n",
    "\n",
    "# safe imports\n",
    "import os, sys       # arcgis comes with these\n",
    "import datetime      # arcgis comes with this\n",
    "import numpy as np   # arcgis comes with this\n",
    "import pandas as pd  # arcgis comes with this\n",
    "import matplotlib.pyplot as plt\n",
    "\n",
    "# risk imports (non-native to arcgis)\n",
    "try:\n",
    "    import xarray as xr  # not in arcgis\n",
    "except:\n",
    "    arcpy.AddError('Python library Xarray is not installed.')\n",
    "    raise\n",
    "\n",
    "# import tools\n",
    "try:\n",
    "    # shared folder\n",
    "    sys.path.append(r'C:\\Users\\262272G\\Documents\\GitHub\\tenement-tools\\shared')\n",
    "    sys.path.append(r'C:\\Users\\Lewis\\Documents\\GitHub\\tenement-tools\\shared')\n",
    "    import arc, satfetcher, tools  \n",
    "\n",
    "    # module folder\n",
    "    sys.path.append(r'C:\\Users\\262272G\\Documents\\GitHub\\tenement-tools\\modules')\n",
    "    sys.path.append(r'C:\\Users\\Lewis\\Documents\\GitHub\\tenement-tools\\modules')\n",
    "    import ensemble, cog  \n",
    "\n",
    "except:\n",
    "    arcpy.AddError('Could not find tenement tools python scripts (modules, shared).')\n",
    "    raise"
   ]
  },
  {
   "cell_type": "code",
   "execution_count": 11,
   "metadata": {},
   "outputs": [],
   "source": [
    "in_sdm_nc = r\"C:\\Users\\262272G\\Desktop\\temp\\sdm_preattrs\"\n",
    "\n",
    "ds = xr.open_dataset(in_sdm_nc)\n",
    "#ds = ds.compute()\n",
    "#ds = ds.squeeze(drop=True)"
   ]
  },
  {
   "cell_type": "code",
   "execution_count": null,
   "metadata": {},
   "outputs": [],
   "source": []
  },
  {
   "cell_type": "code",
   "execution_count": null,
   "metadata": {},
   "outputs": [],
   "source": []
  },
  {
   "cell_type": "code",
   "execution_count": null,
   "metadata": {},
   "outputs": [],
   "source": []
  },
  {
   "cell_type": "code",
   "execution_count": null,
   "metadata": {},
   "outputs": [],
   "source": [
    "# try to get current map, fail if doesnt exist\n",
    "aprx = arcpy.mp.ArcGISProject('CURRENT')\n",
    "m = aprx.activeMap\n",
    "\n",
    "# select current var from crf\n",
    "out_crf = r'C:\\Users\\262272G\\Desktop\\temp\\testout.crf'\n",
    "lyr = arcpy.md.MakeMultidimensionalRasterLayer(in_multidimensional_raster=out_nc, \n",
    "                                               out_multidimensional_raster_layer=out_crf,\n",
    "                                               variables=[var])"
   ]
  },
  {
   "cell_type": "code",
   "execution_count": null,
   "metadata": {},
   "outputs": [],
   "source": []
  },
  {
   "cell_type": "code",
   "execution_count": null,
   "metadata": {},
   "outputs": [],
   "source": []
  },
  {
   "cell_type": "code",
   "execution_count": null,
   "metadata": {},
   "outputs": [],
   "source": []
  },
  {
   "cell_type": "code",
   "execution_count": 20,
   "metadata": {},
   "outputs": [],
   "source": [
    "in_add_result_to_map = True\n",
    "out_nc = r'C:\\Users\\262272G\\Desktop\\test\\pheno_novardim.nc'"
   ]
  },
  {
   "cell_type": "code",
   "execution_count": 21,
   "metadata": {},
   "outputs": [],
   "source": [
    "GRP_LYR_FILE = r\"C:\\Users\\262272G\\Documents\\GitHub\\tenement-tools\\arc\\lyr\\group_template.lyrx\""
   ]
  },
  {
   "cell_type": "code",
   "execution_count": 101,
   "metadata": {},
   "outputs": [
    {
     "name": "stdout",
     "output_type": "stream",
     "text": [
      "No active exception to reraise\n"
     ]
    }
   ],
   "source": [
    "# # # # #\n",
    "# add multi-dim raster to current map\n",
    "if in_add_result_to_map:\n",
    "\n",
    "    # notify and increment progess bar\n",
    "    arcpy.SetProgressorLabel('Adding metrics to current ArcGIS map...')\n",
    "    arcpy.SetProgressorPosition(16)\n",
    "\n",
    "    # create output folder with dt\n",
    "    dt = datetime.datetime.now().strftime(\"%d%m%Y%H%M%S\")\n",
    "    out_folder = os.path.join(os.path.dirname(out_nc), 'metrics' + '_' + dt)\n",
    "    os.makedirs(out_folder)\n",
    "    \n",
    "    try:\n",
    "        # try to get current map, fail if doesnt exist\n",
    "        aprx = arcpy.mp.ArcGISProject('CURRENT')\n",
    "        m = aprx.activeMap\n",
    "        \n",
    "        # enable auto-add to map for second\n",
    "        arcpy.env.addOutputsToMap = True\n",
    "        \n",
    "        # setup a group layer via template\n",
    "        grp_lyr = arcpy.mp.LayerFile(GRP_LYR_FILE)\n",
    "        grp = m.addLayer(grp_lyr)[0]\n",
    "        grp.name = 'metrics'\n",
    "\n",
    "        # loop each metric and export a seperate crf\n",
    "        for var in list(ds.data_vars): \n",
    "            \n",
    "            # enable auto-add to map\n",
    "            arcpy.env.addOutputsToMap = False\n",
    "\n",
    "            # create current output crf file\n",
    "            out_crf = os.path.join(out_folder, var + '.crf')\n",
    "                        \n",
    "            # select current var from crf\n",
    "            lyr = arcpy.md.MakeMultidimensionalRasterLayer(in_multidimensional_raster=out_nc, \n",
    "                                                           out_multidimensional_raster_layer=out_crf,\n",
    "                                                           variables=[var])\n",
    "            \n",
    "            # enable auto-add to map\n",
    "            arcpy.env.addOutputsToMap = False\n",
    "            \n",
    "            # save crf into memory\n",
    "            crf = arcpy.management.CopyRaster(in_raster=lyr, \n",
    "                                              out_rasterdataset=out_crf)\n",
    "            \n",
    "            m.addDataFromPath(crf) \n",
    "\n",
    "            # determine optimal cmap based on data type \n",
    "            if 'value' in var:\n",
    "                cmap, cutoff = 'Precipitation', 0.5\n",
    "            else:\n",
    "                cmap, cutoff = 'Temperature', 0.0\n",
    "                \n",
    "            raise\n",
    "\n",
    "            # apply a colormap\n",
    "            lyr = arc.apply_cmap(aprx=aprx, \n",
    "                                 lyr_name='{}.crf'.format(var),\n",
    "                                 cmap_name=cmap,\n",
    "                                 cutoff_pct=cutoff)\n",
    "            \n",
    "            \n",
    "            \n",
    "            # rename lyr, add to group, remove second instance\n",
    "            lyr.name = var     \n",
    "            m.addLayerToGroup(grp, lyr)\n",
    "            m.removeLayer(lyr)\n",
    "                                    \n",
    "            raise\n",
    "            \n",
    "\n",
    "    except Exception as e:\n",
    "        print(e)\n",
    "        arcpy.AddMessage(e)\n",
    "        arcpy.AddWarning('Could not visualise var: {}.'.format(var))\n"
   ]
  },
  {
   "cell_type": "code",
   "execution_count": 100,
   "metadata": {},
   "outputs": [
    {
     "data": {
      "text/plain": [
       "<arcpy._mp.Layer object at 0x000001824C89B288>"
      ]
     },
     "execution_count": 100,
     "metadata": {},
     "output_type": "execute_result"
    }
   ],
   "source": []
  },
  {
   "cell_type": "code",
   "execution_count": 69,
   "metadata": {},
   "outputs": [
    {
     "data": {
      "text/html": [
       "<h2>Output</h2>C:\\Users\\262272G\\Desktop\\test\\huh2.crf<h2>Messages</h2>Start Time: Thursday, 4 November 2021 9:19:34 PM<br/>Building Pyramids...<br/>Calculating Statistics...<br/>Succeeded at Thursday, 4 November 2021 9:19:34 PM (Elapsed Time: 0.24 seconds)<br/><style>.rendered_html td, .rendered_html th {text-align: left;}.rendered_html tbody {border: 1px solid black;}</style>"
      ],
      "text/plain": [
       "<Result 'C:\\\\Users\\\\262272G\\\\Desktop\\\\test\\\\huh2.crf'>"
      ]
     },
     "execution_count": 69,
     "metadata": {},
     "output_type": "execute_result"
    }
   ],
   "source": [
    "arcpy.management.CopyRaster(in_raster=lyr, out_rasterdataset=r'C:\\Users\\262272G\\Desktop\\test\\huh2.crf')"
   ]
  },
  {
   "cell_type": "code",
   "execution_count": null,
   "metadata": {},
   "outputs": [],
   "source": []
  },
  {
   "cell_type": "code",
   "execution_count": null,
   "metadata": {},
   "outputs": [],
   "source": []
  },
  {
   "cell_type": "code",
   "execution_count": 65,
   "metadata": {},
   "outputs": [
    {
     "ename": "ExecuteError",
     "evalue": "ERROR 999999: Something unexpected caused the tool to fail. Contact Esri Technical Support (http://esriurl.com/support) to Report a Bug, and refer to the error help for potential solutions or workarounds.\nFailed to execute (CopyRaster).\n",
     "output_type": "error",
     "traceback": [
      "\u001b[0;31m---------------------------------------------------------------------------\u001b[0m\n\u001b[0;31mExecuteError\u001b[0m                              Traceback (most recent call last)",
      "In  \u001b[0;34m[65]\u001b[0m:\nLine \u001b[0;34m1\u001b[0m:     arcpy.CopyRaster_management(out, \u001b[33m'\u001b[39;49;00m\u001b[33min_memory/heya.crf\u001b[39;49;00m\u001b[33m'\u001b[39;49;00m)\n",
      "File \u001b[0;34mC:\\Program Files\\ArcGIS\\Pro\\Resources\\ArcPy\\arcpy\\management.py\u001b[0m, in \u001b[0;32mCopyRaster\u001b[0m:\nLine \u001b[0;34m17865\u001b[0m: \u001b[34mraise\u001b[39;49;00m e\n",
      "File \u001b[0;34mC:\\Program Files\\ArcGIS\\Pro\\Resources\\ArcPy\\arcpy\\management.py\u001b[0m, in \u001b[0;32mCopyRaster\u001b[0m:\nLine \u001b[0;34m17862\u001b[0m: retval = convertArcObjectToPythonObject(gp.CopyRaster_management(*gp_fixargs((in_raster, out_rasterdataset, config_keyword, background_value, nodata_value, onebit_to_eightbit, colormap_to_RGB, pixel_type, scale_pixel_value, RGB_to_Colormap, \u001b[36mformat\u001b[39;49;00m, transform, process_as_multidimensional, build_multidimensional_transpose), \u001b[34mTrue\u001b[39;49;00m)))\n",
      "File \u001b[0;34mC:\\Program Files\\ArcGIS\\Pro\\Resources\\ArcPy\\arcpy\\geoprocessing\\_base.py\u001b[0m, in \u001b[0;32m<lambda>\u001b[0m:\nLine \u001b[0;34m512\u001b[0m:   \u001b[34mreturn\u001b[39;49;00m \u001b[34mlambda\u001b[39;49;00m *args: val(*gp_fixargs(args, \u001b[34mTrue\u001b[39;49;00m))\n",
      "\u001b[0;31mExecuteError\u001b[0m: ERROR 999999: Something unexpected caused the tool to fail. Contact Esri Technical Support (http://esriurl.com/support) to Report a Bug, and refer to the error help for potential solutions or workarounds.\nFailed to execute (CopyRaster).\n\n\u001b[0;31m---------------------------------------------------------------------------\u001b[0m"
     ]
    }
   ],
   "source": [
    "arcpy.CopyRaster_management(out, 'in_memory/heya.crf')"
   ]
  },
  {
   "cell_type": "code",
   "execution_count": 21,
   "metadata": {},
   "outputs": [],
   "source": []
  },
  {
   "cell_type": "code",
   "execution_count": null,
   "metadata": {},
   "outputs": [],
   "source": []
  },
  {
   "cell_type": "code",
   "execution_count": null,
   "metadata": {},
   "outputs": [],
   "source": []
  },
  {
   "cell_type": "code",
   "execution_count": null,
   "metadata": {},
   "outputs": [],
   "source": []
  }
 ],
 "metadata": {
  "kernelspec": {
   "display_name": "ArcGISPro",
   "language": "Python",
   "name": "python3"
  },
  "language_info": {
   "file_extension": ".py",
   "name": "python",
   "version": "3"
  }
 },
 "nbformat": 4,
 "nbformat_minor": 2
}
