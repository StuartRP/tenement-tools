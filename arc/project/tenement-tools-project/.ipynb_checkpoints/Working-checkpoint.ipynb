{
 "cells": [
  {
   "cell_type": "code",
   "execution_count": null,
   "metadata": {},
   "outputs": [],
   "source": []
  },
  {
   "cell_type": "code",
   "execution_count": 12,
   "metadata": {},
   "outputs": [],
   "source": [
    "def prepare_collections_list(in_platform):\n",
    "    \"\"\"\n",
    "    \"\"\"\n",
    "    \n",
    "    # checks\n",
    "    if in_platform not in ['Landsat', 'Sentinel']:\n",
    "        raise ValueError('Platform must be Landsat or Sentinel.')\n",
    "        \n",
    "    # prepare collections\n",
    "    if in_platform == 'Landsat':\n",
    "        return ['ga_ls5t_ard_3', 'ga_ls7e_ard_3', 'ga_ls8c_ard_3']\n",
    "    elif in_platform == 'Sentinel':\n",
    "        raise ValueError('Sentinel not yet implemented.')"
   ]
  },
  {
   "cell_type": "code",
   "execution_count": null,
   "metadata": {},
   "outputs": [],
   "source": []
  },
  {
   "cell_type": "code",
   "execution_count": null,
   "metadata": {},
   "outputs": [],
   "source": []
  },
  {
   "cell_type": "code",
   "execution_count": null,
   "metadata": {},
   "outputs": [],
   "source": []
  }
 ],
 "metadata": {
  "kernelspec": {
   "display_name": "ArcGISPro",
   "language": "Python",
   "name": "python3"
  },
  "language_info": {
   "file_extension": ".py",
   "name": "python",
   "version": "3"
  }
 },
 "nbformat": 4,
 "nbformat_minor": 2
}
