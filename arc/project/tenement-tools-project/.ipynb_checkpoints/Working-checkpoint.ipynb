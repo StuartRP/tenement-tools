{
 "cells": [
  {
   "cell_type": "code",
   "execution_count": 1,
   "metadata": {},
   "outputs": [],
   "source": [
    "import arcpy\n",
    "\n",
    "aprx = arcpy.mp.ArcGISProject('CURRENT')\n",
    "m = aprx.activeMap\n",
    "\n",
    "lyrs = m.listLayers()\n",
    "for lyr in lyrs:\n",
    "    \n",
    "    if lyr.getSelectionSet():\n",
    "        sel = lyr.getSelectionSet()\n",
    "        break\n",
    "        \n",
    "# obtain geoms of all selected features\n",
    "geoms = []\n",
    "with arcpy.da.SearchCursor(lyr, ['SHAPE@']) as cursor:\n",
    "    for row in enumerate(cursor):\n",
    "        geoms.append(row[0])"
   ]
  },
  {
   "cell_type": "code",
   "execution_count": null,
   "metadata": {},
   "outputs": [],
   "source": [
    "for idx, geom in enumerate(geoms):\n",
    "    if idx == 0:\n",
    "        print('hey')\n",
    "        #uni = geom\n",
    "    #else:\n",
    "        #print('hey')\n",
    "        #uni = uni.union(geom)\n",
    "    \n",
    "    #return uni"
   ]
  },
  {
   "cell_type": "code",
   "execution_count": null,
   "metadata": {},
   "outputs": [],
   "source": []
  },
  {
   "cell_type": "code",
   "execution_count": null,
   "metadata": {},
   "outputs": [],
   "source": []
  },
  {
   "cell_type": "code",
   "execution_count": 216,
   "metadata": {},
   "outputs": [],
   "source": [
    "def DissolveGeoms(geoms):    \n",
    "    cnt = 0    \n",
    "    for geom in geoms:        \n",
    "        cnt += 1        \n",
    "        if cnt == 1:            \n",
    "            diss_geom = geom        \n",
    "        else:            \n",
    "            diss_geom = diss_geom.union(geom)    \n",
    "        \n",
    "        return diss_gem"
   ]
  },
  {
   "cell_type": "code",
   "execution_count": null,
   "metadata": {},
   "outputs": [],
   "source": []
  }
 ],
 "metadata": {
  "kernelspec": {
   "display_name": "ArcGISPro",
   "language": "Python",
   "name": "python3"
  },
  "language_info": {
   "file_extension": ".py",
   "name": "python",
   "version": "3"
  }
 },
 "nbformat": 4,
 "nbformat_minor": 2
}
