{
 "cells": [
  {
   "cell_type": "code",
   "execution_count": 35,
   "metadata": {},
   "outputs": [],
   "source": [
    "import arcpy"
   ]
  },
  {
   "cell_type": "code",
   "execution_count": 44,
   "metadata": {},
   "outputs": [
    {
     "data": {
      "text/html": [
       "<h2>Output</h2>a Layer object<h2>Messages</h2>Start Time: Tuesday, 1 June 2021 5:40:18 PM<br/>Succeeded at Tuesday, 1 June 2021 5:40:18 PM (Elapsed Time: 0.05 seconds)<br/><style>.rendered_html td, .rendered_html th {text-align: left;}.rendered_html tbody {border: 1px solid black;}</style>"
      ],
      "text/plain": [
       "<Result 'like'>"
      ]
     },
     "execution_count": 44,
     "metadata": {},
     "output_type": "execute_result"
    }
   ],
   "source": [
    "arcpy.MakeNetCDFRasterLayer_md(in_netCDF_file=r\"C:\\Users\\Lewis\\Desktop\\temp\\ds_like.nc\", \n",
    "                                           variable='like', \n",
    "                                           x_dimension='x', \n",
    "                                           y_dimension='y',\n",
    "                                           out_raster_layer='like', \n",
    "                                           band_dimension='', \n",
    "                                           dimension_values='', \n",
    "                                           value_selection_method='')\n"
   ]
  },
  {
   "cell_type": "code",
   "execution_count": 46,
   "metadata": {},
   "outputs": [],
   "source": [
    "def extractAllNetCDF():\n",
    "\n",
    "    variable = \"like\"\n",
    "    x_dimension = \"x\"\n",
    "    y_dimension = \"y\"\n",
    "    band_dimension = \"\"\n",
    "    dimension = \"\"\n",
    "    valueSelectionMethod = \"BY_VALUE\"\n",
    "\n",
    "    outLoc = r'C:\\Users\\Lewis\\Desktop\\temp'\n",
    "    inNetCDF = r\"C:\\Users\\Lewis\\Desktop\\temp\\ds_like.nc\"\n",
    "\n",
    "    nc_FP = arcpy.NetCDFFileProperties(inNetCDF)\n",
    "    nc_Dim = nc_FP.getDimensions()\n",
    "\n",
    "    for dimension in nc_Dim:\n",
    "\n",
    "        top = nc_FP.getDimensionSize(dimension)\n",
    "\n",
    "        for i in range(0, top):\n",
    "\n",
    "            if dimension == \"time\":\n",
    "\n",
    "                dimension_values = nc_FP.getDimensionValue(dimension, i)\n",
    "                nowFile = str(dimension_values)\n",
    "\n",
    "                #THIS IS THE NEW CODE HERE\n",
    "                dv1 = [\"time\", dimension_value]\n",
    "                dimension_values = [dv1]\n",
    "                #END NEW CODE\n",
    "\n",
    "                arcpy.MakeNetCDFRasterLayer_md(inNetCDF, variable, x_dimension, y_dimension, nowFile, band_dimension, dimension_values, valueSelectionMethod)\n",
    "                arcpy.CopyRaster_management(nowFile, outLoc + nowFile + \".img\", \"\", \"\", \"\", \"NONE\", \"NONE\", \"\")\n",
    "                print(dimension_values, i)"
   ]
  },
  {
   "cell_type": "code",
   "execution_count": 48,
   "metadata": {},
   "outputs": [],
   "source": [
    "extractAllNetCDF()"
   ]
  },
  {
   "cell_type": "code",
   "execution_count": 33,
   "metadata": {},
   "outputs": [],
   "source": [
    "srs = arcpy.SpatialReference(3577)"
   ]
  },
  {
   "cell_type": "code",
   "execution_count": 34,
   "metadata": {},
   "outputs": [
    {
     "ename": "ExecuteError",
     "evalue": "Failed to execute. Parameters are not valid.\nERROR 000732: Input Dataset or Feature Class: Dataset C:\\Users\\Lewis\\Desktop\\New folder (2)\\like.tif does not exist or is not supported\nFailed to execute (Project).\n",
     "output_type": "error",
     "traceback": [
      "\u001b[0;31m---------------------------------------------------------------------------\u001b[0m\n\u001b[0;31mExecuteError\u001b[0m                              Traceback (most recent call last)",
      "In  \u001b[0;34m[34]\u001b[0m:\nLine \u001b[0;34m1\u001b[0m:     arcpy.Project_management(rast_like, \u001b[33mr\u001b[39;49;00m\u001b[33m'\u001b[39;49;00m\u001b[33mC:\u001b[39;49;00m\u001b[33m\\\u001b[39;49;00m\u001b[33mUsers\u001b[39;49;00m\u001b[33m\\\u001b[39;49;00m\u001b[33mLewis\u001b[39;49;00m\u001b[33m\\\u001b[39;49;00m\u001b[33mDesktop\u001b[39;49;00m\u001b[33m\\\u001b[39;49;00m\u001b[33mtemp\u001b[39;49;00m\u001b[33m\\\u001b[39;49;00m\u001b[33mlike.tif\u001b[39;49;00m\u001b[33m'\u001b[39;49;00m, srs)\n",
      "File \u001b[0;34mC:\\Program Files\\ArcGIS\\Pro\\Resources\\ArcPy\\arcpy\\management.py\u001b[0m, in \u001b[0;32mProject\u001b[0m:\nLine \u001b[0;34m12568\u001b[0m: \u001b[34mraise\u001b[39;49;00m e\n",
      "File \u001b[0;34mC:\\Program Files\\ArcGIS\\Pro\\Resources\\ArcPy\\arcpy\\management.py\u001b[0m, in \u001b[0;32mProject\u001b[0m:\nLine \u001b[0;34m12565\u001b[0m: retval = convertArcObjectToPythonObject(gp.Project_management(*gp_fixargs((in_dataset, out_dataset, out_coor_system, transform_method, in_coor_system, preserve_shape, max_deviation, vertical), \u001b[34mTrue\u001b[39;49;00m)))\n",
      "File \u001b[0;34mC:\\Program Files\\ArcGIS\\Pro\\Resources\\ArcPy\\arcpy\\geoprocessing\\_base.py\u001b[0m, in \u001b[0;32m<lambda>\u001b[0m:\nLine \u001b[0;34m512\u001b[0m:   \u001b[34mreturn\u001b[39;49;00m \u001b[34mlambda\u001b[39;49;00m *args: val(*gp_fixargs(args, \u001b[34mTrue\u001b[39;49;00m))\n",
      "\u001b[0;31mExecuteError\u001b[0m: Failed to execute. Parameters are not valid.\nERROR 000732: Input Dataset or Feature Class: Dataset C:\\Users\\Lewis\\Desktop\\New folder (2)\\like.tif does not exist or is not supported\nFailed to execute (Project).\n\n\u001b[0;31m---------------------------------------------------------------------------\u001b[0m"
     ]
    }
   ],
   "source": [
    "arcpy.Project_management(rast_like, r'C:\\Users\\Lewis\\Desktop\\temp\\like.tif', srs)"
   ]
  },
  {
   "cell_type": "code",
   "execution_count": 22,
   "metadata": {},
   "outputs": [],
   "source": [
    "aprx = arcpy.mp.ArcGISProject(\"CURRENT\")\n",
    "m = aprx.listMaps(\"Map\")[0]"
   ]
  },
  {
   "cell_type": "code",
   "execution_count": null,
   "metadata": {},
   "outputs": [],
   "source": []
  }
 ],
 "metadata": {
  "kernelspec": {
   "display_name": "ArcGISPro",
   "language": "Python",
   "name": "python3"
  },
  "language_info": {
   "file_extension": ".py",
   "name": "python",
   "version": "3"
  }
 },
 "nbformat": 4,
 "nbformat_minor": 2
}
