{
 "cells": [
  {
   "cell_type": "code",
   "execution_count": 1,
   "metadata": {},
   "outputs": [
    {
     "ename": "ModuleNotFoundError",
     "evalue": "No module named 'cog'",
     "output_type": "error",
     "traceback": [
      "\u001b[0;31m---------------------------------------------------------------------------\u001b[0m\n\u001b[0;31mModuleNotFoundError\u001b[0m                       Traceback (most recent call last)",
      "In  \u001b[0;34m[1]\u001b[0m:\nLine \u001b[0;34m13\u001b[0m:    \u001b[34mimport\u001b[39;49;00m \u001b[04m\u001b[36marc\u001b[39;49;00m, \u001b[04m\u001b[36mcog\u001b[39;49;00m, \u001b[04m\u001b[36msatfetcher\u001b[39;49;00m, \u001b[04m\u001b[36mtools\u001b[39;49;00m\n",
      "\u001b[0;31mModuleNotFoundError\u001b[0m: No module named 'cog'\n\u001b[0;31m---------------------------------------------------------------------------\u001b[0m"
     ]
    }
   ],
   "source": [
    "%load_ext autoreload\n",
    "\n",
    "import xarray as xr\n",
    "import rasterio\n",
    "import pandas as pd\n",
    "import numpy as np\n",
    "import osr\n",
    "import os\n",
    "import arcpy\n",
    "import datetime\n",
    "\n",
    "sys.path.append(r'C:\\Users\\Lewis\\Documents\\GitHub\\tenement-tools\\shared')\n",
    "import arc, satfetcher, tools\n",
    "\n",
    "sys.path.append(r'C:\\Users\\Lewis\\Documents\\GitHub\\tenement-tools\\modules')\n",
    "import gdvspectra, cog"
   ]
  },
  {
   "cell_type": "code",
   "execution_count": 21,
   "metadata": {},
   "outputs": [],
   "source": [
    "#ds_thresh = xr.open_dataset(r\"C:\\Users\\Lewis\\Desktop\\working\\thresh.nc\")"
   ]
  },
  {
   "cell_type": "code",
   "execution_count": 68,
   "metadata": {},
   "outputs": [],
   "source": [
    "arcpy.env.addOutputsToMap = False\n",
    "mdr = arcpy.CopyRaster_management(in_raster=r\"C:\\Users\\Lewis\\Desktop\\working\\thresh.nc\", \n",
    "                                  out_rasterdataset='mdr_thresh.crf')"
   ]
  },
  {
   "cell_type": "code",
   "execution_count": 69,
   "metadata": {},
   "outputs": [],
   "source": [
    "mdr_filter = arcpy.sa.MajorityFilter(mdr, \"FOUR\", \"MAJORITY\")\n",
    "mdr_filter.save('in_memory/mdr_thresh_filter.crf')"
   ]
  },
  {
   "cell_type": "code",
   "execution_count": 70,
   "metadata": {},
   "outputs": [],
   "source": [
    "mdr_filter_binary = arcpy.sa.Con(mdr_filter, 1, None, \"Value = 1\")\n",
    "mdr_filter_binary.save('in_memory/mdr_thresh_filter_binary.crf')"
   ]
  },
  {
   "cell_type": "code",
   "execution_count": 71,
   "metadata": {},
   "outputs": [],
   "source": [
    "mdr_filter = arcpy.CopyRaster_management(in_raster='in_memory/mdr_thresh_filter_binary.crf', \n",
    "                                  out_rasterdataset='mdr_thresh_filter.crf')"
   ]
  },
  {
   "cell_type": "code",
   "execution_count": 72,
   "metadata": {},
   "outputs": [
    {
     "data": {
      "text/plain": [
       "<arcpy._mp.Layer object at 0x000001EE9F5FFF08>"
      ]
     },
     "execution_count": 72,
     "metadata": {},
     "output_type": "execute_result"
    }
   ],
   "source": [
    "# todo make this safe\n",
    "aprx = arcpy.mp.ArcGISProject('CURRENT')\n",
    "m = aprx.activeMap\n",
    "m.addDataFromPath(mdr_filter) "
   ]
  },
  {
   "cell_type": "code",
   "execution_count": 89,
   "metadata": {},
   "outputs": [],
   "source": [
    "# apply cmap\n",
    "arcpy.env.addOutputsToMap = True\n",
    "lyr = arc.apply_cmap(aprx=aprx, \n",
    "                     #lyr_name='mdr_thresh.crf', \n",
    "                     lyr_name='mdr_thresh_filter.crf', \n",
    "                     cmap_name='Set 2 (3 Classes)', \n",
    "                     cutoff_pct=0.01)\n",
    "\n",
    "# set alpha\n",
    "lyr.transparency = 25"
   ]
  },
  {
   "cell_type": "code",
   "execution_count": 86,
   "metadata": {},
   "outputs": [],
   "source": []
  }
 ],
 "metadata": {
  "kernelspec": {
   "display_name": "ArcGISPro",
   "language": "Python",
   "name": "python3"
  },
  "language_info": {
   "file_extension": ".py",
   "name": "python",
   "version": "3"
  }
 },
 "nbformat": 4,
 "nbformat_minor": 2
}
