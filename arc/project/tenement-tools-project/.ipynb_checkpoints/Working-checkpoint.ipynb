{
 "cells": [
  {
   "cell_type": "code",
   "execution_count": 1,
   "metadata": {},
   "outputs": [],
   "source": [
    "%load_ext autoreload"
   ]
  },
  {
   "cell_type": "code",
   "execution_count": 2,
   "metadata": {},
   "outputs": [],
   "source": [
    "%autoreload"
   ]
  },
  {
   "cell_type": "code",
   "execution_count": 3,
   "metadata": {},
   "outputs": [],
   "source": [
    "import xarray as xr\n",
    "import rasterio\n",
    "import osr\n",
    "import arcpy"
   ]
  },
  {
   "cell_type": "code",
   "execution_count": 7,
   "metadata": {},
   "outputs": [],
   "source": [
    "ds = xr.open_dataset(r\"C:\\Users\\Lewis\\Desktop\\stac-f7bbc2d21a1f66550458c7c09616e602.nc\")"
   ]
  },
  {
   "cell_type": "code",
   "execution_count": 53,
   "metadata": {},
   "outputs": [],
   "source": [
    "arcpy.env.addOutputsToMap = False\n",
    "\n",
    "# load netcdf and mdr\n",
    "mdr = arcpy.Raster(r\"C:\\Users\\Lewis\\Desktop\\stac-f7bbc2d21a1f66550458c7c09616e602.nc\", True)\n",
    "\n",
    "# check if multidim\n",
    "is_multidim = mdr.isMultidimensional\n",
    "\n",
    "# get mdim info\n",
    "mdr_info = mdr.mdinfo\n",
    "\n",
    "# get variable names\n",
    "mdr_vars = mdr.variables\n",
    "\n",
    "# get times\n",
    "#mdr_times = mdr.getDimensionValues('x' 'time')\n",
    "\n",
    "# export as mdr\n",
    "#mdr.save(\"in_memory/out4.crf\")\n",
    "mdr.save(r\"C:\\Users\\Lewis\\Desktop\\yesy\\out5.crf\")\n",
    "\n",
    "#mdr_out = arcpy.md.MakeMultidimensionalRasterLayer(\n",
    "    #in_multidimensional_raster = r\"C:\\Users\\Lewis\\Desktop\\stac-f7bbc2d21a1f66550458c7c09616e602.nc\",\n",
    "    #out_multidimensional_raster_layer=r\"C:\\Users\\Lewis\\Desktop\\yesy\\stacer.crf\",\n",
    "    #variables=[\"nbart_red\", \"nbart_green\", \"nbart_blue\"])"
   ]
  },
  {
   "cell_type": "code",
   "execution_count": 56,
   "metadata": {},
   "outputs": [],
   "source": [
    "tif_layer = arcpy.CopyRaster_management(in_raster=r\"C:\\Users\\Lewis\\Desktop\\stac-f7bbc2d21a1f66550458c7c09616e602.nc\", \n",
    "                                        out_rasterdataset=r\"out6.crf\")"
   ]
  },
  {
   "cell_type": "code",
   "execution_count": null,
   "metadata": {},
   "outputs": [],
   "source": []
  },
  {
   "cell_type": "code",
   "execution_count": 1,
   "metadata": {},
   "outputs": [],
   "source": [
    "aprx = arcpy.mp.ArcGISProject('CURRENT')   \n",
    "m = aprx.activeMap\n",
    "\n",
    "\n",
    "#m.addDataFromPath(mdr)\n",
    "\n",
    "\n",
    "#m.addDataFromPath(\"in_memory/out.crf\")"
   ]
  },
  {
   "cell_type": "code",
   "execution_count": 24,
   "metadata": {},
   "outputs": [
    {
     "data": {
      "text/html": [
       "<h2>Output</h2>a Layer object<h2>Messages</h2>Start Time: Sunday, 18 July 2021 9:58:52 PM<br/>Succeeded at Sunday, 18 July 2021 9:58:52 PM (Elapsed Time: 0.16 seconds)<br/><style>.rendered_html td, .rendered_html th {text-align: left;}.rendered_html tbody {border: 1px solid black;}</style>"
      ],
      "text/plain": [
       "<Result 'C:\\\\Users\\\\Lewis\\\\Desktop\\\\yesy\\\\stac.crf'>"
      ]
     },
     "execution_count": 24,
     "metadata": {},
     "output_type": "execute_result"
    }
   ],
   "source": [
    "mdr = arcpy.md.MakeMultidimensionalRasterLayer(\n",
    "    in_multidimensional_raster = r\"C:\\Users\\Lewis\\Desktop\\stac-f7bbc2d21a1f66550458c7c09616e602.nc\",\n",
    "    out_multidimensional_raster_layer=r\"C:\\Users\\Lewis\\Desktop\\yesy\\stac.crf\",\n",
    "    variables=[\"nbart_red\", \"nbart_green\", \"nbart_blue\"])"
   ]
  },
  {
   "cell_type": "code",
   "execution_count": 78,
   "metadata": {},
   "outputs": [],
   "source": [
    "aprx = arcpy.mp.ArcGISProject('CURRENT')   \n",
    "m = aprx.activeMap\n",
    "\n",
    "lyr = m.listLayers('mdr.crf')[0]\n",
    "\n",
    "sym = lyr.symbology\n",
    "cmap = aprx.listColorRamps('Precipitation')[0]\n",
    "\n",
    "sym.colorizer.stretchType = 'PercentClip'\n",
    "sym.colorizer.colorRamp = cmap\n",
    "sym.colorizer.minPercent = 0.5\n",
    "sym.colorizer.maxPercent = 0.5\n",
    "\n",
    "lyr.symbology = sym"
   ]
  },
  {
   "cell_type": "code",
   "execution_count": null,
   "metadata": {},
   "outputs": [],
   "source": [
    "def apply_esri_cmap(aprx, lyr_name, cmap_name='Precipitation', cutoff_pct=0.5):\n",
    "    \"\"\"\n",
    "    helper func that takes an arcmap project, finds lyr in\n",
    "    active map, and applies specific colormap to lyr.\n",
    "    \"\"\"\n",
    "    \n",
    "    # check aprx\n",
    "    \n",
    "    # get cmap if exists, precipitation if not\n",
    "    try:\n",
    "        cmap = aprx.listColorRamps(cmap_name)[0]\n",
    "    except:\n",
    "        print('Requested cmap does not exist. Using default.)\n",
    "        cmap = aprx.listColorRamps('Precipitation')[0]\n",
    "        \n",
    "    # get active map\n",
    "    m = aprx.activeMap\n",
    "    \n",
    "    # check if map found\n",
    "    # todo\n",
    "    \n",
    "    # get requested lyr\n",
    "    lyr = m.listLayers(lyr_name)\n",
    "    if len(lyr) != 1:\n",
    "        raise ValueError('Requested layer not found.')\n",
    "    elif not lyr.isRasterLayer:\n",
    "        raise TypeError('Requested layer is not a raster type.')\n",
    "        \n",
    "    # prepare lyr and symbology objects\n",
    "    lyr = lyr[0]\n",
    "    sym = lyr.symbology\n",
    "    \n",
    "    # set symbology parameters\n",
    "    sym.colorizer.stretchType = 'PercentClip'\n",
    "    sym.colorizer.colorRamp = cmap\n",
    "    sym.colorizer.minPercent = cutoff_pct\n",
    "    sym.colorizer.maxPercent = cutoff_pct   \n",
    "    \n",
    "    # set symbology of requested layer\n",
    "    lyr.symbology = sym\n",
    "              \n",
    "    return lyr"
   ]
  },
  {
   "cell_type": "code",
   "execution_count": 81,
   "metadata": {},
   "outputs": [
    {
     "data": {
      "text/plain": [
       "[]"
      ]
     },
     "execution_count": 81,
     "metadata": {},
     "output_type": "execute_result"
    }
   ],
   "source": [
    "lyr = m.listLayers('mdr1.crf')\n",
    "lyr"
   ]
  },
  {
   "cell_type": "code",
   "execution_count": 90,
   "metadata": {},
   "outputs": [],
   "source": [
    "lyr = m.listLayers('mdr.crf')[0]"
   ]
  },
  {
   "cell_type": "code",
   "execution_count": null,
   "metadata": {},
   "outputs": [],
   "source": []
  }
 ],
 "metadata": {
  "kernelspec": {
   "display_name": "ArcGISPro",
   "language": "Python",
   "name": "python3"
  },
  "language_info": {
   "file_extension": ".py",
   "name": "python",
   "version": "3"
  }
 },
 "nbformat": 4,
 "nbformat_minor": 2
}
