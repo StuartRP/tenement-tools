{
 "cells": [
  {
   "cell_type": "code",
   "execution_count": 3,
   "metadata": {},
   "outputs": [],
   "source": [
    "# imports\n",
    "import xarray as xr"
   ]
  },
  {
   "cell_type": "code",
   "execution_count": 2,
   "metadata": {},
   "outputs": [
    {
     "ename": "NameError",
     "evalue": "name 'xr' is not defined",
     "output_type": "error",
     "traceback": [
      "\u001b[0;31m---------------------------------------------------------------------------\u001b[0m\n\u001b[0;31mNameError\u001b[0m                                 Traceback (most recent call last)",
      "In  \u001b[0;34m[2]\u001b[0m:\nLine \u001b[0;34m2\u001b[0m:     ds = xr.open_dataset(\u001b[33mr\u001b[39;49;00m\u001b[33m'\u001b[39;49;00m\u001b[33mC:\u001b[39;49;00m\u001b[33m\\\u001b[39;49;00m\u001b[33mUsers\u001b[39;49;00m\u001b[33m\\\u001b[39;49;00m\u001b[33mLewis\u001b[39;49;00m\u001b[33m\\\u001b[39;49;00m\u001b[33mCurtin\u001b[39;49;00m\u001b[33m\\\u001b[39;49;00m\u001b[33mGDVII - General\u001b[39;49;00m\u001b[33m\\\u001b[39;49;00m\u001b[33mWork Package 2\u001b[39;49;00m\u001b[33m\\\u001b[39;49;00m\u001b[33mData\u001b[39;49;00m\u001b[33m\\\u001b[39;49;00m\u001b[33mYandi\u001b[39;49;00m\u001b[33m\\\u001b[39;49;00m\u001b[33myandi_90_2020_2W_landsat.nc\u001b[39;49;00m\u001b[33m'\u001b[39;49;00m)\n",
      "\u001b[0;31mNameError\u001b[0m: name 'xr' is not defined\n\u001b[0;31m---------------------------------------------------------------------------\u001b[0m"
     ]
    }
   ],
   "source": [
    "# load working netcdf\n",
    "ds = xr.open_dataset(r'C:\\Users\\Lewis\\Curtin\\GDVII - General\\Work Package 2\\Data\\Yandi\\yandi_90_2020_2W_landsat.nc')\n"
   ]
  },
  {
   "cell_type": "code",
   "execution_count": null,
   "metadata": {},
   "outputs": [],
   "source": []
  }
 ],
 "metadata": {
  "kernelspec": {
   "display_name": "ArcGISPro",
   "language": "Python",
   "name": "python3"
  },
  "language_info": {
   "file_extension": ".py",
   "name": "python",
   "version": "3"
  }
 },
 "nbformat": 4,
 "nbformat_minor": 2
}
