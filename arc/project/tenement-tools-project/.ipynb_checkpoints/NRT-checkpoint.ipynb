{
 "cells": [
  {
   "cell_type": "code",
   "execution_count": 7,
   "metadata": {},
   "outputs": [],
   "source": [
    "import os\n",
    "import shutil\n",
    "import datetime\n",
    "import arcpy"
   ]
  },
  {
   "cell_type": "code",
   "execution_count": 41,
   "metadata": {},
   "outputs": [
    {
     "data": {
      "text/plain": [
       "<module 'toolbox'>"
      ]
     },
     "execution_count": 41,
     "metadata": {},
     "output_type": "execute_result"
    }
   ],
   "source": [
    "tbx = r\"C:\\Users\\Lewis\\Documents\\GitHub\\tenement-tools\\arc\\toolbox\\tenement-tools-toolbox.pyt\"\n",
    "arcpy.ImportToolbox(tbx)"
   ]
  },
  {
   "cell_type": "code",
   "execution_count": 8,
   "metadata": {},
   "outputs": [],
   "source": [
    "# need button to create shapefile with relevent attributes\n",
    "# set a folder\n",
    "# create a shapefile of polygons\n",
    "# need a id field, out netcdf, platform, start/end monitor date, other"
   ]
  },
  {
   "cell_type": "code",
   "execution_count": null,
   "metadata": {},
   "outputs": [],
   "source": []
  },
  {
   "cell_type": "code",
   "execution_count": 44,
   "metadata": {},
   "outputs": [
    {
     "name": "stdout",
     "output_type": "stream",
     "text": [
      "Creating new monitoring project database...\n",
      "Generating database feature class...\n",
      "Generating database domains...\n",
      "Generating database fields...\n",
      "Creating NetCDF data folder...\n",
      "Adding data to current map...\n",
      "Created new monitoring project database successfully.\n"
     ]
    },
    {
     "data": {
      "text/html": [
       "<h2>Output</h2><h2>Messages</h2>Start Time: Tuesday, 30 November 2021 10:59:13 PM<br/>C:\\Users\\Lewis\\Desktop\\nrt_projects<br/>ophthalmia_monitoring10<br/>Beginning NRT Create Project.<br/>Created new NRT Project.<br/>Succeeded at Tuesday, 30 November 2021 10:59:15 PM (Elapsed Time: 2.59 seconds)<br/><style>.rendered_html td, .rendered_html th {text-align: left;}.rendered_html tbody {border: 1px solid black;}</style>"
      ],
      "text/plain": [
       "<Result ''>"
      ]
     },
     "execution_count": 44,
     "metadata": {},
     "output_type": "execute_result"
    }
   ],
   "source": [
    "out_folder = r'C:\\Users\\Lewis\\Desktop\\nrt_projects'\n",
    "out_filename = 'ophthalmia_monitoring10'\n",
    "\n",
    "# create a new nrt project\n",
    "arcpy.NRT_Create_Project_toolbox(out_folder, out_filename)"
   ]
  },
  {
   "cell_type": "code",
   "execution_count": 30,
   "metadata": {},
   "outputs": [
    {
     "data": {
      "text/plain": [
       "'nc_bf1a1276'"
      ]
     },
     "execution_count": 30,
     "metadata": {},
     "output_type": "execute_result"
    }
   ],
   "source": [
    "import uuid\n",
    "\n"
   ]
  },
  {
   "cell_type": "code",
   "execution_count": 1,
   "metadata": {},
   "outputs": [],
   "source": []
  },
  {
   "cell_type": "code",
   "execution_count": null,
   "metadata": {},
   "outputs": [],
   "source": []
  },
  {
   "cell_type": "code",
   "execution_count": null,
   "metadata": {},
   "outputs": [],
   "source": [
    "# get input shapefile file, get dir and filename\n",
    "    out_path = os.path.dirname(out_shp)\n",
    "    out_name = os.path.basename(out_shp)\n",
    "\n",
    "    # create folder to store future nc files\n",
    "    nc_path = os.path.join(out_path, 'nc_data')\n",
    "\n",
    "    # notify\n",
    "    print('Creating new monitoring shapefile.')\n",
    "\n",
    "    # create new shapefile in folder for wgs84\n",
    "    srs = arcpy.SpatialReference(4326)\n",
    "    arcpy.CreateFeatureclass_management(out_path=out_path, \n",
    "                                        out_name=out_name,\n",
    "                                        geometry_type='POLYGON',\n",
    "                                        spatial_reference=srs)\n",
    "\n",
    "    # add new fields\n",
    "    arcpy.AddField_management(out_shp, 'AreaID', 'LONG')\n",
    "    arcpy.AddField_management(out_shp, 'NetCDF', 'TEXT')\n",
    "    arcpy.AddField_management(out_shp, 'Platform', 'TEXT')\n",
    "    arcpy.AddField_management(out_shp, 'VegIdx', 'TEXT')\n",
    "    arcpy.AddField_management(out_shp, 'YrStart', 'LONG')\n",
    "    arcpy.AddField_management(out_shp, 'YrEnd', 'LONG')\n",
    "\n",
    "    # if nc path already exists, drop it\n",
    "    if os.path.exists(nc_path):\n",
    "        try:\n",
    "            shutil.rmtree(nc_path)\n",
    "        except:\n",
    "            raise ValueError('Could not delete {}'.format(nc_path))\n",
    "\n",
    "    # create new folder\n",
    "    os.makedirs(nc_path)\n",
    "    \n",
    "    # notifty\n",
    "    print('Created new NRT project and shapefile successfully.')\n",
    "    \n",
    "    \n",
    "# create new nrt project folder and shapefile\n",
    "out_shp = r'C:\\Users\\262272G\\Desktop\\tester\\royhill_monitor.shp'\n",
    "#create_new_nrt_project(out_shp)"
   ]
  }
 ],
 "metadata": {
  "kernelspec": {
   "display_name": "ArcGISPro",
   "language": "Python",
   "name": "python3"
  },
  "language_info": {
   "file_extension": ".py",
   "name": "python",
   "version": "3"
  }
 },
 "nbformat": 4,
 "nbformat_minor": 2
}
