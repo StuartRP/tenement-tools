{
 "cells": [
  {
   "cell_type": "code",
   "execution_count": 21,
   "metadata": {},
   "outputs": [],
   "source": [
    "# meta, checks\n",
    "def get_selected_layer_extent(lyr):\n",
    "    \"\"\"\n",
    "    \"\"\"\n",
    "    \n",
    "    # get layer description\n",
    "    desc = arcpy.Describe(lyr)\n",
    "    \n",
    "    # check if polygon\n",
    "    if not desc.shapeType == 'Polygon':\n",
    "        raise TypeError('Shapefile is not a polygon type.')\n",
    "            \n",
    "    # check for coordinate system\n",
    "    if not desc.hasSpatialIndex:\n",
    "        raise ValueError('Shapefile does not have a coordinate system.')\n",
    "           \n",
    "    # union all selected geometries into one\n",
    "    uni = None\n",
    "    with arcpy.da.SearchCursor(lyr, ['SHAPE@']) as cursor:\n",
    "        for idx, row in enumerate(cursor):\n",
    "            geom = row[0]\n",
    "            if idx == 0:\n",
    "                uni = geom\n",
    "            else:\n",
    "                uni = uni.union(geom)\n",
    "\n",
    "    # check if user selected a feat\n",
    "    if uni is None:\n",
    "        raise ValueError('No feature was selected.')\n",
    "        \n",
    "    # extract extent\n",
    "    ext = uni.extent\n",
    "        \n",
    "    # project extent to wgs84\n",
    "    srs = arcpy.SpatialReference(4326)\n",
    "    ext_prj = ext.projectAs(srs)\n",
    "    \n",
    "    # return bbox coords\n",
    "    return [ext_prj.XMin, ext_prj.YMin, ext_prj.XMax, ext_prj.YMax]"
   ]
  },
  {
   "cell_type": "code",
   "execution_count": 22,
   "metadata": {},
   "outputs": [
    {
     "data": {
      "text/plain": [
       "[118.95108721140855, -22.957609450676273, 119.3646780165559, -22.66467775866431]"
      ]
     },
     "execution_count": 22,
     "metadata": {},
     "output_type": "execute_result"
    }
   ],
   "source": [
    "get_selected_layer_extent(lyr)"
   ]
  },
  {
   "cell_type": "code",
   "execution_count": 15,
   "metadata": {},
   "outputs": [
    {
     "data": {
      "text/plain": [
       "<arcpy._mp.Layer object at 0x00000238E79FDA48>"
      ]
     },
     "execution_count": 15,
     "metadata": {},
     "output_type": "execute_result"
    }
   ],
   "source": [
    "arcpy.Project(lyr)"
   ]
  },
  {
   "cell_type": "code",
   "execution_count": 14,
   "metadata": {},
   "outputs": [
    {
     "data": {
      "text/plain": [
       "'Polygon'"
      ]
     },
     "execution_count": 14,
     "metadata": {},
     "output_type": "execute_result"
    }
   ],
   "source": [
    "\n",
    "desc.has\n"
   ]
  },
  {
   "cell_type": "code",
   "execution_count": 146,
   "metadata": {},
   "outputs": [
    {
     "data": {
      "text/plain": [
       "[118.95108721140855, -22.957609450676273, 119.3646780165559, -22.66467775866431]"
      ]
     },
     "execution_count": 146,
     "metadata": {},
     "output_type": "execute_result"
    }
   ],
   "source": [
    "desc = arcpy.Describe(lyr)\n",
    "ext = desc.extent\n",
    "bbox = [ext.XMin, ext.YMin, ext.XMax, ext.YMax]\n",
    "bbox"
   ]
  },
  {
   "cell_type": "code",
   "execution_count": 148,
   "metadata": {},
   "outputs": [
    {
     "data": {
      "text/plain": [
       "[118.95108721140855, -22.957609450676273, 119.3646780165559, -22.66467775866431]"
      ]
     },
     "execution_count": 148,
     "metadata": {},
     "output_type": "execute_result"
    }
   ],
   "source": [
    "desc = arcpy.Describe(lyr)\n",
    "ext = desc.extent\n",
    "bbox = [ext.XMin, ext.YMin, ext.XMax, ext.YMax]\n",
    "bbox"
   ]
  },
  {
   "cell_type": "code",
   "execution_count": null,
   "metadata": {},
   "outputs": [],
   "source": []
  }
 ],
 "metadata": {
  "kernelspec": {
   "display_name": "ArcGISPro",
   "language": "Python",
   "name": "python3"
  },
  "language_info": {
   "file_extension": ".py",
   "name": "python",
   "version": "3"
  }
 },
 "nbformat": 4,
 "nbformat_minor": 2
}
