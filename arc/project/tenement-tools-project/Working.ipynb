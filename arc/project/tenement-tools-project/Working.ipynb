{
 "cells": [
  {
   "cell_type": "code",
   "execution_count": 10,
   "metadata": {},
   "outputs": [],
   "source": [
    "# disable future warnings\n",
    "import warnings\n",
    "warnings.simplefilter(action='ignore', category=FutureWarning)\n",
    "\n",
    "# safe imports\n",
    "import os, sys       # arcgis comes with these\n",
    "import datetime      # arcgis comes with this\n",
    "import numpy as np   # arcgis comes with this\n",
    "import pandas as pd  # arcgis comes with this\n",
    "import matplotlib.pyplot as plt\n",
    "\n",
    "# risk imports (non-native to arcgis)\n",
    "try:\n",
    "    import xarray as xr  # not in arcgis\n",
    "except:\n",
    "    arcpy.AddError('Python library Xarray is not installed.')\n",
    "    raise\n",
    "\n",
    "# import tools\n",
    "try:\n",
    "    # shared folder\n",
    "    sys.path.append(r'C:\\Users\\262272G\\Documents\\GitHub\\tenement-tools\\shared')\n",
    "    sys.path.append(r'C:\\Users\\Lewis\\Documents\\GitHub\\tenement-tools\\shared')\n",
    "    import arc, satfetcher, tools  \n",
    "\n",
    "    # module folder\n",
    "    sys.path.append(r'C:\\Users\\262272G\\Documents\\GitHub\\tenement-tools\\modules')\n",
    "    sys.path.append(r'C:\\Users\\Lewis\\Documents\\GitHub\\tenement-tools\\modules')\n",
    "    import ensemble, cog  \n",
    "\n",
    "except:\n",
    "    arcpy.AddError('Could not find tenement tools python scripts (modules, shared).')\n",
    "    raise"
   ]
  },
  {
   "cell_type": "code",
   "execution_count": 19,
   "metadata": {},
   "outputs": [],
   "source": [
    "out_nc = r\"C:\\Users\\262272G\\Desktop\\test\\cva5.nc\"\n",
    "ds = xr.open_dataset(out_nc)\n",
    "ds = ds.compute()\n",
    "\n",
    "ds = ds.drop(['angle_all', 'magnitude_all'])"
   ]
  },
  {
   "cell_type": "code",
   "execution_count": 18,
   "metadata": {},
   "outputs": [],
   "source": []
  },
  {
   "cell_type": "code",
   "execution_count": 21,
   "metadata": {},
   "outputs": [],
   "source": [
    "# for current project, open current map\n",
    "aprx = arcpy.mp.ArcGISProject('CURRENT')\n",
    "m = aprx.activeMap\n",
    "\n",
    "# create output folder using datetime as name\n",
    "dt = datetime.datetime.now().strftime('%d%m%Y%H%M%S')\n",
    "out_folder = os.path.join(os.path.dirname(out_nc), 'cva' + '_' + dt)\n",
    "os.makedirs(out_folder)                \n",
    "\n",
    "# disable visualise on map temporarily\n",
    "arcpy.env.addOutputsToMap = False\n",
    "\n",
    "# create crf filename and copy it\n",
    "out_file = os.path.join(out_folder, 'cva.crf')\n",
    "crf = arcpy.CopyRaster_management(in_raster=out_nc, \n",
    "                                  out_rasterdataset=out_file)\n",
    "\n",
    "# add to map                  \n",
    "m.addDataFromPath(crf) \n",
    "\n",
    "# re-enable add to map\n",
    "arcpy.env.addOutputsToMap = True\n",
    "\n",
    "# tailor cmap depending on method and parameters\n",
    "#if in_trend_method == 'Mann-Kendall':\n",
    "    #if mk_dir == 'both':\n",
    "        #cmap = 'Red-Blue (Continuous)'\n",
    "    #elif mk_dir == 'inc':\n",
    "        #cmap = 'Yellow-Green-Blue (Continuous)'\n",
    "    #else:\n",
    "        #cmap = 'Yellow-Orange-Red (Continuous)'   \n",
    "#else:\n",
    "    #cmap = 'Red-Blue (Continuous)'\n",
    "\n",
    "# apply cmap\n",
    "#lyr = arc.apply_cmap(aprx=aprx, \n",
    "                     #lyr_name='trend.crf', \n",
    "                     #cmap_name=cmap, \n",
    "                     #cutoff_pct=0.0001) \n",
    "\n",
    "# invert if mk dec\n",
    "#if in_trend_method == 'Mann-Kendall' and mk_dir == 'dec':\n",
    "    #lyr.invertColorRamp = True"
   ]
  },
  {
   "cell_type": "code",
   "execution_count": null,
   "metadata": {},
   "outputs": [],
   "source": []
  },
  {
   "cell_type": "code",
   "execution_count": null,
   "metadata": {},
   "outputs": [],
   "source": []
  },
  {
   "cell_type": "code",
   "execution_count": null,
   "metadata": {},
   "outputs": [],
   "source": []
  }
 ],
 "metadata": {
  "kernelspec": {
   "display_name": "ArcGISPro",
   "language": "Python",
   "name": "python3"
  },
  "language_info": {
   "file_extension": ".py",
   "name": "python",
   "version": "3"
  }
 },
 "nbformat": 4,
 "nbformat_minor": 2
}
