{
 "cells": [
  {
   "cell_type": "code",
   "execution_count": 1,
   "metadata": {},
   "outputs": [],
   "source": [
    "import xarray as xr\n",
    "import rasterio"
   ]
  },
  {
   "cell_type": "code",
   "execution_count": 3,
   "metadata": {},
   "outputs": [],
   "source": [
    "ds = xr.open_dataset(r\"C:\\Users\\Lewis\\Desktop\\stac-6cd53a2cb53a323c4bbd061f6313b880.nc\")"
   ]
  },
  {
   "cell_type": "code",
   "execution_count": 6,
   "metadata": {},
   "outputs": [
    {
     "ename": "AttributeError",
     "evalue": "'Dataset' object has no attribute 'geobox'",
     "output_type": "error",
     "traceback": [
      "\u001b[0;31m---------------------------------------------------------------------------\u001b[0m\n\u001b[0;31mAttributeError\u001b[0m                            Traceback (most recent call last)",
      "In  \u001b[0;34m[6]\u001b[0m:\nLine \u001b[0;34m1\u001b[0m:     ds.geobox\n",
      "File \u001b[0;34mC:\\Program Files\\ArcGIS\\Pro\\bin\\Python\\envs\\arcgispro-py3-dev-tool\\Lib\\site-packages\\xarray\\core\\common.py\u001b[0m, in \u001b[0;32m__getattr__\u001b[0m:\nLine \u001b[0;34m240\u001b[0m:   \u001b[33m\"\u001b[39;49;00m\u001b[33m{!r}\u001b[39;49;00m\u001b[33m object has no attribute \u001b[39;49;00m\u001b[33m{!r}\u001b[39;49;00m\u001b[33m\"\u001b[39;49;00m.format(\u001b[36mtype\u001b[39;49;00m(\u001b[36mself\u001b[39;49;00m).\u001b[31m__name__\u001b[39;49;00m, name)\n",
      "\u001b[0;31mAttributeError\u001b[0m: 'Dataset' object has no attribute 'geobox'\n\u001b[0;31m---------------------------------------------------------------------------\u001b[0m"
     ]
    }
   ],
   "source": [
    "ds.geobox"
   ]
  },
  {
   "cell_type": "code",
   "execution_count": null,
   "metadata": {},
   "outputs": [],
   "source": []
  },
  {
   "cell_type": "code",
   "execution_count": null,
   "metadata": {},
   "outputs": [],
   "source": []
  }
 ],
 "metadata": {
  "kernelspec": {
   "display_name": "ArcGISPro",
   "language": "Python",
   "name": "python3"
  },
  "language_info": {
   "file_extension": ".py",
   "name": "python",
   "version": "3"
  }
 },
 "nbformat": 4,
 "nbformat_minor": 2
}
