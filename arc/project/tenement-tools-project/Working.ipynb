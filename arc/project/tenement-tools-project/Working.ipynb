{
 "cells": [
  {
   "cell_type": "code",
   "execution_count": 31,
   "metadata": {},
   "outputs": [],
   "source": [
    "# disable future warnings\n",
    "import warnings\n",
    "warnings.simplefilter(action='ignore', category=FutureWarning)\n",
    "\n",
    "# safe imports\n",
    "import os, sys       # arcgis comes with these\n",
    "import datetime      # arcgis comes with this\n",
    "import numpy as np   # arcgis comes with this\n",
    "import pandas as pd  # arcgis comes with this\n",
    "import matplotlib.pyplot as plt\n",
    "\n",
    "# risk imports (non-native to arcgis)\n",
    "try:\n",
    "    import xarray as xr  # not in arcgis\n",
    "except:\n",
    "    arcpy.AddError('Python library Xarray is not installed.')\n",
    "    raise\n",
    "\n",
    "# import tools\n",
    "try:\n",
    "    # shared folder\n",
    "    sys.path.append(r'C:\\Users\\262272G\\Documents\\GitHub\\tenement-tools\\shared')\n",
    "    sys.path.append(r'C:\\Users\\Lewis\\Documents\\GitHub\\tenement-tools\\shared')\n",
    "    import arc, satfetcher, tools  \n",
    "\n",
    "    # module folder\n",
    "    sys.path.append(r'C:\\Users\\262272G\\Documents\\GitHub\\tenement-tools\\modules')\n",
    "    sys.path.append(r'C:\\Users\\Lewis\\Documents\\GitHub\\tenement-tools\\modules')\n",
    "    import ensemble, cog  \n",
    "\n",
    "except:\n",
    "    arcpy.AddError('Could not find tenement tools python scripts (modules, shared).')\n",
    "    raise"
   ]
  },
  {
   "cell_type": "code",
   "execution_count": 16,
   "metadata": {},
   "outputs": [],
   "source": [
    "# grab parameter values \n",
    "#in_lyrs = parameters[0].value      # ncs, vars, types, a, bc, d\n",
    "in_nodataval = np.nan\n",
    "in_resample_to = 'highest'\n",
    "\n",
    "# WORKING ! DELETE !\n",
    "in_lyrs = [\n",
    "    ['C:\\\\Users\\\\262272G\\\\Desktop\\\\test\\\\phenos_num.nc', 'pos_values', 'Belief', '0.054', 'N/A', '0.442'],\n",
    "    ['C:\\\\Users\\\\262272G\\\\Desktop\\\\test\\\\vegfrax.nc', 'class_1', 'Disbelief', '0.0', 'N/A', '1.0']\n",
    "]"
   ]
  },
  {
   "cell_type": "code",
   "execution_count": 17,
   "metadata": {},
   "outputs": [],
   "source": [
    "# check if at least one belief and disbelief layer, else error\n",
    "ensemble.check_belief_disbelief_exist(in_lyrs)"
   ]
  },
  {
   "cell_type": "code",
   "execution_count": 18,
   "metadata": {},
   "outputs": [],
   "source": [
    "# clean up stringified a, bc, d numerics\n",
    "in_lyrs = arc.convert_ensemble_parameters(in_lyrs)"
   ]
  },
  {
   "cell_type": "code",
   "execution_count": 19,
   "metadata": {},
   "outputs": [
    {
     "name": "stdout",
     "output_type": "stream",
     "text": [
      "Converting netcdf to an xarray dataset.\n",
      "Converted netcdf to xarray dataset: C:\\Users\\262272G\\Desktop\\test\\phenos_num.nc\n",
      "Netcdf converted to xarray dataset successfully.\n",
      "Converting netcdf to an xarray dataset.\n",
      "Converted netcdf to xarray dataset: C:\\Users\\262272G\\Desktop\\test\\vegfrax.nc\n",
      "Netcdf converted to xarray dataset successfully.\n"
     ]
    }
   ],
   "source": [
    "# prepare and load datasets\n",
    "for lyr in in_lyrs:\n",
    "    \n",
    "    # prepare dataset (load depending on type)\n",
    "    ds = ensemble.prepare_data(file_list=lyr[0],\n",
    "                               var=lyr[1],\n",
    "                               nodataval=in_nodataval)\n",
    "    \n",
    "    # append if exist, None if not\n",
    "    lyr.append(ds) if ds else lyr.append(None)"
   ]
  },
  {
   "cell_type": "code",
   "execution_count": 20,
   "metadata": {},
   "outputs": [],
   "source": [
    "# loop each input item and apply sigmoidal automatically\n",
    "in_lyrs = ensemble.apply_auto_sigmoids(items=in_lyrs)"
   ]
  },
  {
   "cell_type": "code",
   "execution_count": 21,
   "metadata": {},
   "outputs": [],
   "source": [
    "# export sigmoidals to requested output folder\n",
    "#ensemble.export_sigmoids(items=in_list, out_path=out_path) "
   ]
  },
  {
   "cell_type": "code",
   "execution_count": 22,
   "metadata": {},
   "outputs": [],
   "source": [
    "# seperate into belief, disbelief lists\n",
    "belief_list, disbelief_list = ensemble.seperate_ds_belief_disbelief(in_lyrs)"
   ]
  },
  {
   "cell_type": "code",
   "execution_count": 23,
   "metadata": {},
   "outputs": [],
   "source": [
    "# append dempster type label to belief xr datasets\n",
    "belief_list = ensemble.append_dempster_attr(ds_list=belief_list, \n",
    "                                            dempster_label='belief')\n",
    "\n",
    "# append dempster type label to disbelief xr datasets\n",
    "disbelief_list = ensemble.append_dempster_attr(ds_list=disbelief_list, \n",
    "                                               dempster_label='disbelief')"
   ]
  },
  {
   "cell_type": "code",
   "execution_count": 24,
   "metadata": {},
   "outputs": [
    {
     "name": "stdout",
     "output_type": "stream",
     "text": [
      "Resampling datasets to highest resolution.\n"
     ]
    }
   ],
   "source": [
    "# resample all datasets to lowest resolution\n",
    "ds_list = ensemble.resample_datasets(ds_list=belief_list + disbelief_list, \n",
    "                                     resample_to=in_resample_to, \n",
    "                                     resampling='nearest')"
   ]
  },
  {
   "cell_type": "code",
   "execution_count": 25,
   "metadata": {},
   "outputs": [],
   "source": [
    "# perform dempster shafer modelling\n",
    "ds_dempster = ensemble.perform_dempster(ds_list=ds_list)\n",
    "\n",
    "# compute!\n",
    "ds_dempster = ds_dempster.compute()"
   ]
  },
  {
   "cell_type": "code",
   "execution_count": 26,
   "metadata": {},
   "outputs": [],
   "source": []
  },
  {
   "cell_type": "code",
   "execution_count": null,
   "metadata": {},
   "outputs": [],
   "source": []
  },
  {
   "cell_type": "code",
   "execution_count": null,
   "metadata": {},
   "outputs": [],
   "source": []
  }
 ],
 "metadata": {
  "kernelspec": {
   "display_name": "ArcGISPro",
   "language": "Python",
   "name": "python3"
  },
  "language_info": {
   "file_extension": ".py",
   "name": "python",
   "version": "3"
  }
 },
 "nbformat": 4,
 "nbformat_minor": 2
}
