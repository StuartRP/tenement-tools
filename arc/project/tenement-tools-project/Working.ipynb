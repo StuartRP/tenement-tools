{
 "cells": [
  {
   "cell_type": "code",
   "execution_count": 46,
   "metadata": {},
   "outputs": [],
   "source": [
    "# imports\n",
    "import os, sys\n",
    "import numpy as np\n",
    "import pandas as pd\n",
    "import xarray as xr\n",
    "import matplotlib.pyplot as plt\n",
    "\n",
    "# import tools\n",
    "#sys.path.append('../../../shared') temp for demo\n",
    "sys.path.append(r'C:\\Users\\262272G\\Documents\\GitHub\\tenement-tools\\shared')\n",
    "sys.path.append(r'C:\\Users\\Lewis\\Documents\\GitHub\\tenement-tools\\shared')\n",
    "import arc, satfetcher, tools\n",
    "\n",
    "# import gdvspectra module\n",
    "#sys.path.append('../../../modules') temp for demo\n",
    "sys.path.append(r'C:\\Users\\262272G\\Documents\\GitHub\\tenement-tools\\modules')\n",
    "sys.path.append(r'C:\\Users\\Lewis\\Documents\\GitHub\\tenement-tools\\modules')\n",
    "import gdvspectra, cog\n",
    "\n",
    "# notify user\n",
    "arcpy.AddMessage('Beginning GDVSpectra Likelihood.')\n",
    "\n",
    "# load netcdf file as xr\n",
    "in_raw_nc = r'C:\\Users\\Lewis\\Desktop\\working\\yandi_13_20.nc'\n",
    "ds = satfetcher.load_local_nc(nc_path=in_raw_nc, \n",
    "                              use_dask=True, \n",
    "                              conform_nodata_to=np.nan)\n",
    "\n",
    "# remove mask\n",
    "in_max_cloud = 10\n",
    "in_fmask_flags = [1, 4, 5]\n",
    "ds = cog.remove_fmask_dates(ds=ds, \n",
    "                            valid_class=in_fmask_flags, \n",
    "                            max_invalid=in_max_cloud, \n",
    "                            mask_band='oa_fmask', \n",
    "                            nodata_value=np.nan, \n",
    "                            drop_fmask=True)  \n",
    "\n",
    "# capture attributes\n",
    "band_attrs = ds['nbart_blue'].attrs\n",
    "\n",
    "# conform bands\n",
    "in_platform = 'landsat'\n",
    "ds = satfetcher.conform_dea_ard_band_names(ds=ds, \n",
    "                                           platform=in_platform.lower())\n",
    "\n",
    "# calculate index\n",
    "ds = tools.calculate_indices(ds=ds, \n",
    "                             index=['tcg', 'tcb'], \n",
    "                             rescale=False, \n",
    "                             drop=True)\n",
    "\n",
    "# reduce all selected months into annual medians (year starts, YS)\n",
    "ds = gdvspectra.resample_to_freq_medians(ds=ds,\n",
    "                                         freq='YS',\n",
    "                                         inplace=True)\n",
    "\n",
    "# interpolate all missing pixels using full linear interpolation\n",
    "ds = gdvspectra.interp_empty(ds=ds,\n",
    "                             method='full',\n",
    "                             inplace=True)"
   ]
  },
  {
   "cell_type": "code",
   "execution_count": 12,
   "metadata": {},
   "outputs": [
    {
     "name": "stdout",
     "output_type": "stream",
     "text": [
      "Subsetting down to specified months.\n",
      "Reducing dataset into months: [9, 10, 11].\n",
      "Subset to requested months successfully.\n"
     ]
    }
   ],
   "source": [
    "# subset months\n",
    "ds = gdvspectra.subset_months(ds=ds, \n",
    "                              month=in_months,\n",
    "                              inplace=True)"
   ]
  },
  {
   "cell_type": "code",
   "execution_count": 14,
   "metadata": {},
   "outputs": [
    {
     "name": "stdout",
     "output_type": "stream",
     "text": [
      "Calculating indices: ['tcg', 'tcb'].\n",
      "Calculating index: tcg\n",
      "Calculating index: tcb\n",
      "Calculated indices successfully.\n"
     ]
    }
   ],
   "source": [
    "# calculate index\n",
    "ds = tools.calculate_indices(ds=ds, \n",
    "                             index=['tcg', 'tcb'], \n",
    "                             rescale=False, \n",
    "                             drop=True)"
   ]
  },
  {
   "cell_type": "code",
   "execution_count": 16,
   "metadata": {},
   "outputs": [],
   "source": [
    "# add band attrs back on\n",
    "ds['tcg'].attrs = band_attrs   \n",
    "ds['tcb'].attrs = band_attrs  "
   ]
  },
  {
   "cell_type": "code",
   "execution_count": 18,
   "metadata": {},
   "outputs": [],
   "source": [
    "# compute \n",
    "ds = ds.compute()"
   ]
  },
  {
   "cell_type": "code",
   "execution_count": 20,
   "metadata": {},
   "outputs": [
    {
     "name": "stdout",
     "output_type": "stream",
     "text": [
      "Resampling dataset down to annual medians.\n",
      "Resampled down to annual medians successfully.\n"
     ]
    }
   ],
   "source": [
    "# reduce all selected months into annual medians (year starts, YS)\n",
    "ds = gdvspectra.resample_to_freq_medians(ds=ds,\n",
    "                                         freq='YS',\n",
    "                                         inplace=True)"
   ]
  },
  {
   "cell_type": "code",
   "execution_count": 22,
   "metadata": {},
   "outputs": [
    {
     "name": "stdout",
     "output_type": "stream",
     "text": [
      "Interpolating empty values in dataset.\n",
      "Interpolated empty values successfully.\n"
     ]
    }
   ],
   "source": [
    "# interpolate all missing pixels using full linear interpolation\n",
    "ds = gdvspectra.interp_empty(ds=ds,\n",
    "                             method='full',\n",
    "                             inplace=True)"
   ]
  },
  {
   "cell_type": "code",
   "execution_count": 24,
   "metadata": {},
   "outputs": [
    {
     "name": "stdout",
     "output_type": "stream",
     "text": [
      "Standardising data using invariant targets.\n",
      "Calculating invariant target sites.\n",
      "Got orthogonal polynomial coefficients: [-7. -5. -3. -1.  1.  3.  5.  7.]\n",
      "Got sum of squares: 168 and constant 2: \n",
      "Created invariant target sites successfully.\n",
      "Standardising to invariant targets, rescaling via fuzzy sigmoidal.\n",
      "Standardised using invariant targets successfully.\n"
     ]
    }
   ],
   "source": [
    "# standardise to targets\n",
    "ds = gdvspectra.standardise_to_targets(ds, \n",
    "                                       q_upper=0.99, \n",
    "                                       q_lower=0.05)"
   ]
  },
  {
   "cell_type": "code",
   "execution_count": 44,
   "metadata": {},
   "outputs": [
    {
     "name": "stdout",
     "output_type": "stream",
     "text": [
      "Performing CVA.\n",
      "Doing CVA: 1.\n",
      "Doing CVA: 2.\n",
      "Doing CVA: 3.\n",
      "Doing CVA: 4.\n",
      "Doing CVA: 5.\n",
      "Performed CVA successfully.\n"
     ]
    }
   ],
   "source": [
    "# generate cva\n",
    "ds_cva = gdvspectra.perform_cva(ds=ds,\n",
    "                                base_times=(2013, 2013),\n",
    "                                comp_times=(2016, 2020),\n",
    "                                reduce_comp=False,\n",
    "                                vege_var = 'tcg',\n",
    "                                soil_var = 'tcb',\n",
    "                                tmf=0)"
   ]
  },
  {
   "cell_type": "code",
   "execution_count": 45,
   "metadata": {},
   "outputs": [],
   "source": [
    "ds_cva['angle'].attrs = band_attrs \n",
    "ds_cva['magnitude'].attrs = band_attrs \n",
    "ds_cva.to_netcdf(r'C:\\Users\\Lewis\\Desktop\\working\\cva.nc')"
   ]
  },
  {
   "cell_type": "code",
   "execution_count": null,
   "metadata": {},
   "outputs": [],
   "source": []
  }
 ],
 "metadata": {
  "kernelspec": {
   "display_name": "ArcGISPro",
   "language": "Python",
   "name": "python3"
  },
  "language_info": {
   "file_extension": ".py",
   "name": "python",
   "version": "3"
  }
 },
 "nbformat": 4,
 "nbformat_minor": 2
}
