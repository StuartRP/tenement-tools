{
 "cells": [
  {
   "cell_type": "code",
   "execution_count": 31,
   "metadata": {},
   "outputs": [
    {
     "name": "stdout",
     "output_type": "stream",
     "text": [
      "The autoreload extension is already loaded. To reload it, use:\n",
      "  %reload_ext autoreload\n"
     ]
    }
   ],
   "source": [
    "%load_ext autoreload\n",
    "\n",
    "import xarray as xr\n",
    "import rasterio\n",
    "import pandas as pd\n",
    "import numpy as np\n",
    "import osr\n",
    "import os\n",
    "import arcpy\n",
    "import datetime\n",
    "\n",
    "sys.path.append(r'C:\\Users\\Lewis\\Documents\\GitHub\\tenement-tools\\shared')\n",
    "import arc, cog, satfetcher, tools\n",
    "\n",
    "sys.path.append(r'C:\\Users\\Lewis\\Documents\\GitHub\\tenement-tools\\modules')\n",
    "import gdvspectra"
   ]
  },
  {
   "cell_type": "code",
   "execution_count": 21,
   "metadata": {},
   "outputs": [],
   "source": [
    "#ds_thresh = xr.open_dataset(r\"C:\\Users\\Lewis\\Desktop\\working\\thresh.nc\")"
   ]
  },
  {
   "cell_type": "code",
   "execution_count": 68,
   "metadata": {},
   "outputs": [],
   "source": [
    "arcpy.env.addOutputsToMap = False\n",
    "mdr = arcpy.CopyRaster_management(in_raster=r\"C:\\Users\\Lewis\\Desktop\\working\\thresh.nc\", \n",
    "                                  out_rasterdataset='mdr_thresh.crf')"
   ]
  },
  {
   "cell_type": "code",
   "execution_count": 69,
   "metadata": {},
   "outputs": [],
   "source": [
    "mdr_filter = arcpy.sa.MajorityFilter(mdr, \"FOUR\", \"MAJORITY\")\n",
    "mdr_filter.save('in_memory/mdr_thresh_filter.crf')"
   ]
  },
  {
   "cell_type": "code",
   "execution_count": 70,
   "metadata": {},
   "outputs": [],
   "source": [
    "mdr_filter_binary = arcpy.sa.Con(mdr_filter, 1, None, \"Value = 1\")\n",
    "mdr_filter_binary.save('in_memory/mdr_thresh_filter_binary.crf')"
   ]
  },
  {
   "cell_type": "code",
   "execution_count": 71,
   "metadata": {},
   "outputs": [],
   "source": [
    "mdr_filter = arcpy.CopyRaster_management(in_raster='in_memory/mdr_thresh_filter_binary.crf', \n",
    "                                  out_rasterdataset='mdr_thresh_filter.crf')"
   ]
  },
  {
   "cell_type": "code",
   "execution_count": 72,
   "metadata": {},
   "outputs": [
    {
     "data": {
      "text/plain": [
       "<arcpy._mp.Layer object at 0x000001EE9F5FFF08>"
      ]
     },
     "execution_count": 72,
     "metadata": {},
     "output_type": "execute_result"
    }
   ],
   "source": [
    "# todo make this safe\n",
    "aprx = arcpy.mp.ArcGISProject('CURRENT')\n",
    "m = aprx.activeMap\n",
    "m.addDataFromPath(mdr_filter) "
   ]
  },
  {
   "cell_type": "code",
   "execution_count": 89,
   "metadata": {},
   "outputs": [],
   "source": [
    "# apply cmap\n",
    "arcpy.env.addOutputsToMap = True\n",
    "lyr = arc.apply_cmap(aprx=aprx, \n",
    "                     #lyr_name='mdr_thresh.crf', \n",
    "                     lyr_name='mdr_thresh_filter.crf', \n",
    "                     cmap_name='Set 2 (3 Classes)', \n",
    "                     cutoff_pct=0.01)\n",
    "\n",
    "# set alpha\n",
    "lyr.transparency = 25"
   ]
  },
  {
   "cell_type": "code",
   "execution_count": 86,
   "metadata": {},
   "outputs": [],
   "source": []
  }
 ],
 "metadata": {
  "kernelspec": {
   "display_name": "ArcGISPro",
   "language": "Python",
   "name": "python3"
  },
  "language_info": {
   "file_extension": ".py",
   "name": "python",
   "version": "3"
  }
 },
 "nbformat": 4,
 "nbformat_minor": 2
}
