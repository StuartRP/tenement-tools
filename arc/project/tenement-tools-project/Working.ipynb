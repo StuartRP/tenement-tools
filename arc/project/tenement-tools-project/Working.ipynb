{
 "cells": [
  {
   "cell_type": "code",
   "execution_count": 1,
   "metadata": {},
   "outputs": [],
   "source": [
    "%load_ext autoreload"
   ]
  },
  {
   "cell_type": "code",
   "execution_count": 2,
   "metadata": {},
   "outputs": [],
   "source": [
    "%autoreload"
   ]
  },
  {
   "cell_type": "code",
   "execution_count": 3,
   "metadata": {},
   "outputs": [],
   "source": [
    "import xarray as xr\n",
    "import rasterio\n",
    "import osr\n",
    "import arcpy"
   ]
  },
  {
   "cell_type": "code",
   "execution_count": 7,
   "metadata": {},
   "outputs": [],
   "source": [
    "ds = xr.open_dataset(r\"C:\\Users\\Lewis\\Desktop\\stac-f7bbc2d21a1f66550458c7c09616e602.nc\")"
   ]
  },
  {
   "cell_type": "code",
   "execution_count": 53,
   "metadata": {},
   "outputs": [],
   "source": [
    "arcpy.env.addOutputsToMap = False\n",
    "\n",
    "# load netcdf and mdr\n",
    "mdr = arcpy.Raster(r\"C:\\Users\\Lewis\\Desktop\\stac-f7bbc2d21a1f66550458c7c09616e602.nc\", True)\n",
    "\n",
    "# check if multidim\n",
    "is_multidim = mdr.isMultidimensional\n",
    "\n",
    "# get mdim info\n",
    "mdr_info = mdr.mdinfo\n",
    "\n",
    "# get variable names\n",
    "mdr_vars = mdr.variables\n",
    "\n",
    "# get times\n",
    "#mdr_times = mdr.getDimensionValues('x' 'time')\n",
    "\n",
    "# export as mdr\n",
    "#mdr.save(\"in_memory/out4.crf\")\n",
    "mdr.save(r\"C:\\Users\\Lewis\\Desktop\\yesy\\out5.crf\")\n",
    "\n",
    "#mdr_out = arcpy.md.MakeMultidimensionalRasterLayer(\n",
    "    #in_multidimensional_raster = r\"C:\\Users\\Lewis\\Desktop\\stac-f7bbc2d21a1f66550458c7c09616e602.nc\",\n",
    "    #out_multidimensional_raster_layer=r\"C:\\Users\\Lewis\\Desktop\\yesy\\stacer.crf\",\n",
    "    #variables=[\"nbart_red\", \"nbart_green\", \"nbart_blue\"])"
   ]
  },
  {
   "cell_type": "code",
   "execution_count": 56,
   "metadata": {},
   "outputs": [],
   "source": [
    "tif_layer = arcpy.CopyRaster_management(in_raster=r\"C:\\Users\\Lewis\\Desktop\\stac-f7bbc2d21a1f66550458c7c09616e602.nc\", \n",
    "                                        out_rasterdataset=r\"out6.crf\")"
   ]
  },
  {
   "cell_type": "code",
   "execution_count": null,
   "metadata": {},
   "outputs": [],
   "source": []
  },
  {
   "cell_type": "code",
   "execution_count": 57,
   "metadata": {},
   "outputs": [
    {
     "data": {
      "text/plain": [
       "<arcpy._mp.Layer object at 0x000001F82650DD48>"
      ]
     },
     "execution_count": 57,
     "metadata": {},
     "output_type": "execute_result"
    }
   ],
   "source": [
    "aprx = arcpy.mp.ArcGISProject('CURRENT')   \n",
    "m = aprx.activeMap\n",
    "\n",
    "m.addDataFromPath(mdr)\n",
    "\n",
    "\n",
    "#m.addDataFromPath(\"in_memory/out.crf\")"
   ]
  },
  {
   "cell_type": "code",
   "execution_count": 24,
   "metadata": {},
   "outputs": [
    {
     "data": {
      "text/html": [
       "<h2>Output</h2>a Layer object<h2>Messages</h2>Start Time: Sunday, 18 July 2021 9:58:52 PM<br/>Succeeded at Sunday, 18 July 2021 9:58:52 PM (Elapsed Time: 0.16 seconds)<br/><style>.rendered_html td, .rendered_html th {text-align: left;}.rendered_html tbody {border: 1px solid black;}</style>"
      ],
      "text/plain": [
       "<Result 'C:\\\\Users\\\\Lewis\\\\Desktop\\\\yesy\\\\stac.crf'>"
      ]
     },
     "execution_count": 24,
     "metadata": {},
     "output_type": "execute_result"
    }
   ],
   "source": [
    "mdr = arcpy.md.MakeMultidimensionalRasterLayer(\n",
    "    in_multidimensional_raster = r\"C:\\Users\\Lewis\\Desktop\\stac-f7bbc2d21a1f66550458c7c09616e602.nc\",\n",
    "    out_multidimensional_raster_layer=r\"C:\\Users\\Lewis\\Desktop\\yesy\\stac.crf\",\n",
    "    variables=[\"nbart_red\", \"nbart_green\", \"nbart_blue\"])"
   ]
  }
 ],
 "metadata": {
  "kernelspec": {
   "display_name": "ArcGISPro",
   "language": "Python",
   "name": "python3"
  },
  "language_info": {
   "file_extension": ".py",
   "name": "python",
   "version": "3"
  }
 },
 "nbformat": 4,
 "nbformat_minor": 2
}
