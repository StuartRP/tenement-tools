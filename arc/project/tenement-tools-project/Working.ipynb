{
 "cells": [
  {
   "cell_type": "code",
   "execution_count": 1,
   "metadata": {},
   "outputs": [],
   "source": [
    "%load_ext autoreload\n",
    "\n",
    "import xarray as xr\n",
    "import rasterio\n",
    "import numpy as np\n",
    "import osr\n",
    "import arcpy\n",
    "\n",
    "sys.path.append(r'C:\\Users\\Lewis\\Documents\\GitHub\\tenement-tools\\modules')\n",
    "import cog, satfetcher, tools\n",
    "\n",
    "sys.path.append(r'C:\\Users\\Lewis\\Documents\\GitHub\\tenement-tools\\modules')\n",
    "import gdvspectra"
   ]
  },
  {
   "cell_type": "code",
   "execution_count": 2,
   "metadata": {},
   "outputs": [],
   "source": [
    "#ds = xr.open_dataset(r\"C:\\Users\\Lewis\\Desktop\\stac-9558e0f98ad918dbbcba681397cf91ee.nc\")"
   ]
  },
  {
   "cell_type": "code",
   "execution_count": 7,
   "metadata": {},
   "outputs": [
    {
     "name": "stdout",
     "output_type": "stream",
     "text": [
      "Converting netcdf to an xarray dataset.\n",
      "Converted netcdf to xarray dataset: C:\\Users\\Lewis\\Desktop\\stac-9558e0f98ad918dbbcba681397cf91ee.nc\n",
      "Netcdf converted to xarray dataset successfully.\n"
     ]
    }
   ],
   "source": [
    "in_nc = r\"C:\\Users\\Lewis\\Desktop\\stac-9558e0f98ad918dbbcba681397cf91ee.nc\"\n",
    "\n",
    "wet_months = [1, 2, 3]\n",
    "dry_months = [9, 10, 11]\n",
    "in_fmask_flags = [1, 4, 5]\n",
    "in_max_cloud = str(10)\n",
    "\n",
    "ds = satfetcher.load_local_nc(nc_path=in_nc, \n",
    "                              use_dask=True, \n",
    "                              conform_nodata_to=np.nan)"
   ]
  },
  {
   "cell_type": "code",
   "execution_count": 8,
   "metadata": {},
   "outputs": [
    {
     "name": "stdout",
     "output_type": "stream",
     "text": [
      "Removing dates where too many invalid pixels.\n"
     ]
    },
    {
     "ename": "TypeError",
     "evalue": "unsupported operand type(s) for /: 'str' and 'int'",
     "output_type": "error",
     "traceback": [
      "\u001b[0;31m---------------------------------------------------------------------------\u001b[0m\n\u001b[0;31mTypeError\u001b[0m                                 Traceback (most recent call last)",
      "In  \u001b[0;34m[8]\u001b[0m:\nLine \u001b[0;34m6\u001b[0m:     drop_fmask=\u001b[34mTrue\u001b[39;49;00m)  \n",
      "File \u001b[0;34mC:\\Users\\Lewis\\Documents\\GitHub\\tenement-tools\\modules\\cog.py\u001b[0m, in \u001b[0;32mremove_fmask_dates\u001b[0m:\nLine \u001b[0;34m1102\u001b[0m:  min_valid = \u001b[34m1\u001b[39;49;00m - (max_invalid / \u001b[34m100\u001b[39;49;00m)\n",
      "\u001b[0;31mTypeError\u001b[0m: unsupported operand type(s) for /: 'str' and 'int'\n\u001b[0;31m---------------------------------------------------------------------------\u001b[0m"
     ]
    }
   ],
   "source": [
    "ds = cog.remove_fmask_dates(ds=ds, \n",
    "                            valid_class=in_fmask_flags, \n",
    "                            max_invalid=in_max_cloud, \n",
    "                            mask_band='oa_fmask', \n",
    "                            nodata_value=np.nan, \n",
    "                            drop_fmask=True)  "
   ]
  },
  {
   "cell_type": "code",
   "execution_count": null,
   "metadata": {},
   "outputs": [],
   "source": []
  },
  {
   "cell_type": "code",
   "execution_count": null,
   "metadata": {},
   "outputs": [],
   "source": []
  },
  {
   "cell_type": "code",
   "execution_count": null,
   "metadata": {},
   "outputs": [],
   "source": []
  },
  {
   "cell_type": "code",
   "execution_count": null,
   "metadata": {},
   "outputs": [],
   "source": []
  },
  {
   "cell_type": "code",
   "execution_count": null,
   "metadata": {},
   "outputs": [],
   "source": []
  },
  {
   "cell_type": "code",
   "execution_count": 53,
   "metadata": {},
   "outputs": [],
   "source": [
    "arcpy.env.addOutputsToMap = False\n",
    "\n",
    "# load netcdf and mdr\n",
    "mdr = arcpy.Raster(r\"C:\\Users\\Lewis\\Desktop\\stac-f7bbc2d21a1f66550458c7c09616e602.nc\", True)\n",
    "\n",
    "# check if multidim\n",
    "is_multidim = mdr.isMultidimensional\n",
    "\n",
    "# get mdim info\n",
    "mdr_info = mdr.mdinfo\n",
    "\n",
    "# get variable names\n",
    "mdr_vars = mdr.variables\n",
    "\n",
    "# get times\n",
    "#mdr_times = mdr.getDimensionValues('x' 'time')\n",
    "\n",
    "# export as mdr\n",
    "#mdr.save(\"in_memory/out4.crf\")\n",
    "mdr.save(r\"C:\\Users\\Lewis\\Desktop\\yesy\\out5.crf\")\n",
    "\n",
    "#mdr_out = arcpy.md.MakeMultidimensionalRasterLayer(\n",
    "    #in_multidimensional_raster = r\"C:\\Users\\Lewis\\Desktop\\stac-f7bbc2d21a1f66550458c7c09616e602.nc\",\n",
    "    #out_multidimensional_raster_layer=r\"C:\\Users\\Lewis\\Desktop\\yesy\\stacer.crf\",\n",
    "    #variables=[\"nbart_red\", \"nbart_green\", \"nbart_blue\"])"
   ]
  },
  {
   "cell_type": "code",
   "execution_count": 56,
   "metadata": {},
   "outputs": [],
   "source": [
    "tif_layer = arcpy.CopyRaster_management(in_raster=r\"C:\\Users\\Lewis\\Desktop\\stac-f7bbc2d21a1f66550458c7c09616e602.nc\", \n",
    "                                        out_rasterdataset=r\"out6.crf\")"
   ]
  },
  {
   "cell_type": "code",
   "execution_count": null,
   "metadata": {},
   "outputs": [],
   "source": []
  },
  {
   "cell_type": "code",
   "execution_count": 1,
   "metadata": {},
   "outputs": [],
   "source": [
    "aprx = arcpy.mp.ArcGISProject('CURRENT')   \n",
    "m = aprx.activeMap\n",
    "\n",
    "\n",
    "#m.addDataFromPath(mdr)\n",
    "\n",
    "\n",
    "#m.addDataFromPath(\"in_memory/out.crf\")"
   ]
  },
  {
   "cell_type": "code",
   "execution_count": 96,
   "metadata": {},
   "outputs": [],
   "source": []
  },
  {
   "cell_type": "code",
   "execution_count": 98,
   "metadata": {},
   "outputs": [],
   "source": []
  },
  {
   "cell_type": "code",
   "execution_count": 90,
   "metadata": {},
   "outputs": [],
   "source": [
    "lyr = m.listLayers('mdr.crf')[0]"
   ]
  },
  {
   "cell_type": "code",
   "execution_count": null,
   "metadata": {},
   "outputs": [],
   "source": []
  }
 ],
 "metadata": {
  "kernelspec": {
   "display_name": "ArcGISPro",
   "language": "Python",
   "name": "python3"
  },
  "language_info": {
   "file_extension": ".py",
   "name": "python",
   "version": "3"
  }
 },
 "nbformat": 4,
 "nbformat_minor": 2
}
