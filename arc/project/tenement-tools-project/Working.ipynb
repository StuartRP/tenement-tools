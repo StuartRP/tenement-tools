{
 "cells": [
  {
   "cell_type": "code",
   "execution_count": 23,
   "metadata": {},
   "outputs": [
    {
     "name": "stdout",
     "output_type": "stream",
     "text": [
      "The autoreload extension is already loaded. To reload it, use:\n",
      "  %reload_ext autoreload\n"
     ]
    }
   ],
   "source": [
    "%load_ext autoreload\n",
    "\n",
    "import xarray as xr\n",
    "import rasterio\n",
    "import numpy as np\n",
    "import osr\n",
    "import arcpy\n",
    "\n",
    "sys.path.append(r'C:\\Users\\Lewis\\Documents\\GitHub\\tenement-tools\\modules')\n",
    "import cog"
   ]
  },
  {
   "cell_type": "code",
   "execution_count": 24,
   "metadata": {},
   "outputs": [],
   "source": [
    "ds = xr.open_dataset(r\"C:\\Users\\Lewis\\Desktop\\stac-c2a4d6ac3fee690c702ea70994c1e57b.nc\")"
   ]
  },
  {
   "cell_type": "code",
   "execution_count": 35,
   "metadata": {},
   "outputs": [],
   "source": [
    "aprx = arcpy.mp.ArcGISProject('CURRENT')   \n",
    "m = aprx.activeMap\n",
    "lyr = m.listLayers('mdr.crf')[0]"
   ]
  },
  {
   "cell_type": "code",
   "execution_count": 58,
   "metadata": {},
   "outputs": [
    {
     "ename": "RuntimeError",
     "evalue": "Invalid dataset: CIMPATH=map/mdr_crf.xml",
     "output_type": "error",
     "traceback": [
      "\u001b[0;31m---------------------------------------------------------------------------\u001b[0m\n\u001b[0;31mRuntimeError\u001b[0m                              Traceback (most recent call last)",
      "In  \u001b[0;34m[58]\u001b[0m:\nLine \u001b[0;34m8\u001b[0m:     c\n",
      "File \u001b[0;34mC:\\Program Files\\ArcGIS\\Pro\\Resources\\ArcPy\\arcpy\\charts.py\u001b[0m, in \u001b[0;32m_repr_svg_\u001b[0m:\nLine \u001b[0;34m438\u001b[0m:   \u001b[34mreturn\u001b[39;49;00m \u001b[36mself\u001b[39;49;00m.getSVG(\u001b[36mself\u001b[39;49;00m.displaySize[\u001b[34m0\u001b[39;49;00m], \u001b[36mself\u001b[39;49;00m.displaySize[\u001b[34m1\u001b[39;49;00m])\n",
      "File \u001b[0;34mC:\\Program Files\\ArcGIS\\Pro\\Resources\\ArcPy\\arcpy\\charts.py\u001b[0m, in \u001b[0;32mgetSVG\u001b[0m:\nLine \u001b[0;34m441\u001b[0m:   \u001b[34mreturn\u001b[39;49;00m _convertArcObjectToPythonObject(\u001b[36mself\u001b[39;49;00m._arc_object.getSVG(width, height))\n",
      "\u001b[0;31mRuntimeError\u001b[0m: Invalid dataset: CIMPATH=map/mdr_crf.xml\n\u001b[0;31m---------------------------------------------------------------------------\u001b[0m"
     ]
    }
   ],
   "source": [
    "c = arcpy.Chart('derp')\n",
    "c.type = 'line'\n",
    "c.title = 'hi'\n",
    "c.xAxis.field='x'\n",
    "c.yAxis.field='y'\n",
    "c.line.aggregatuib = 'median'\n",
    "c.dataSource = lyr\n"
   ]
  },
  {
   "cell_type": "code",
   "execution_count": null,
   "metadata": {},
   "outputs": [],
   "source": []
  },
  {
   "cell_type": "code",
   "execution_count": 34,
   "metadata": {},
   "outputs": [
    {
     "data": {
      "text/plain": [
       "<arcpy.charts.Chart object at 0x000002B8B0543248>"
      ]
     },
     "execution_count": 34,
     "metadata": {},
     "output_type": "execute_result"
    }
   ],
   "source": [
    "c = arcpy.Chart('test')\n",
    "c.dataSource = lyr.dataSource\n",
    "#c.type = 'dataClock'\n",
    "c"
   ]
  },
  {
   "cell_type": "code",
   "execution_count": 31,
   "metadata": {},
   "outputs": [
    {
     "data": {
      "text/plain": [
       "'C:\\\\Users\\\\Lewis\\\\Documents\\\\GitHub\\\\tenement-tools\\\\arc\\\\project\\\\tenement-tools-project\\\\mdr.crf'"
      ]
     },
     "execution_count": 31,
     "metadata": {},
     "output_type": "execute_result"
    }
   ],
   "source": [
    "c."
   ]
  },
  {
   "cell_type": "code",
   "execution_count": 9,
   "metadata": {},
   "outputs": [
    {
     "data": {
      "text/plain": [
       "<module 'arcpy.charts' from 'C:\\\\Program Files\\\\ArcGIS\\\\Pro\\\\Resources\\\\ArcPy\\\\arcpy\\\\charts.py'>"
      ]
     },
     "execution_count": 9,
     "metadata": {},
     "output_type": "execute_result"
    }
   ],
   "source": [
    "arcpy.charts.Chart."
   ]
  },
  {
   "cell_type": "code",
   "execution_count": null,
   "metadata": {},
   "outputs": [],
   "source": []
  },
  {
   "cell_type": "code",
   "execution_count": 53,
   "metadata": {},
   "outputs": [],
   "source": [
    "arcpy.env.addOutputsToMap = False\n",
    "\n",
    "# load netcdf and mdr\n",
    "mdr = arcpy.Raster(r\"C:\\Users\\Lewis\\Desktop\\stac-f7bbc2d21a1f66550458c7c09616e602.nc\", True)\n",
    "\n",
    "# check if multidim\n",
    "is_multidim = mdr.isMultidimensional\n",
    "\n",
    "# get mdim info\n",
    "mdr_info = mdr.mdinfo\n",
    "\n",
    "# get variable names\n",
    "mdr_vars = mdr.variables\n",
    "\n",
    "# get times\n",
    "#mdr_times = mdr.getDimensionValues('x' 'time')\n",
    "\n",
    "# export as mdr\n",
    "#mdr.save(\"in_memory/out4.crf\")\n",
    "mdr.save(r\"C:\\Users\\Lewis\\Desktop\\yesy\\out5.crf\")\n",
    "\n",
    "#mdr_out = arcpy.md.MakeMultidimensionalRasterLayer(\n",
    "    #in_multidimensional_raster = r\"C:\\Users\\Lewis\\Desktop\\stac-f7bbc2d21a1f66550458c7c09616e602.nc\",\n",
    "    #out_multidimensional_raster_layer=r\"C:\\Users\\Lewis\\Desktop\\yesy\\stacer.crf\",\n",
    "    #variables=[\"nbart_red\", \"nbart_green\", \"nbart_blue\"])"
   ]
  },
  {
   "cell_type": "code",
   "execution_count": 56,
   "metadata": {},
   "outputs": [],
   "source": [
    "tif_layer = arcpy.CopyRaster_management(in_raster=r\"C:\\Users\\Lewis\\Desktop\\stac-f7bbc2d21a1f66550458c7c09616e602.nc\", \n",
    "                                        out_rasterdataset=r\"out6.crf\")"
   ]
  },
  {
   "cell_type": "code",
   "execution_count": null,
   "metadata": {},
   "outputs": [],
   "source": []
  },
  {
   "cell_type": "code",
   "execution_count": 1,
   "metadata": {},
   "outputs": [],
   "source": [
    "aprx = arcpy.mp.ArcGISProject('CURRENT')   \n",
    "m = aprx.activeMap\n",
    "\n",
    "\n",
    "#m.addDataFromPath(mdr)\n",
    "\n",
    "\n",
    "#m.addDataFromPath(\"in_memory/out.crf\")"
   ]
  },
  {
   "cell_type": "code",
   "execution_count": 96,
   "metadata": {},
   "outputs": [],
   "source": []
  },
  {
   "cell_type": "code",
   "execution_count": 98,
   "metadata": {},
   "outputs": [],
   "source": []
  },
  {
   "cell_type": "code",
   "execution_count": 90,
   "metadata": {},
   "outputs": [],
   "source": [
    "lyr = m.listLayers('mdr.crf')[0]"
   ]
  },
  {
   "cell_type": "code",
   "execution_count": null,
   "metadata": {},
   "outputs": [],
   "source": []
  }
 ],
 "metadata": {
  "kernelspec": {
   "display_name": "ArcGISPro",
   "language": "Python",
   "name": "python3"
  },
  "language_info": {
   "file_extension": ".py",
   "name": "python",
   "version": "3"
  }
 },
 "nbformat": 4,
 "nbformat_minor": 2
}
