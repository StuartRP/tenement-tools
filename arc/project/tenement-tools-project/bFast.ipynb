{
 "cells": [
  {
   "cell_type": "code",
   "execution_count": 52,
   "metadata": {},
   "outputs": [],
   "source": [
    "# imports\n",
    "import os, sys\n",
    "import numpy as np\n",
    "import pandas as pd\n",
    "import xarray as xr\n",
    "import matplotlib.pyplot as plt\n",
    "\n",
    "# import tools\n",
    "#sys.path.append('../../../shared') temp for demo\n",
    "sys.path.append(r'C:\\Users\\262272G\\Documents\\GitHub\\tenement-tools\\shared')\n",
    "sys.path.append(r'C:\\Users\\Lewis\\Documents\\GitHub\\tenement-tools\\shared')\n",
    "import arc, satfetcher, tools\n",
    "\n",
    "# import gdvspectra module\n",
    "#sys.path.append('../../../modules') temp for demo\n",
    "sys.path.append(r'C:\\Users\\262272G\\Documents\\GitHub\\tenement-tools\\modules')\n",
    "sys.path.append(r'C:\\Users\\Lewis\\Documents\\GitHub\\tenement-tools\\modules')\n",
    "import gdvspectra, cog"
   ]
  },
  {
   "cell_type": "code",
   "execution_count": 53,
   "metadata": {},
   "outputs": [
    {
     "name": "stdout",
     "output_type": "stream",
     "text": [
      "Converting netcdf to an xarray dataset.\n",
      "Converted netcdf to xarray dataset: C:\\Users\\Lewis\\Curtin\\GDVII - General\\Work Package 2\\Data\\Yandi\\yandi_90_2020_2W_landsat.nc\n",
      "Netcdf converted to xarray dataset successfully.\n"
     ]
    }
   ],
   "source": [
    "# load netcdf file as xr\n",
    "in_raw_nc = r'C:\\Users\\Lewis\\Curtin\\GDVII - General\\Work Package 2\\Data\\Yandi\\yandi_90_2020_2W_landsat.nc'\n",
    "ds = satfetcher.load_local_nc(nc_path=in_raw_nc, \n",
    "                              use_dask=True, \n",
    "                              conform_nodata_to=np.nan)\n",
    "\n",
    "# subset to smaller area for testing\n",
    "ds = ds.isel(x=slice(300, 500), \n",
    "             y=slice(200, 350))\n",
    "\n",
    "# capture attributes\n",
    "band_attrs = ds['mavi'].attrs"
   ]
  },
  {
   "cell_type": "code",
   "execution_count": 48,
   "metadata": {},
   "outputs": [],
   "source": [
    "### set region of interest to a point\n",
    "# get mbr\n",
    "#lng = -12.88777; #ymin\n",
    "#lat = -69.02646; #xmax\n",
    "#lng2= -12.12106; #ymax\n",
    "#lat2= -69.58108; #xmin\n",
    "\n",
    "# create a region of interest polygon and calc midpoint\n",
    "# region = ee.Geometry.Polygon([[lat2, lng],[lat2, lng2], [lat, lng2], [lat, lng]])\n",
    "# midLat = lat2 - ((lat2 - lat) / 2);\n",
    "# midLon = lng2 - ((lng2 - lng) / 2);\n",
    "\n",
    "# create roi point\n",
    "#roi = ee.Geometry.Point(midLat, midLon);\n",
    "#roio = roi # lt: what is this?"
   ]
  },
  {
   "cell_type": "code",
   "execution_count": null,
   "metadata": {},
   "outputs": [],
   "source": [
    "### set history and monitoring period\n",
    "#historyStart = '2013-01-01';\n",
    "#historyEnd = \"2016-12-31\"\n",
    "#monitoringStart = \"2017-01-01\";\n",
    "#monitoringEnd = '2018-12-31';"
   ]
  }
 ],
 "metadata": {
  "kernelspec": {
   "display_name": "ArcGISPro",
   "language": "Python",
   "name": "python3"
  },
  "language_info": {
   "file_extension": ".py",
   "name": "python",
   "version": "3"
  }
 },
 "nbformat": 4,
 "nbformat_minor": 2
}
